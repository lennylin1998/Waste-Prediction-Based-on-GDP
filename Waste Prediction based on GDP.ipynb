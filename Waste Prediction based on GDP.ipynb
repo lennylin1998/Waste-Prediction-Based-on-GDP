{
 "cells": [
  {
   "cell_type": "markdown",
   "id": "connected-robert",
   "metadata": {},
   "source": [
    "# Project Overview\n",
    "\n",
    "In many researches, it has been confirmed that GDP and waste generated are closely linked to each other. Thus, I am going to build two models with linear regression and KNN regression algorithm to respectively. Finally, MAE will be used to compare the models' accuracy and decide which model produce the best result.\n"
   ]
  },
  {
   "cell_type": "markdown",
   "id": "affected-housing",
   "metadata": {},
   "source": [
    "# Data Source\n",
    "\n",
    "I have to tables of data which both are downloaded from the World data catalog. The first one contains mainly the waste composition, total solid waste and gdp in country scale. The second one records each country's gdp in 2019/2020. Note that I have to find another dataset for gdp because the data of gdp in table 1 are somewhat inaccurate. For that being said, this analysis may yield unexpected result due to the inconsistant data source. Thus, in this project I want to emphasize on the application of basic machine learning model, rather than try to build a model with better accurcy\n"
   ]
  },
  {
   "cell_type": "markdown",
   "id": "expected-neighbor",
   "metadata": {},
   "source": [
    "\n",
    "# Data Cleaning\n"
   ]
  },
  {
   "cell_type": "code",
   "execution_count": 105,
   "id": "injured-perfume",
   "metadata": {},
   "outputs": [
    {
     "name": "stdout",
     "output_type": "stream",
     "text": [
      "<class 'pandas.core.frame.DataFrame'>\n",
      "RangeIndex: 217 entries, 0 to 216\n",
      "Data columns (total 51 columns):\n",
      " #   Column                                                                                 Non-Null Count  Dtype  \n",
      "---  ------                                                                                 --------------  -----  \n",
      " 0   iso3c                                                                                  217 non-null    object \n",
      " 1   region_id                                                                              217 non-null    object \n",
      " 2   country_name                                                                           216 non-null    object \n",
      " 3   income_id                                                                              217 non-null    object \n",
      " 4   gdp                                                                                    216 non-null    float64\n",
      " 5   composition_food_organic_waste_percent                                                 176 non-null    float64\n",
      " 6   composition_glass_percent                                                              171 non-null    float64\n",
      " 7   composition_metal_percent                                                              170 non-null    float64\n",
      " 8   composition_other_percent                                                              175 non-null    float64\n",
      " 9   composition_paper_cardboard_percent                                                    176 non-null    float64\n",
      " 10  composition_plastic_percent                                                            175 non-null    float64\n",
      " 11  composition_rubber_leather_percent                                                     53 non-null     float64\n",
      " 12  composition_wood_percent                                                               64 non-null     float64\n",
      " 13  composition_yard_garden_green_waste_percent                                            38 non-null     float64\n",
      " 14  other_information_information_system_for_solid_waste_management                        112 non-null    object \n",
      " 15  other_information_national_agency_to_enforce_solid_waste_laws_and_regulations          164 non-null    object \n",
      " 16  other_information_national_law_governing_solid_waste_management_in_the_country         194 non-null    object \n",
      " 17  other_information_ppp_rules_and_regulations                                            162 non-null    object \n",
      " 18  other_information_summary_of_key_solid_waste_information_made_available_to_the_public  73 non-null     object \n",
      " 19  population_population_number_of_people                                                 217 non-null    int64  \n",
      " 20  special_waste_agricultural_waste_tons_year                                             53 non-null     float64\n",
      " 21  special_waste_construction_and_demolition_waste_tons_year                              74 non-null     float64\n",
      " 22  special_waste_e_waste_tons_year                                                        182 non-null    float64\n",
      " 23  special_waste_hazardous_waste_tons_year                                                118 non-null    float64\n",
      " 24  special_waste_industrial_waste_tons_year                                               40 non-null     float64\n",
      " 25  special_waste_medical_waste_tons_year                                                  105 non-null    float64\n",
      " 26  total_msw_total_msw_generated_tons_year                                                215 non-null    float64\n",
      " 27  waste_collection_coverage_rural_percent_of_geographic_area                             1 non-null      float64\n",
      " 28  waste_collection_coverage_rural_percent_of_households                                  9 non-null      float64\n",
      " 29  waste_collection_coverage_rural_percent_of_population                                  23 non-null     float64\n",
      " 30  waste_collection_coverage_rural_percent_of_waste                                       8 non-null      float64\n",
      " 31  waste_collection_coverage_total_percent_of_geographic_area                             1 non-null      float64\n",
      " 32  waste_collection_coverage_total_percent_of_households                                  12 non-null     float64\n",
      " 33  waste_collection_coverage_total_percent_of_population                                  92 non-null     float64\n",
      " 34  waste_collection_coverage_total_percent_of_waste                                       50 non-null     float64\n",
      " 35  waste_collection_coverage_urban_percent_of_geographic_area                             1 non-null      float64\n",
      " 36  waste_collection_coverage_urban_percent_of_households                                  9 non-null      float64\n",
      " 37  waste_collection_coverage_urban_percent_of_population                                  40 non-null     float64\n",
      " 38  waste_collection_coverage_urban_percent_of_waste                                       9 non-null      float64\n",
      " 39  waste_treatment_anaerobic_digestion_percent                                            2 non-null      float64\n",
      " 40  waste_treatment_compost_percent                                                        68 non-null     float64\n",
      " 41  waste_treatment_controlled_landfill_percent                                            43 non-null     float64\n",
      " 42  waste_treatment_incineration_percent                                                   48 non-null     float64\n",
      " 43  waste_treatment_landfill_unspecified_percent                                           63 non-null     float64\n",
      " 44  waste_treatment_open_dump_percent                                                      68 non-null     float64\n",
      " 45  waste_treatment_other_percent                                                          25 non-null     float64\n",
      " 46  waste_treatment_recycling_percent                                                      124 non-null    float64\n",
      " 47  waste_treatment_sanitary_landfill_landfill_gas_system_percent                          28 non-null     float64\n",
      " 48  waste_treatment_unaccounted_for_percent                                                94 non-null     float64\n",
      " 49  waste_treatment_waterways_marine_percent                                               4 non-null      float64\n",
      " 50  where_where_is_this_data_measured                                                      57 non-null     object \n",
      "dtypes: float64(40), int64(1), object(10)\n",
      "memory usage: 78.0+ KB\n",
      "None\n",
      "<class 'pandas.core.frame.DataFrame'>\n",
      "RangeIndex: 266 entries, 0 to 265\n",
      "Data columns (total 6 columns):\n",
      " #   Column          Non-Null Count  Dtype  \n",
      "---  ------          --------------  -----  \n",
      " 0   Country Name    266 non-null    object \n",
      " 1   Country Code    266 non-null    object \n",
      " 2   Indicator Name  266 non-null    object \n",
      " 3   Indicator Code  266 non-null    object \n",
      " 4   2019            247 non-null    float64\n",
      " 5   2020            223 non-null    float64\n",
      "dtypes: float64(2), object(4)\n",
      "memory usage: 8.4+ KB\n",
      "None\n"
     ]
    }
   ],
   "source": [
    "import pandas as pd\n",
    "w = pd.read_csv(r'C:\\Users\\user\\Desktop\\project\\GDP and Waste\\country_level_data_0.csv')\n",
    "g = pd.read_csv(r'C:\\Users\\user\\Desktop\\project\\GDP and Waste\\API_NY.GDP.MKTP.CD_DS2_en_csv_v2_2593330.csv')\n",
    "print(w.info())\n",
    "print(g.info())"
   ]
  },
  {
   "cell_type": "markdown",
   "id": "identical-anime",
   "metadata": {},
   "source": [
    "\n",
    "After a quick look on both table, I decided to select the columns needed and merge two dataframe.\n"
   ]
  },
  {
   "cell_type": "code",
   "execution_count": 255,
   "id": "coordinate-baghdad",
   "metadata": {},
   "outputs": [
    {
     "name": "stdout",
     "output_type": "stream",
     "text": [
      "<class 'pandas.core.frame.DataFrame'>\n",
      "Int64Index: 212 entries, 0 to 211\n",
      "Data columns (total 4 columns):\n",
      " #   Column                                   Non-Null Count  Dtype  \n",
      "---  ------                                   --------------  -----  \n",
      " 0   Country Name                             212 non-null    object \n",
      " 1   income_id                                212 non-null    object \n",
      " 2   total_msw_total_msw_generated_tons_year  210 non-null    float64\n",
      " 3   2019                                     195 non-null    float64\n",
      "dtypes: float64(2), object(2)\n",
      "memory usage: 6.6+ KB\n",
      "<class 'pandas.core.frame.DataFrame'>\n",
      "Int64Index: 194 entries, 1 to 211\n",
      "Data columns (total 4 columns):\n",
      " #   Column        Non-Null Count  Dtype  \n",
      "---  ------        --------------  -----  \n",
      " 0   Country Name  194 non-null    object \n",
      " 1   income_id     194 non-null    object \n",
      " 2   waste         194 non-null    float64\n",
      " 3   gdp           194 non-null    float64\n",
      "dtypes: float64(2), object(2)\n",
      "memory usage: 6.1+ KB\n"
     ]
    }
   ],
   "source": [
    "w1 = w[['country_name', 'income_id', 'total_msw_total_msw_generated_tons_year']].rename(columns={'country_name':'Country Name'})\n",
    "g1= g[['Country Name', '2019']]\n",
    "df = w1.merge(g1, on='Country Name', how='inner')\n",
    "df.info()\n",
    "df = df.rename(columns={'total_msw_total_msw_generated_tons_year':'waste', '2019':'gdp'})\n",
    "df_new = df.dropna(subset=['waste', 'gdp'])\n",
    "df_new.info()"
   ]
  },
  {
   "cell_type": "code",
   "execution_count": 257,
   "id": "beneficial-learning",
   "metadata": {
    "scrolled": true
   },
   "outputs": [
    {
     "data": {
      "text/html": [
       "<div>\n",
       "<style scoped>\n",
       "    .dataframe tbody tr th:only-of-type {\n",
       "        vertical-align: middle;\n",
       "    }\n",
       "\n",
       "    .dataframe tbody tr th {\n",
       "        vertical-align: top;\n",
       "    }\n",
       "\n",
       "    .dataframe thead th {\n",
       "        text-align: right;\n",
       "    }\n",
       "</style>\n",
       "<table border=\"1\" class=\"dataframe\">\n",
       "  <thead>\n",
       "    <tr style=\"text-align: right;\">\n",
       "      <th></th>\n",
       "      <th>Country Name</th>\n",
       "      <th>income_id</th>\n",
       "      <th>waste</th>\n",
       "      <th>gdp</th>\n",
       "    </tr>\n",
       "  </thead>\n",
       "  <tbody>\n",
       "    <tr>\n",
       "      <th>1</th>\n",
       "      <td>Afghanistan</td>\n",
       "      <td>LIC</td>\n",
       "      <td>5628525.370</td>\n",
       "      <td>1.929110e+10</td>\n",
       "    </tr>\n",
       "    <tr>\n",
       "      <th>2</th>\n",
       "      <td>Angola</td>\n",
       "      <td>LMC</td>\n",
       "      <td>4213643.585</td>\n",
       "      <td>8.941719e+10</td>\n",
       "    </tr>\n",
       "    <tr>\n",
       "      <th>3</th>\n",
       "      <td>Albania</td>\n",
       "      <td>UMC</td>\n",
       "      <td>1087446.750</td>\n",
       "      <td>1.528661e+10</td>\n",
       "    </tr>\n",
       "    <tr>\n",
       "      <th>4</th>\n",
       "      <td>Andorra</td>\n",
       "      <td>HIC</td>\n",
       "      <td>43000.000</td>\n",
       "      <td>3.155065e+09</td>\n",
       "    </tr>\n",
       "    <tr>\n",
       "      <th>5</th>\n",
       "      <td>United Arab Emirates</td>\n",
       "      <td>HIC</td>\n",
       "      <td>5617682.000</td>\n",
       "      <td>4.211420e+11</td>\n",
       "    </tr>\n",
       "  </tbody>\n",
       "</table>\n",
       "</div>"
      ],
      "text/plain": [
       "           Country Name income_id        waste           gdp\n",
       "1           Afghanistan       LIC  5628525.370  1.929110e+10\n",
       "2                Angola       LMC  4213643.585  8.941719e+10\n",
       "3               Albania       UMC  1087446.750  1.528661e+10\n",
       "4               Andorra       HIC    43000.000  3.155065e+09\n",
       "5  United Arab Emirates       HIC  5617682.000  4.211420e+11"
      ]
     },
     "execution_count": 257,
     "metadata": {},
     "output_type": "execute_result"
    }
   ],
   "source": [
    "df_new.head()"
   ]
  },
  {
   "cell_type": "markdown",
   "id": "married-necklace",
   "metadata": {},
   "source": [
    "\n",
    "Now I have a decent dataframe. Let's make a scatter plot to see the distribution of the two variables.\n"
   ]
  },
  {
   "cell_type": "code",
   "execution_count": 176,
   "id": "excessive-turkey",
   "metadata": {},
   "outputs": [
    {
     "data": {
      "application/vnd.plotly.v1+json": {
       "config": {
        "plotlyServerURL": "https://plot.ly"
       },
       "data": [
        {
         "hovertemplate": "<b>%{hovertext}</b><br><br>Income Level=LIC<br>GDP (US$)=%{x}<br>Total Solid Waste (Ton)=%{y}<extra></extra>",
         "hovertext": [
          "Afghanistan",
          "Burundi",
          "Benin",
          "Burkina Faso",
          "Central African Republic",
          "Congo, Dem. Rep.",
          "Comoros",
          "Ethiopia",
          "Guinea",
          "Gambia, The",
          "Guinea-Bissau",
          "Haiti",
          "Liberia",
          "Madagascar",
          "Mali",
          "Mozambique",
          "Malawi",
          "Niger",
          "Nepal",
          "Rwanda",
          "Senegal",
          "Sierra Leone",
          "Somalia",
          "Chad",
          "Togo",
          "Tajikistan",
          "Tanzania",
          "Uganda",
          "Zimbabwe"
         ],
         "legendgroup": "LIC",
         "marker": {
          "color": "#636efa",
          "symbol": "circle"
         },
         "mode": "markers",
         "name": "LIC",
         "orientation": "v",
         "showlegend": true,
         "type": "scatter",
         "x": [
          19291104008,
          3012308946,
          14391686309,
          15990803570,
          2220307319,
          50400746171,
          1165839900,
          95912590628,
          13513809258,
          1826073740,
          1439638443,
          14332163266,
          3070518100,
          14191911512,
          17281815734,
          15291448212,
          10862613622,
          12911689659,
          34186180695,
          10355974217,
          23306213742,
          4121733705,
          4942319041,
          11314951343,
          7220395248,
          8300784857,
          61136873747,
          35170037381,
          16932434839
         ],
         "xaxis": "x",
         "y": [
          5628525.37,
          1872016,
          685936.01,
          2575251.11,
          1105983,
          14385226.02,
          91013,
          6532786.97,
          596911,
          193440.54,
          289514,
          2309852.45485,
          564466.7,
          3768759.16,
          1937354.44,
          2500000,
          1297844.48,
          1865645.67,
          1768977.49,
          4384969,
          2454059.25,
          610222.09,
          2326099.17,
          1358850.53,
          1109030.45,
          1787400,
          9276995,
          7045049.836,
          1449752
         ],
         "yaxis": "y"
        },
        {
         "hovertemplate": "<b>%{hovertext}</b><br><br>Income Level=LMC<br>GDP (US$)=%{x}<br>Total Solid Waste (Ton)=%{y}<extra></extra>",
         "hovertext": [
          "Angola",
          "Bangladesh",
          "Bolivia",
          "Bhutan",
          "Cameroon",
          "Congo, Rep.",
          "Cabo Verde",
          "Djibouti",
          "Egypt, Arab Rep.",
          "Micronesia, Fed. Sts.",
          "Georgia",
          "Ghana",
          "Honduras",
          "Indonesia",
          "India",
          "Kenya",
          "Kyrgyz Republic",
          "Cambodia",
          "Kiribati",
          "Lao PDR",
          "Sri Lanka",
          "Lesotho",
          "Morocco",
          "Moldova",
          "Myanmar",
          "Mongolia",
          "Mauritania",
          "Nigeria",
          "Nicaragua",
          "Pakistan",
          "Philippines",
          "Papua New Guinea",
          "West Bank and Gaza",
          "Sudan",
          "Solomon Islands",
          "El Salvador",
          "Eswatini",
          "Timor-Leste",
          "Tunisia",
          "Ukraine",
          "Uzbekistan",
          "Vietnam",
          "Vanuatu",
          "Kosovo",
          "Zambia"
         ],
         "legendgroup": "LMC",
         "marker": {
          "color": "#EF553B",
          "symbol": "circle"
         },
         "mode": "markers",
         "name": "LMC",
         "orientation": "v",
         "showlegend": true,
         "type": "scatter",
         "x": [
          89417190341,
          302563000000,
          40895322851,
          2530547158,
          39007354359,
          12693562948,
          1981845741,
          3324634256,
          303081000000,
          408060600,
          17477255562,
          67234292583,
          25089976947,
          1119090000000,
          2870500000000,
          95503088538,
          8871019823,
          27089389787,
          194647201.9,
          18245925331,
          83975584254,
          2366213069,
          119700000000,
          11968699006,
          79844294296,
          13996719329,
          7600650038,
          448120000000,
          12611218627,
          278222000000,
          376823000000,
          24829107011,
          17133500000,
          32250448249,
          1570215577,
          26896660000,
          4471598727,
          2017924900,
          39195716330,
          153930000000,
          57726542785,
          261921000000,
          930337960,
          7953156068,
          23308688906
         ],
         "xaxis": "x",
         "y": [
          4213643.585,
          14778497.33,
          2219052,
          111314.05,
          3270616.59,
          451200,
          132555,
          114997.24900398408,
          21000000,
          26039.57,
          800000,
          3538274.97825,
          2162027.69575,
          65200000,
          189750000,
          5595099,
          1113300,
          1089000,
          35723.8275,
          351900,
          2631650,
          73457,
          6852000,
          3981200,
          4677306.52914,
          2900000,
          454000,
          27614830.07185,
          1528816.29335,
          30760000,
          14631922.9,
          1000000,
          1387000,
          2831291,
          179971.964375,
          1648996.18,
          218199.47,
          63875,
          2700000,
          15242025,
          4000000,
          9570300,
          70225.489,
          319000,
          2608268
         ],
         "yaxis": "y"
        },
        {
         "hovertemplate": "<b>%{hovertext}</b><br><br>Income Level=UMC<br>GDP (US$)=%{x}<br>Total Solid Waste (Ton)=%{y}<extra></extra>",
         "hovertext": [
          "Albania",
          "Armenia",
          "American Samoa",
          "Azerbaijan",
          "Bulgaria",
          "Bosnia and Herzegovina",
          "Belarus",
          "Belize",
          "Brazil",
          "Botswana",
          "China",
          "Colombia",
          "Costa Rica",
          "Cuba",
          "Dominica",
          "Dominican Republic",
          "Algeria",
          "Ecuador",
          "Fiji",
          "Gabon",
          "Equatorial Guinea",
          "Grenada",
          "Guatemala",
          "Guyana",
          "Iran, Islamic Rep.",
          "Iraq",
          "Jamaica",
          "Jordan",
          "Kazakhstan",
          "Lebanon",
          "Libya",
          "St. Lucia",
          "Maldives",
          "Mexico",
          "Marshall Islands",
          "Montenegro",
          "Mauritius",
          "Malaysia",
          "Namibia",
          "Nauru",
          "Peru",
          "Paraguay",
          "Romania",
          "Russian Federation",
          "Serbia",
          "Suriname",
          "Thailand",
          "Turkmenistan",
          "Tonga",
          "Turkey",
          "Tuvalu",
          "St. Vincent and the Grenadines",
          "Samoa",
          "South Africa"
         ],
         "legendgroup": "UMC",
         "marker": {
          "color": "#00cc96",
          "symbol": "circle"
         },
         "mode": "markers",
         "name": "UMC",
         "orientation": "v",
         "showlegend": true,
         "type": "scatter",
         "x": [
          15286612573,
          13672802158,
          638000000,
          48174235294,
          68558815112,
          20202479538,
          64409647194,
          1982518541,
          1877810000000,
          18362348888,
          14279900000000,
          323430000000,
          63951114302,
          103131000000,
          574607407.4,
          88941299734,
          171158000000,
          108108000000,
          5496250694,
          16874450215,
          11417278045,
          1211403704,
          77020015201,
          5173759528,
          258245000000,
          222434000000,
          15830768550,
          44502895915,
          181667000000,
          51991634492,
          52091152228,
          2122450630,
          5642179170,
          1268870000000,
          239462200,
          5542674765,
          14046337855,
          364681000000,
          12565772085,
          118223430.1,
          228471000000,
          37906944075,
          249697000000,
          1687450000000,
          51475016532,
          4221373022,
          544264000000,
          45231428571,
          512350059.4,
          761428000000,
          47271463.33,
          824718518.5,
          852250191,
          351432000000
         ],
         "xaxis": "x",
         "y": [
          1087446.75,
          492800,
          18989.49,
          2930349,
          2859190,
          1248718,
          4280000,
          101378.83030000002,
          79069584,
          210854.44261891601,
          395081376,
          12150120,
          1460000,
          2692691.98,
          13176,
          4063910,
          12378740,
          5297211.142533937,
          189389.59399999998,
          238102.31,
          198443.06,
          29536.113936927773,
          2756740.97135,
          179251.5,
          17885000,
          13140000,
          1051694.575,
          2529997,
          4659740,
          2040000,
          2147596.47175,
          77616.228,
          211505.78,
          53100000,
          8614,
          329780.3125,
          438000,
          12982685,
          256729,
          6191.7505,
          8356711.13,
          1818501.3648,
          5419832.5,
          60000000,
          2347401.5,
          78619.79914999999,
          26853366,
          500000,
          17238.20175,
          35374156,
          3989.4865,
          31561.34925,
          27399.09,
          18457232
         ],
         "yaxis": "y"
        },
        {
         "hovertemplate": "<b>%{hovertext}</b><br><br>Income Level=HIC<br>GDP (US$)=%{x}<br>Total Solid Waste (Ton)=%{y}<extra></extra>",
         "hovertext": [
          "Andorra",
          "United Arab Emirates",
          "Argentina",
          "Antigua and Barbuda",
          "Australia",
          "Austria",
          "Belgium",
          "Bahrain",
          "Bahamas, The",
          "Bermuda",
          "Barbados",
          "Brunei Darussalam",
          "Canada",
          "Switzerland",
          "Chile",
          "Curacao",
          "Cayman Islands",
          "Cyprus",
          "Czech Republic",
          "Germany",
          "Denmark",
          "Spain",
          "Estonia",
          "Finland",
          "France",
          "United Kingdom",
          "Greece",
          "Guam",
          "Hong Kong SAR, China",
          "Croatia",
          "Hungary",
          "Ireland",
          "Iceland",
          "Israel",
          "Italy",
          "Japan",
          "St. Kitts and Nevis",
          "Korea, Rep.",
          "Kuwait",
          "Lithuania",
          "Luxembourg",
          "Latvia",
          "Macao SAR, China",
          "Monaco",
          "Malta",
          "Northern Mariana Islands",
          "Netherlands",
          "Norway",
          "New Zealand",
          "Oman",
          "Panama",
          "Palau",
          "Poland",
          "Puerto Rico",
          "Portugal",
          "Qatar",
          "Saudi Arabia",
          "Singapore",
          "San Marino",
          "Slovak Republic",
          "Slovenia",
          "Sweden",
          "Seychelles",
          "Trinidad and Tobago",
          "Uruguay",
          "United States"
         ],
         "legendgroup": "HIC",
         "marker": {
          "color": "#ab63fa",
          "symbol": "circle"
         },
         "mode": "markers",
         "name": "HIC",
         "orientation": "v",
         "showlegend": true,
         "type": "scatter",
         "x": [
          3155065488,
          421142000000,
          445445000000,
          1661962963,
          1396570000000,
          445075000000,
          533255000000,
          38474521277,
          13578800000,
          7484113000,
          5209000000,
          13469422941,
          1741580000000,
          731474000000,
          279385000000,
          3101787709,
          5935769351,
          24949065264,
          250686000000,
          3861120000000,
          350104000000,
          1393490000000,
          31471100656,
          268966000000,
          2715520000000,
          2830810000000,
          205327000000,
          6311000000,
          363016000000,
          60752588976,
          163504000000,
          398590000000,
          24836714771,
          394652000000,
          2004910000000,
          5064870000000,
          1044711111,
          1646740000000,
          136197000000,
          54639938780,
          71104919108,
          34055464655,
          55153707949,
          7423709840,
          15215714309,
          1182000000,
          907051000000,
          405510000000,
          209127000000,
          76331518669,
          66787900000,
          268354900,
          595862000000,
          104915000000,
          239511000000,
          175838000000,
          792967000000,
          374386000000,
          1616369646,
          105119000000,
          54174227309,
          531283000000,
          1581380269,
          23208326548,
          61231149881,
          21433200000000
         ],
         "xaxis": "x",
         "y": [
          43000,
          5617682,
          17910550,
          30585,
          13345000,
          5219715.5,
          4765883,
          951942.96945,
          264000,
          82000,
          174815.44444444447,
          216253.156,
          25103034,
          6079556,
          6517000,
          24703.813200000004,
          60000,
          769485.125,
          5334854.5,
          50627876,
          4910858.5,
          22408548,
          489511.71875,
          3124497.75,
          36748820,
          30771140,
          5615352.5,
          141500,
          5679816.465,
          1810037.5,
          3780970.25,
          2910655,
          225270.40625,
          5400000,
          30088400,
          42720000,
          32892.14,
          20452776,
          1750000,
          1315390.375,
          490337.75,
          839714.375,
          377942,
          46000,
          348841.1875,
          32761.4145,
          8805088,
          4149967.25,
          3405000,
          1734885.15,
          1472262.2151499996,
          9426.7455,
          12758213,
          4170953,
          5268211,
          1000990.016,
          16125700.584,
          1870000,
          17174.68,
          2296164.75,
          1052324.75,
          4618168.5,
          48000,
          727874,
          1260139.5086500002,
          265224528
         ],
         "yaxis": "y"
        }
       ],
       "layout": {
        "legend": {
         "title": {
          "text": "Income Level"
         },
         "tracegroupgap": 0
        },
        "margin": {
         "t": 60
        },
        "template": {
         "data": {
          "bar": [
           {
            "error_x": {
             "color": "#2a3f5f"
            },
            "error_y": {
             "color": "#2a3f5f"
            },
            "marker": {
             "line": {
              "color": "#E5ECF6",
              "width": 0.5
             },
             "pattern": {
              "fillmode": "overlay",
              "size": 10,
              "solidity": 0.2
             }
            },
            "type": "bar"
           }
          ],
          "barpolar": [
           {
            "marker": {
             "line": {
              "color": "#E5ECF6",
              "width": 0.5
             },
             "pattern": {
              "fillmode": "overlay",
              "size": 10,
              "solidity": 0.2
             }
            },
            "type": "barpolar"
           }
          ],
          "carpet": [
           {
            "aaxis": {
             "endlinecolor": "#2a3f5f",
             "gridcolor": "white",
             "linecolor": "white",
             "minorgridcolor": "white",
             "startlinecolor": "#2a3f5f"
            },
            "baxis": {
             "endlinecolor": "#2a3f5f",
             "gridcolor": "white",
             "linecolor": "white",
             "minorgridcolor": "white",
             "startlinecolor": "#2a3f5f"
            },
            "type": "carpet"
           }
          ],
          "choropleth": [
           {
            "colorbar": {
             "outlinewidth": 0,
             "ticks": ""
            },
            "type": "choropleth"
           }
          ],
          "contour": [
           {
            "colorbar": {
             "outlinewidth": 0,
             "ticks": ""
            },
            "colorscale": [
             [
              0,
              "#0d0887"
             ],
             [
              0.1111111111111111,
              "#46039f"
             ],
             [
              0.2222222222222222,
              "#7201a8"
             ],
             [
              0.3333333333333333,
              "#9c179e"
             ],
             [
              0.4444444444444444,
              "#bd3786"
             ],
             [
              0.5555555555555556,
              "#d8576b"
             ],
             [
              0.6666666666666666,
              "#ed7953"
             ],
             [
              0.7777777777777778,
              "#fb9f3a"
             ],
             [
              0.8888888888888888,
              "#fdca26"
             ],
             [
              1,
              "#f0f921"
             ]
            ],
            "type": "contour"
           }
          ],
          "contourcarpet": [
           {
            "colorbar": {
             "outlinewidth": 0,
             "ticks": ""
            },
            "type": "contourcarpet"
           }
          ],
          "heatmap": [
           {
            "colorbar": {
             "outlinewidth": 0,
             "ticks": ""
            },
            "colorscale": [
             [
              0,
              "#0d0887"
             ],
             [
              0.1111111111111111,
              "#46039f"
             ],
             [
              0.2222222222222222,
              "#7201a8"
             ],
             [
              0.3333333333333333,
              "#9c179e"
             ],
             [
              0.4444444444444444,
              "#bd3786"
             ],
             [
              0.5555555555555556,
              "#d8576b"
             ],
             [
              0.6666666666666666,
              "#ed7953"
             ],
             [
              0.7777777777777778,
              "#fb9f3a"
             ],
             [
              0.8888888888888888,
              "#fdca26"
             ],
             [
              1,
              "#f0f921"
             ]
            ],
            "type": "heatmap"
           }
          ],
          "heatmapgl": [
           {
            "colorbar": {
             "outlinewidth": 0,
             "ticks": ""
            },
            "colorscale": [
             [
              0,
              "#0d0887"
             ],
             [
              0.1111111111111111,
              "#46039f"
             ],
             [
              0.2222222222222222,
              "#7201a8"
             ],
             [
              0.3333333333333333,
              "#9c179e"
             ],
             [
              0.4444444444444444,
              "#bd3786"
             ],
             [
              0.5555555555555556,
              "#d8576b"
             ],
             [
              0.6666666666666666,
              "#ed7953"
             ],
             [
              0.7777777777777778,
              "#fb9f3a"
             ],
             [
              0.8888888888888888,
              "#fdca26"
             ],
             [
              1,
              "#f0f921"
             ]
            ],
            "type": "heatmapgl"
           }
          ],
          "histogram": [
           {
            "marker": {
             "pattern": {
              "fillmode": "overlay",
              "size": 10,
              "solidity": 0.2
             }
            },
            "type": "histogram"
           }
          ],
          "histogram2d": [
           {
            "colorbar": {
             "outlinewidth": 0,
             "ticks": ""
            },
            "colorscale": [
             [
              0,
              "#0d0887"
             ],
             [
              0.1111111111111111,
              "#46039f"
             ],
             [
              0.2222222222222222,
              "#7201a8"
             ],
             [
              0.3333333333333333,
              "#9c179e"
             ],
             [
              0.4444444444444444,
              "#bd3786"
             ],
             [
              0.5555555555555556,
              "#d8576b"
             ],
             [
              0.6666666666666666,
              "#ed7953"
             ],
             [
              0.7777777777777778,
              "#fb9f3a"
             ],
             [
              0.8888888888888888,
              "#fdca26"
             ],
             [
              1,
              "#f0f921"
             ]
            ],
            "type": "histogram2d"
           }
          ],
          "histogram2dcontour": [
           {
            "colorbar": {
             "outlinewidth": 0,
             "ticks": ""
            },
            "colorscale": [
             [
              0,
              "#0d0887"
             ],
             [
              0.1111111111111111,
              "#46039f"
             ],
             [
              0.2222222222222222,
              "#7201a8"
             ],
             [
              0.3333333333333333,
              "#9c179e"
             ],
             [
              0.4444444444444444,
              "#bd3786"
             ],
             [
              0.5555555555555556,
              "#d8576b"
             ],
             [
              0.6666666666666666,
              "#ed7953"
             ],
             [
              0.7777777777777778,
              "#fb9f3a"
             ],
             [
              0.8888888888888888,
              "#fdca26"
             ],
             [
              1,
              "#f0f921"
             ]
            ],
            "type": "histogram2dcontour"
           }
          ],
          "mesh3d": [
           {
            "colorbar": {
             "outlinewidth": 0,
             "ticks": ""
            },
            "type": "mesh3d"
           }
          ],
          "parcoords": [
           {
            "line": {
             "colorbar": {
              "outlinewidth": 0,
              "ticks": ""
             }
            },
            "type": "parcoords"
           }
          ],
          "pie": [
           {
            "automargin": true,
            "type": "pie"
           }
          ],
          "scatter": [
           {
            "marker": {
             "colorbar": {
              "outlinewidth": 0,
              "ticks": ""
             }
            },
            "type": "scatter"
           }
          ],
          "scatter3d": [
           {
            "line": {
             "colorbar": {
              "outlinewidth": 0,
              "ticks": ""
             }
            },
            "marker": {
             "colorbar": {
              "outlinewidth": 0,
              "ticks": ""
             }
            },
            "type": "scatter3d"
           }
          ],
          "scattercarpet": [
           {
            "marker": {
             "colorbar": {
              "outlinewidth": 0,
              "ticks": ""
             }
            },
            "type": "scattercarpet"
           }
          ],
          "scattergeo": [
           {
            "marker": {
             "colorbar": {
              "outlinewidth": 0,
              "ticks": ""
             }
            },
            "type": "scattergeo"
           }
          ],
          "scattergl": [
           {
            "marker": {
             "colorbar": {
              "outlinewidth": 0,
              "ticks": ""
             }
            },
            "type": "scattergl"
           }
          ],
          "scattermapbox": [
           {
            "marker": {
             "colorbar": {
              "outlinewidth": 0,
              "ticks": ""
             }
            },
            "type": "scattermapbox"
           }
          ],
          "scatterpolar": [
           {
            "marker": {
             "colorbar": {
              "outlinewidth": 0,
              "ticks": ""
             }
            },
            "type": "scatterpolar"
           }
          ],
          "scatterpolargl": [
           {
            "marker": {
             "colorbar": {
              "outlinewidth": 0,
              "ticks": ""
             }
            },
            "type": "scatterpolargl"
           }
          ],
          "scatterternary": [
           {
            "marker": {
             "colorbar": {
              "outlinewidth": 0,
              "ticks": ""
             }
            },
            "type": "scatterternary"
           }
          ],
          "surface": [
           {
            "colorbar": {
             "outlinewidth": 0,
             "ticks": ""
            },
            "colorscale": [
             [
              0,
              "#0d0887"
             ],
             [
              0.1111111111111111,
              "#46039f"
             ],
             [
              0.2222222222222222,
              "#7201a8"
             ],
             [
              0.3333333333333333,
              "#9c179e"
             ],
             [
              0.4444444444444444,
              "#bd3786"
             ],
             [
              0.5555555555555556,
              "#d8576b"
             ],
             [
              0.6666666666666666,
              "#ed7953"
             ],
             [
              0.7777777777777778,
              "#fb9f3a"
             ],
             [
              0.8888888888888888,
              "#fdca26"
             ],
             [
              1,
              "#f0f921"
             ]
            ],
            "type": "surface"
           }
          ],
          "table": [
           {
            "cells": {
             "fill": {
              "color": "#EBF0F8"
             },
             "line": {
              "color": "white"
             }
            },
            "header": {
             "fill": {
              "color": "#C8D4E3"
             },
             "line": {
              "color": "white"
             }
            },
            "type": "table"
           }
          ]
         },
         "layout": {
          "annotationdefaults": {
           "arrowcolor": "#2a3f5f",
           "arrowhead": 0,
           "arrowwidth": 1
          },
          "autotypenumbers": "strict",
          "coloraxis": {
           "colorbar": {
            "outlinewidth": 0,
            "ticks": ""
           }
          },
          "colorscale": {
           "diverging": [
            [
             0,
             "#8e0152"
            ],
            [
             0.1,
             "#c51b7d"
            ],
            [
             0.2,
             "#de77ae"
            ],
            [
             0.3,
             "#f1b6da"
            ],
            [
             0.4,
             "#fde0ef"
            ],
            [
             0.5,
             "#f7f7f7"
            ],
            [
             0.6,
             "#e6f5d0"
            ],
            [
             0.7,
             "#b8e186"
            ],
            [
             0.8,
             "#7fbc41"
            ],
            [
             0.9,
             "#4d9221"
            ],
            [
             1,
             "#276419"
            ]
           ],
           "sequential": [
            [
             0,
             "#0d0887"
            ],
            [
             0.1111111111111111,
             "#46039f"
            ],
            [
             0.2222222222222222,
             "#7201a8"
            ],
            [
             0.3333333333333333,
             "#9c179e"
            ],
            [
             0.4444444444444444,
             "#bd3786"
            ],
            [
             0.5555555555555556,
             "#d8576b"
            ],
            [
             0.6666666666666666,
             "#ed7953"
            ],
            [
             0.7777777777777778,
             "#fb9f3a"
            ],
            [
             0.8888888888888888,
             "#fdca26"
            ],
            [
             1,
             "#f0f921"
            ]
           ],
           "sequentialminus": [
            [
             0,
             "#0d0887"
            ],
            [
             0.1111111111111111,
             "#46039f"
            ],
            [
             0.2222222222222222,
             "#7201a8"
            ],
            [
             0.3333333333333333,
             "#9c179e"
            ],
            [
             0.4444444444444444,
             "#bd3786"
            ],
            [
             0.5555555555555556,
             "#d8576b"
            ],
            [
             0.6666666666666666,
             "#ed7953"
            ],
            [
             0.7777777777777778,
             "#fb9f3a"
            ],
            [
             0.8888888888888888,
             "#fdca26"
            ],
            [
             1,
             "#f0f921"
            ]
           ]
          },
          "colorway": [
           "#636efa",
           "#EF553B",
           "#00cc96",
           "#ab63fa",
           "#FFA15A",
           "#19d3f3",
           "#FF6692",
           "#B6E880",
           "#FF97FF",
           "#FECB52"
          ],
          "font": {
           "color": "#2a3f5f"
          },
          "geo": {
           "bgcolor": "white",
           "lakecolor": "white",
           "landcolor": "#E5ECF6",
           "showlakes": true,
           "showland": true,
           "subunitcolor": "white"
          },
          "hoverlabel": {
           "align": "left"
          },
          "hovermode": "closest",
          "mapbox": {
           "style": "light"
          },
          "paper_bgcolor": "white",
          "plot_bgcolor": "#E5ECF6",
          "polar": {
           "angularaxis": {
            "gridcolor": "white",
            "linecolor": "white",
            "ticks": ""
           },
           "bgcolor": "#E5ECF6",
           "radialaxis": {
            "gridcolor": "white",
            "linecolor": "white",
            "ticks": ""
           }
          },
          "scene": {
           "xaxis": {
            "backgroundcolor": "#E5ECF6",
            "gridcolor": "white",
            "gridwidth": 2,
            "linecolor": "white",
            "showbackground": true,
            "ticks": "",
            "zerolinecolor": "white"
           },
           "yaxis": {
            "backgroundcolor": "#E5ECF6",
            "gridcolor": "white",
            "gridwidth": 2,
            "linecolor": "white",
            "showbackground": true,
            "ticks": "",
            "zerolinecolor": "white"
           },
           "zaxis": {
            "backgroundcolor": "#E5ECF6",
            "gridcolor": "white",
            "gridwidth": 2,
            "linecolor": "white",
            "showbackground": true,
            "ticks": "",
            "zerolinecolor": "white"
           }
          },
          "shapedefaults": {
           "line": {
            "color": "#2a3f5f"
           }
          },
          "ternary": {
           "aaxis": {
            "gridcolor": "white",
            "linecolor": "white",
            "ticks": ""
           },
           "baxis": {
            "gridcolor": "white",
            "linecolor": "white",
            "ticks": ""
           },
           "bgcolor": "#E5ECF6",
           "caxis": {
            "gridcolor": "white",
            "linecolor": "white",
            "ticks": ""
           }
          },
          "title": {
           "x": 0.05
          },
          "xaxis": {
           "automargin": true,
           "gridcolor": "white",
           "linecolor": "white",
           "ticks": "",
           "title": {
            "standoff": 15
           },
           "zerolinecolor": "white",
           "zerolinewidth": 2
          },
          "yaxis": {
           "automargin": true,
           "gridcolor": "white",
           "linecolor": "white",
           "ticks": "",
           "title": {
            "standoff": 15
           },
           "zerolinecolor": "white",
           "zerolinewidth": 2
          }
         }
        },
        "xaxis": {
         "anchor": "y",
         "domain": [
          0,
          1
         ],
         "title": {
          "text": "GDP (US$)"
         }
        },
        "yaxis": {
         "anchor": "x",
         "domain": [
          0,
          1
         ],
         "title": {
          "text": "Total Solid Waste (Ton)"
         }
        }
       }
      },
      "text/html": [
       "<div>                            <div id=\"7adccb51-232b-46ed-8a2c-39a6f5860564\" class=\"plotly-graph-div\" style=\"height:525px; width:100%;\"></div>            <script type=\"text/javascript\">                require([\"plotly\"], function(Plotly) {                    window.PLOTLYENV=window.PLOTLYENV || {};                                    if (document.getElementById(\"7adccb51-232b-46ed-8a2c-39a6f5860564\")) {                    Plotly.newPlot(                        \"7adccb51-232b-46ed-8a2c-39a6f5860564\",                        [{\"hovertemplate\":\"<b>%{hovertext}</b><br><br>Income Level=LIC<br>GDP (US$)=%{x}<br>Total Solid Waste (Ton)=%{y}<extra></extra>\",\"hovertext\":[\"Afghanistan\",\"Burundi\",\"Benin\",\"Burkina Faso\",\"Central African Republic\",\"Congo, Dem. Rep.\",\"Comoros\",\"Ethiopia\",\"Guinea\",\"Gambia, The\",\"Guinea-Bissau\",\"Haiti\",\"Liberia\",\"Madagascar\",\"Mali\",\"Mozambique\",\"Malawi\",\"Niger\",\"Nepal\",\"Rwanda\",\"Senegal\",\"Sierra Leone\",\"Somalia\",\"Chad\",\"Togo\",\"Tajikistan\",\"Tanzania\",\"Uganda\",\"Zimbabwe\"],\"legendgroup\":\"LIC\",\"marker\":{\"color\":\"#636efa\",\"symbol\":\"circle\"},\"mode\":\"markers\",\"name\":\"LIC\",\"orientation\":\"v\",\"showlegend\":true,\"type\":\"scatter\",\"x\":[19291104008.0,3012308946.0,14391686309.0,15990803570.0,2220307319.0,50400746171.0,1165839900.0,95912590628.0,13513809258.0,1826073740.0,1439638443.0,14332163266.0,3070518100.0,14191911512.0,17281815734.0,15291448212.0,10862613622.0,12911689659.0,34186180695.0,10355974217.0,23306213742.0,4121733705.0,4942319041.0,11314951343.0,7220395248.0,8300784857.0,61136873747.0,35170037381.0,16932434839.0],\"xaxis\":\"x\",\"y\":[5628525.37,1872016.0,685936.01,2575251.11,1105983.0,14385226.02,91013.0,6532786.97,596911.0,193440.54,289514.0,2309852.45485,564466.7,3768759.16,1937354.44,2500000.0,1297844.48,1865645.67,1768977.49,4384969.0,2454059.25,610222.09,2326099.17,1358850.53,1109030.45,1787400.0,9276995.0,7045049.836,1449752.0],\"yaxis\":\"y\"},{\"hovertemplate\":\"<b>%{hovertext}</b><br><br>Income Level=LMC<br>GDP (US$)=%{x}<br>Total Solid Waste (Ton)=%{y}<extra></extra>\",\"hovertext\":[\"Angola\",\"Bangladesh\",\"Bolivia\",\"Bhutan\",\"Cameroon\",\"Congo, Rep.\",\"Cabo Verde\",\"Djibouti\",\"Egypt, Arab Rep.\",\"Micronesia, Fed. Sts.\",\"Georgia\",\"Ghana\",\"Honduras\",\"Indonesia\",\"India\",\"Kenya\",\"Kyrgyz Republic\",\"Cambodia\",\"Kiribati\",\"Lao PDR\",\"Sri Lanka\",\"Lesotho\",\"Morocco\",\"Moldova\",\"Myanmar\",\"Mongolia\",\"Mauritania\",\"Nigeria\",\"Nicaragua\",\"Pakistan\",\"Philippines\",\"Papua New Guinea\",\"West Bank and Gaza\",\"Sudan\",\"Solomon Islands\",\"El Salvador\",\"Eswatini\",\"Timor-Leste\",\"Tunisia\",\"Ukraine\",\"Uzbekistan\",\"Vietnam\",\"Vanuatu\",\"Kosovo\",\"Zambia\"],\"legendgroup\":\"LMC\",\"marker\":{\"color\":\"#EF553B\",\"symbol\":\"circle\"},\"mode\":\"markers\",\"name\":\"LMC\",\"orientation\":\"v\",\"showlegend\":true,\"type\":\"scatter\",\"x\":[89417190341.0,302563000000.0,40895322851.0,2530547158.0,39007354359.0,12693562948.0,1981845741.0,3324634256.0,303081000000.0,408060600.0,17477255562.0,67234292583.0,25089976947.0,1119090000000.0,2870500000000.0,95503088538.0,8871019823.0,27089389787.0,194647201.9,18245925331.0,83975584254.0,2366213069.0,119700000000.0,11968699006.0,79844294296.0,13996719329.0,7600650038.0,448120000000.0,12611218627.0,278222000000.0,376823000000.0,24829107011.0,17133500000.0,32250448249.0,1570215577.0,26896660000.0,4471598727.0,2017924900.0,39195716330.0,153930000000.0,57726542785.0,261921000000.0,930337960.0,7953156068.0,23308688906.0],\"xaxis\":\"x\",\"y\":[4213643.585,14778497.33,2219052.0,111314.05,3270616.59,451200.0,132555.0,114997.24900398408,21000000.0,26039.57,800000.0,3538274.97825,2162027.69575,65200000.0,189750000.0,5595099.0,1113300.0,1089000.0,35723.8275,351900.0,2631650.0,73457.0,6852000.0,3981200.0,4677306.52914,2900000.0,454000.0,27614830.07185,1528816.29335,30760000.0,14631922.9,1000000.0,1387000.0,2831291.0,179971.964375,1648996.18,218199.47,63875.0,2700000.0,15242025.0,4000000.0,9570300.0,70225.489,319000.0,2608268.0],\"yaxis\":\"y\"},{\"hovertemplate\":\"<b>%{hovertext}</b><br><br>Income Level=UMC<br>GDP (US$)=%{x}<br>Total Solid Waste (Ton)=%{y}<extra></extra>\",\"hovertext\":[\"Albania\",\"Armenia\",\"American Samoa\",\"Azerbaijan\",\"Bulgaria\",\"Bosnia and Herzegovina\",\"Belarus\",\"Belize\",\"Brazil\",\"Botswana\",\"China\",\"Colombia\",\"Costa Rica\",\"Cuba\",\"Dominica\",\"Dominican Republic\",\"Algeria\",\"Ecuador\",\"Fiji\",\"Gabon\",\"Equatorial Guinea\",\"Grenada\",\"Guatemala\",\"Guyana\",\"Iran, Islamic Rep.\",\"Iraq\",\"Jamaica\",\"Jordan\",\"Kazakhstan\",\"Lebanon\",\"Libya\",\"St. Lucia\",\"Maldives\",\"Mexico\",\"Marshall Islands\",\"Montenegro\",\"Mauritius\",\"Malaysia\",\"Namibia\",\"Nauru\",\"Peru\",\"Paraguay\",\"Romania\",\"Russian Federation\",\"Serbia\",\"Suriname\",\"Thailand\",\"Turkmenistan\",\"Tonga\",\"Turkey\",\"Tuvalu\",\"St. Vincent and the Grenadines\",\"Samoa\",\"South Africa\"],\"legendgroup\":\"UMC\",\"marker\":{\"color\":\"#00cc96\",\"symbol\":\"circle\"},\"mode\":\"markers\",\"name\":\"UMC\",\"orientation\":\"v\",\"showlegend\":true,\"type\":\"scatter\",\"x\":[15286612573.0,13672802158.0,638000000.0,48174235294.0,68558815112.0,20202479538.0,64409647194.0,1982518541.0,1877810000000.0,18362348888.0,14279900000000.0,323430000000.0,63951114302.0,103131000000.0,574607407.4,88941299734.0,171158000000.0,108108000000.0,5496250694.0,16874450215.0,11417278045.0,1211403704.0,77020015201.0,5173759528.0,258245000000.0,222434000000.0,15830768550.0,44502895915.0,181667000000.0,51991634492.0,52091152228.0,2122450630.0,5642179170.0,1268870000000.0,239462200.0,5542674765.0,14046337855.0,364681000000.0,12565772085.0,118223430.1,228471000000.0,37906944075.0,249697000000.0,1687450000000.0,51475016532.0,4221373022.0,544264000000.0,45231428571.0,512350059.4,761428000000.0,47271463.33,824718518.5,852250191.0,351432000000.0],\"xaxis\":\"x\",\"y\":[1087446.75,492800.0,18989.49,2930349.0,2859190.0,1248718.0,4280000.0,101378.83030000002,79069584.0,210854.44261891601,395081376.0,12150120.0,1460000.0,2692691.98,13176.0,4063910.0,12378740.0,5297211.142533937,189389.59399999998,238102.31,198443.06,29536.113936927773,2756740.97135,179251.5,17885000.0,13140000.0,1051694.575,2529997.0,4659740.0,2040000.0,2147596.47175,77616.228,211505.78,53100000.0,8614.0,329780.3125,438000.0,12982685.0,256729.0,6191.7505,8356711.13,1818501.3648,5419832.5,60000000.0,2347401.5,78619.79914999999,26853366.0,500000.0,17238.20175,35374156.0,3989.4865,31561.34925,27399.09,18457232.0],\"yaxis\":\"y\"},{\"hovertemplate\":\"<b>%{hovertext}</b><br><br>Income Level=HIC<br>GDP (US$)=%{x}<br>Total Solid Waste (Ton)=%{y}<extra></extra>\",\"hovertext\":[\"Andorra\",\"United Arab Emirates\",\"Argentina\",\"Antigua and Barbuda\",\"Australia\",\"Austria\",\"Belgium\",\"Bahrain\",\"Bahamas, The\",\"Bermuda\",\"Barbados\",\"Brunei Darussalam\",\"Canada\",\"Switzerland\",\"Chile\",\"Curacao\",\"Cayman Islands\",\"Cyprus\",\"Czech Republic\",\"Germany\",\"Denmark\",\"Spain\",\"Estonia\",\"Finland\",\"France\",\"United Kingdom\",\"Greece\",\"Guam\",\"Hong Kong SAR, China\",\"Croatia\",\"Hungary\",\"Ireland\",\"Iceland\",\"Israel\",\"Italy\",\"Japan\",\"St. Kitts and Nevis\",\"Korea, Rep.\",\"Kuwait\",\"Lithuania\",\"Luxembourg\",\"Latvia\",\"Macao SAR, China\",\"Monaco\",\"Malta\",\"Northern Mariana Islands\",\"Netherlands\",\"Norway\",\"New Zealand\",\"Oman\",\"Panama\",\"Palau\",\"Poland\",\"Puerto Rico\",\"Portugal\",\"Qatar\",\"Saudi Arabia\",\"Singapore\",\"San Marino\",\"Slovak Republic\",\"Slovenia\",\"Sweden\",\"Seychelles\",\"Trinidad and Tobago\",\"Uruguay\",\"United States\"],\"legendgroup\":\"HIC\",\"marker\":{\"color\":\"#ab63fa\",\"symbol\":\"circle\"},\"mode\":\"markers\",\"name\":\"HIC\",\"orientation\":\"v\",\"showlegend\":true,\"type\":\"scatter\",\"x\":[3155065488.0,421142000000.0,445445000000.0,1661962963.0,1396570000000.0,445075000000.0,533255000000.0,38474521277.0,13578800000.0,7484113000.0,5209000000.0,13469422941.0,1741580000000.0,731474000000.0,279385000000.0,3101787709.0,5935769351.0,24949065264.0,250686000000.0,3861120000000.0,350104000000.0,1393490000000.0,31471100656.0,268966000000.0,2715520000000.0,2830810000000.0,205327000000.0,6311000000.0,363016000000.0,60752588976.0,163504000000.0,398590000000.0,24836714771.0,394652000000.0,2004910000000.0,5064870000000.0,1044711111.0,1646740000000.0,136197000000.0,54639938780.0,71104919108.0,34055464655.0,55153707949.0,7423709840.0,15215714309.0,1182000000.0,907051000000.0,405510000000.0,209127000000.0,76331518669.0,66787900000.0,268354900.0,595862000000.0,104915000000.0,239511000000.0,175838000000.0,792967000000.0,374386000000.0,1616369646.0,105119000000.0,54174227309.0,531283000000.0,1581380269.0,23208326548.0,61231149881.0,21433200000000.0],\"xaxis\":\"x\",\"y\":[43000.0,5617682.0,17910550.0,30585.0,13345000.0,5219715.5,4765883.0,951942.96945,264000.0,82000.0,174815.44444444447,216253.156,25103034.0,6079556.0,6517000.0,24703.813200000004,60000.0,769485.125,5334854.5,50627876.0,4910858.5,22408548.0,489511.71875,3124497.75,36748820.0,30771140.0,5615352.5,141500.0,5679816.465,1810037.5,3780970.25,2910655.0,225270.40625,5400000.0,30088400.0,42720000.0,32892.14,20452776.0,1750000.0,1315390.375,490337.75,839714.375,377942.0,46000.0,348841.1875,32761.4145,8805088.0,4149967.25,3405000.0,1734885.15,1472262.2151499996,9426.7455,12758213.0,4170953.0,5268211.0,1000990.016,16125700.584,1870000.0,17174.68,2296164.75,1052324.75,4618168.5,48000.0,727874.0,1260139.5086500002,265224528.0],\"yaxis\":\"y\"}],                        {\"legend\":{\"title\":{\"text\":\"Income Level\"},\"tracegroupgap\":0},\"margin\":{\"t\":60},\"template\":{\"data\":{\"bar\":[{\"error_x\":{\"color\":\"#2a3f5f\"},\"error_y\":{\"color\":\"#2a3f5f\"},\"marker\":{\"line\":{\"color\":\"#E5ECF6\",\"width\":0.5},\"pattern\":{\"fillmode\":\"overlay\",\"size\":10,\"solidity\":0.2}},\"type\":\"bar\"}],\"barpolar\":[{\"marker\":{\"line\":{\"color\":\"#E5ECF6\",\"width\":0.5},\"pattern\":{\"fillmode\":\"overlay\",\"size\":10,\"solidity\":0.2}},\"type\":\"barpolar\"}],\"carpet\":[{\"aaxis\":{\"endlinecolor\":\"#2a3f5f\",\"gridcolor\":\"white\",\"linecolor\":\"white\",\"minorgridcolor\":\"white\",\"startlinecolor\":\"#2a3f5f\"},\"baxis\":{\"endlinecolor\":\"#2a3f5f\",\"gridcolor\":\"white\",\"linecolor\":\"white\",\"minorgridcolor\":\"white\",\"startlinecolor\":\"#2a3f5f\"},\"type\":\"carpet\"}],\"choropleth\":[{\"colorbar\":{\"outlinewidth\":0,\"ticks\":\"\"},\"type\":\"choropleth\"}],\"contour\":[{\"colorbar\":{\"outlinewidth\":0,\"ticks\":\"\"},\"colorscale\":[[0.0,\"#0d0887\"],[0.1111111111111111,\"#46039f\"],[0.2222222222222222,\"#7201a8\"],[0.3333333333333333,\"#9c179e\"],[0.4444444444444444,\"#bd3786\"],[0.5555555555555556,\"#d8576b\"],[0.6666666666666666,\"#ed7953\"],[0.7777777777777778,\"#fb9f3a\"],[0.8888888888888888,\"#fdca26\"],[1.0,\"#f0f921\"]],\"type\":\"contour\"}],\"contourcarpet\":[{\"colorbar\":{\"outlinewidth\":0,\"ticks\":\"\"},\"type\":\"contourcarpet\"}],\"heatmap\":[{\"colorbar\":{\"outlinewidth\":0,\"ticks\":\"\"},\"colorscale\":[[0.0,\"#0d0887\"],[0.1111111111111111,\"#46039f\"],[0.2222222222222222,\"#7201a8\"],[0.3333333333333333,\"#9c179e\"],[0.4444444444444444,\"#bd3786\"],[0.5555555555555556,\"#d8576b\"],[0.6666666666666666,\"#ed7953\"],[0.7777777777777778,\"#fb9f3a\"],[0.8888888888888888,\"#fdca26\"],[1.0,\"#f0f921\"]],\"type\":\"heatmap\"}],\"heatmapgl\":[{\"colorbar\":{\"outlinewidth\":0,\"ticks\":\"\"},\"colorscale\":[[0.0,\"#0d0887\"],[0.1111111111111111,\"#46039f\"],[0.2222222222222222,\"#7201a8\"],[0.3333333333333333,\"#9c179e\"],[0.4444444444444444,\"#bd3786\"],[0.5555555555555556,\"#d8576b\"],[0.6666666666666666,\"#ed7953\"],[0.7777777777777778,\"#fb9f3a\"],[0.8888888888888888,\"#fdca26\"],[1.0,\"#f0f921\"]],\"type\":\"heatmapgl\"}],\"histogram\":[{\"marker\":{\"pattern\":{\"fillmode\":\"overlay\",\"size\":10,\"solidity\":0.2}},\"type\":\"histogram\"}],\"histogram2d\":[{\"colorbar\":{\"outlinewidth\":0,\"ticks\":\"\"},\"colorscale\":[[0.0,\"#0d0887\"],[0.1111111111111111,\"#46039f\"],[0.2222222222222222,\"#7201a8\"],[0.3333333333333333,\"#9c179e\"],[0.4444444444444444,\"#bd3786\"],[0.5555555555555556,\"#d8576b\"],[0.6666666666666666,\"#ed7953\"],[0.7777777777777778,\"#fb9f3a\"],[0.8888888888888888,\"#fdca26\"],[1.0,\"#f0f921\"]],\"type\":\"histogram2d\"}],\"histogram2dcontour\":[{\"colorbar\":{\"outlinewidth\":0,\"ticks\":\"\"},\"colorscale\":[[0.0,\"#0d0887\"],[0.1111111111111111,\"#46039f\"],[0.2222222222222222,\"#7201a8\"],[0.3333333333333333,\"#9c179e\"],[0.4444444444444444,\"#bd3786\"],[0.5555555555555556,\"#d8576b\"],[0.6666666666666666,\"#ed7953\"],[0.7777777777777778,\"#fb9f3a\"],[0.8888888888888888,\"#fdca26\"],[1.0,\"#f0f921\"]],\"type\":\"histogram2dcontour\"}],\"mesh3d\":[{\"colorbar\":{\"outlinewidth\":0,\"ticks\":\"\"},\"type\":\"mesh3d\"}],\"parcoords\":[{\"line\":{\"colorbar\":{\"outlinewidth\":0,\"ticks\":\"\"}},\"type\":\"parcoords\"}],\"pie\":[{\"automargin\":true,\"type\":\"pie\"}],\"scatter\":[{\"marker\":{\"colorbar\":{\"outlinewidth\":0,\"ticks\":\"\"}},\"type\":\"scatter\"}],\"scatter3d\":[{\"line\":{\"colorbar\":{\"outlinewidth\":0,\"ticks\":\"\"}},\"marker\":{\"colorbar\":{\"outlinewidth\":0,\"ticks\":\"\"}},\"type\":\"scatter3d\"}],\"scattercarpet\":[{\"marker\":{\"colorbar\":{\"outlinewidth\":0,\"ticks\":\"\"}},\"type\":\"scattercarpet\"}],\"scattergeo\":[{\"marker\":{\"colorbar\":{\"outlinewidth\":0,\"ticks\":\"\"}},\"type\":\"scattergeo\"}],\"scattergl\":[{\"marker\":{\"colorbar\":{\"outlinewidth\":0,\"ticks\":\"\"}},\"type\":\"scattergl\"}],\"scattermapbox\":[{\"marker\":{\"colorbar\":{\"outlinewidth\":0,\"ticks\":\"\"}},\"type\":\"scattermapbox\"}],\"scatterpolar\":[{\"marker\":{\"colorbar\":{\"outlinewidth\":0,\"ticks\":\"\"}},\"type\":\"scatterpolar\"}],\"scatterpolargl\":[{\"marker\":{\"colorbar\":{\"outlinewidth\":0,\"ticks\":\"\"}},\"type\":\"scatterpolargl\"}],\"scatterternary\":[{\"marker\":{\"colorbar\":{\"outlinewidth\":0,\"ticks\":\"\"}},\"type\":\"scatterternary\"}],\"surface\":[{\"colorbar\":{\"outlinewidth\":0,\"ticks\":\"\"},\"colorscale\":[[0.0,\"#0d0887\"],[0.1111111111111111,\"#46039f\"],[0.2222222222222222,\"#7201a8\"],[0.3333333333333333,\"#9c179e\"],[0.4444444444444444,\"#bd3786\"],[0.5555555555555556,\"#d8576b\"],[0.6666666666666666,\"#ed7953\"],[0.7777777777777778,\"#fb9f3a\"],[0.8888888888888888,\"#fdca26\"],[1.0,\"#f0f921\"]],\"type\":\"surface\"}],\"table\":[{\"cells\":{\"fill\":{\"color\":\"#EBF0F8\"},\"line\":{\"color\":\"white\"}},\"header\":{\"fill\":{\"color\":\"#C8D4E3\"},\"line\":{\"color\":\"white\"}},\"type\":\"table\"}]},\"layout\":{\"annotationdefaults\":{\"arrowcolor\":\"#2a3f5f\",\"arrowhead\":0,\"arrowwidth\":1},\"autotypenumbers\":\"strict\",\"coloraxis\":{\"colorbar\":{\"outlinewidth\":0,\"ticks\":\"\"}},\"colorscale\":{\"diverging\":[[0,\"#8e0152\"],[0.1,\"#c51b7d\"],[0.2,\"#de77ae\"],[0.3,\"#f1b6da\"],[0.4,\"#fde0ef\"],[0.5,\"#f7f7f7\"],[0.6,\"#e6f5d0\"],[0.7,\"#b8e186\"],[0.8,\"#7fbc41\"],[0.9,\"#4d9221\"],[1,\"#276419\"]],\"sequential\":[[0.0,\"#0d0887\"],[0.1111111111111111,\"#46039f\"],[0.2222222222222222,\"#7201a8\"],[0.3333333333333333,\"#9c179e\"],[0.4444444444444444,\"#bd3786\"],[0.5555555555555556,\"#d8576b\"],[0.6666666666666666,\"#ed7953\"],[0.7777777777777778,\"#fb9f3a\"],[0.8888888888888888,\"#fdca26\"],[1.0,\"#f0f921\"]],\"sequentialminus\":[[0.0,\"#0d0887\"],[0.1111111111111111,\"#46039f\"],[0.2222222222222222,\"#7201a8\"],[0.3333333333333333,\"#9c179e\"],[0.4444444444444444,\"#bd3786\"],[0.5555555555555556,\"#d8576b\"],[0.6666666666666666,\"#ed7953\"],[0.7777777777777778,\"#fb9f3a\"],[0.8888888888888888,\"#fdca26\"],[1.0,\"#f0f921\"]]},\"colorway\":[\"#636efa\",\"#EF553B\",\"#00cc96\",\"#ab63fa\",\"#FFA15A\",\"#19d3f3\",\"#FF6692\",\"#B6E880\",\"#FF97FF\",\"#FECB52\"],\"font\":{\"color\":\"#2a3f5f\"},\"geo\":{\"bgcolor\":\"white\",\"lakecolor\":\"white\",\"landcolor\":\"#E5ECF6\",\"showlakes\":true,\"showland\":true,\"subunitcolor\":\"white\"},\"hoverlabel\":{\"align\":\"left\"},\"hovermode\":\"closest\",\"mapbox\":{\"style\":\"light\"},\"paper_bgcolor\":\"white\",\"plot_bgcolor\":\"#E5ECF6\",\"polar\":{\"angularaxis\":{\"gridcolor\":\"white\",\"linecolor\":\"white\",\"ticks\":\"\"},\"bgcolor\":\"#E5ECF6\",\"radialaxis\":{\"gridcolor\":\"white\",\"linecolor\":\"white\",\"ticks\":\"\"}},\"scene\":{\"xaxis\":{\"backgroundcolor\":\"#E5ECF6\",\"gridcolor\":\"white\",\"gridwidth\":2,\"linecolor\":\"white\",\"showbackground\":true,\"ticks\":\"\",\"zerolinecolor\":\"white\"},\"yaxis\":{\"backgroundcolor\":\"#E5ECF6\",\"gridcolor\":\"white\",\"gridwidth\":2,\"linecolor\":\"white\",\"showbackground\":true,\"ticks\":\"\",\"zerolinecolor\":\"white\"},\"zaxis\":{\"backgroundcolor\":\"#E5ECF6\",\"gridcolor\":\"white\",\"gridwidth\":2,\"linecolor\":\"white\",\"showbackground\":true,\"ticks\":\"\",\"zerolinecolor\":\"white\"}},\"shapedefaults\":{\"line\":{\"color\":\"#2a3f5f\"}},\"ternary\":{\"aaxis\":{\"gridcolor\":\"white\",\"linecolor\":\"white\",\"ticks\":\"\"},\"baxis\":{\"gridcolor\":\"white\",\"linecolor\":\"white\",\"ticks\":\"\"},\"bgcolor\":\"#E5ECF6\",\"caxis\":{\"gridcolor\":\"white\",\"linecolor\":\"white\",\"ticks\":\"\"}},\"title\":{\"x\":0.05},\"xaxis\":{\"automargin\":true,\"gridcolor\":\"white\",\"linecolor\":\"white\",\"ticks\":\"\",\"title\":{\"standoff\":15},\"zerolinecolor\":\"white\",\"zerolinewidth\":2},\"yaxis\":{\"automargin\":true,\"gridcolor\":\"white\",\"linecolor\":\"white\",\"ticks\":\"\",\"title\":{\"standoff\":15},\"zerolinecolor\":\"white\",\"zerolinewidth\":2}}},\"xaxis\":{\"anchor\":\"y\",\"domain\":[0.0,1.0],\"title\":{\"text\":\"GDP (US$)\"}},\"yaxis\":{\"anchor\":\"x\",\"domain\":[0.0,1.0],\"title\":{\"text\":\"Total Solid Waste (Ton)\"}}},                        {\"responsive\": true}                    ).then(function(){\n",
       "                            \n",
       "var gd = document.getElementById('7adccb51-232b-46ed-8a2c-39a6f5860564');\n",
       "var x = new MutationObserver(function (mutations, observer) {{\n",
       "        var display = window.getComputedStyle(gd).display;\n",
       "        if (!display || display === 'none') {{\n",
       "            console.log([gd, 'removed!']);\n",
       "            Plotly.purge(gd);\n",
       "            observer.disconnect();\n",
       "        }}\n",
       "}});\n",
       "\n",
       "// Listen for the removal of the full notebook cells\n",
       "var notebookContainer = gd.closest('#notebook-container');\n",
       "if (notebookContainer) {{\n",
       "    x.observe(notebookContainer, {childList: true});\n",
       "}}\n",
       "\n",
       "// Listen for the clearing of the current output cell\n",
       "var outputEl = gd.closest('.output');\n",
       "if (outputEl) {{\n",
       "    x.observe(outputEl, {childList: true});\n",
       "}}\n",
       "\n",
       "                        })                };                });            </script>        </div>"
      ]
     },
     "metadata": {},
     "output_type": "display_data"
    }
   ],
   "source": [
    "import plotly.express as px\n",
    "fig = px.scatter(df_new, \n",
    "                 x='gdp',\n",
    "                 y='waste', \n",
    "                 color='income_id',\n",
    "                 labels=dict(gdp='GDP (US$)', waste='Total Solid Waste (Ton)', income_id='Income Level'),\n",
    "                 hover_name='Country Name')\n",
    "fig.show()"
   ]
  },
  {
   "cell_type": "markdown",
   "id": "clear-penalty",
   "metadata": {},
   "source": [
    "\n",
    "\n",
    "I make the graph a little different by passing the argument \"color\" with 'region_id'. Though it has nothing to do with the model building in this project, it's still fascinating to find that we would get nearly perfect linear relationship for countries in each income level.\n",
    "\n"
   ]
  },
  {
   "cell_type": "code",
   "execution_count": 271,
   "id": "invalid-shame",
   "metadata": {},
   "outputs": [
    {
     "name": "stdout",
     "output_type": "stream",
     "text": [
      "      Country Name income_id        waste           gdp\n",
      "36           China       UMC  395081376.0  1.427990e+13\n",
      "198  United States       HIC  265224528.0  2.143320e+13\n",
      "87           India       LMC  189750000.0  2.870500e+12\n",
      "[36, 198, 87]\n",
      "[14279900000000.0, 21433200000000.0, 2870500000000.0]\n",
      "[395081376.0, 265224528.0, 189750000.0]\n"
     ]
    }
   ],
   "source": [
    "out = df_new.sort_values('waste', ascending=False).iloc[0:3]\n",
    "print(out)\n",
    "out_ind=[]\n",
    "out_x=[]\n",
    "out_y=[]\n",
    "for key, val in out[['gdp','waste']].iterrows():\n",
    "    out_ind.append(key)\n",
    "    out_x.append(val[0])\n",
    "    out_y.append(val[1])\n",
    "print(out_ind)\n",
    "print(out_x)\n",
    "print(out_y)"
   ]
  },
  {
   "cell_type": "code",
   "execution_count": 272,
   "id": "filled-wallpaper",
   "metadata": {},
   "outputs": [
    {
     "data": {
      "application/vnd.plotly.v1+json": {
       "config": {
        "plotlyServerURL": "https://plot.ly"
       },
       "data": [
        {
         "hovertemplate": "<b>%{hovertext}</b><br><br>Income Level=LIC<br>GDP (US$)=%{x}<br>Total Solid Waste (Ton)=%{y}<extra></extra>",
         "hovertext": [
          "Afghanistan",
          "Burundi",
          "Benin",
          "Burkina Faso",
          "Central African Republic",
          "Congo, Dem. Rep.",
          "Comoros",
          "Ethiopia",
          "Guinea",
          "Gambia, The",
          "Guinea-Bissau",
          "Haiti",
          "Liberia",
          "Madagascar",
          "Mali",
          "Mozambique",
          "Malawi",
          "Niger",
          "Nepal",
          "Rwanda",
          "Senegal",
          "Sierra Leone",
          "Somalia",
          "Chad",
          "Togo",
          "Tajikistan",
          "Tanzania",
          "Uganda",
          "Zimbabwe"
         ],
         "legendgroup": "LIC",
         "marker": {
          "color": "#636efa",
          "symbol": "circle"
         },
         "mode": "markers",
         "name": "LIC",
         "orientation": "v",
         "showlegend": true,
         "type": "scatter",
         "x": [
          19291104008,
          3012308946,
          14391686309,
          15990803570,
          2220307319,
          50400746171,
          1165839900,
          95912590628,
          13513809258,
          1826073740,
          1439638443,
          14332163266,
          3070518100,
          14191911512,
          17281815734,
          15291448212,
          10862613622,
          12911689659,
          34186180695,
          10355974217,
          23306213742,
          4121733705,
          4942319041,
          11314951343,
          7220395248,
          8300784857,
          61136873747,
          35170037381,
          16932434839
         ],
         "xaxis": "x",
         "y": [
          5628525.37,
          1872016,
          685936.01,
          2575251.11,
          1105983,
          14385226.02,
          91013,
          6532786.97,
          596911,
          193440.54,
          289514,
          2309852.45485,
          564466.7,
          3768759.16,
          1937354.44,
          2500000,
          1297844.48,
          1865645.67,
          1768977.49,
          4384969,
          2454059.25,
          610222.09,
          2326099.17,
          1358850.53,
          1109030.45,
          1787400,
          9276995,
          7045049.836,
          1449752
         ],
         "yaxis": "y"
        },
        {
         "hovertemplate": "<b>%{hovertext}</b><br><br>Income Level=LMC<br>GDP (US$)=%{x}<br>Total Solid Waste (Ton)=%{y}<extra></extra>",
         "hovertext": [
          "Angola",
          "Bangladesh",
          "Bolivia",
          "Bhutan",
          "Cameroon",
          "Congo, Rep.",
          "Cabo Verde",
          "Djibouti",
          "Egypt, Arab Rep.",
          "Micronesia, Fed. Sts.",
          "Georgia",
          "Ghana",
          "Honduras",
          "Indonesia",
          "India",
          "Kenya",
          "Kyrgyz Republic",
          "Cambodia",
          "Kiribati",
          "Lao PDR",
          "Sri Lanka",
          "Lesotho",
          "Morocco",
          "Moldova",
          "Myanmar",
          "Mongolia",
          "Mauritania",
          "Nigeria",
          "Nicaragua",
          "Pakistan",
          "Philippines",
          "Papua New Guinea",
          "West Bank and Gaza",
          "Sudan",
          "Solomon Islands",
          "El Salvador",
          "Eswatini",
          "Timor-Leste",
          "Tunisia",
          "Ukraine",
          "Uzbekistan",
          "Vietnam",
          "Vanuatu",
          "Kosovo",
          "Zambia"
         ],
         "legendgroup": "LMC",
         "marker": {
          "color": "#EF553B",
          "symbol": "circle"
         },
         "mode": "markers",
         "name": "LMC",
         "orientation": "v",
         "showlegend": true,
         "type": "scatter",
         "x": [
          89417190341,
          302563000000,
          40895322851,
          2530547158,
          39007354359,
          12693562948,
          1981845741,
          3324634256,
          303081000000,
          408060600,
          17477255562,
          67234292583,
          25089976947,
          1119090000000,
          2870500000000,
          95503088538,
          8871019823,
          27089389787,
          194647201.9,
          18245925331,
          83975584254,
          2366213069,
          119700000000,
          11968699006,
          79844294296,
          13996719329,
          7600650038,
          448120000000,
          12611218627,
          278222000000,
          376823000000,
          24829107011,
          17133500000,
          32250448249,
          1570215577,
          26896660000,
          4471598727,
          2017924900,
          39195716330,
          153930000000,
          57726542785,
          261921000000,
          930337960,
          7953156068,
          23308688906
         ],
         "xaxis": "x",
         "y": [
          4213643.585,
          14778497.33,
          2219052,
          111314.05,
          3270616.59,
          451200,
          132555,
          114997.24900398408,
          21000000,
          26039.57,
          800000,
          3538274.97825,
          2162027.69575,
          65200000,
          189750000,
          5595099,
          1113300,
          1089000,
          35723.8275,
          351900,
          2631650,
          73457,
          6852000,
          3981200,
          4677306.52914,
          2900000,
          454000,
          27614830.07185,
          1528816.29335,
          30760000,
          14631922.9,
          1000000,
          1387000,
          2831291,
          179971.964375,
          1648996.18,
          218199.47,
          63875,
          2700000,
          15242025,
          4000000,
          9570300,
          70225.489,
          319000,
          2608268
         ],
         "yaxis": "y"
        },
        {
         "hovertemplate": "<b>%{hovertext}</b><br><br>Income Level=UMC<br>GDP (US$)=%{x}<br>Total Solid Waste (Ton)=%{y}<extra></extra>",
         "hovertext": [
          "Albania",
          "Armenia",
          "American Samoa",
          "Azerbaijan",
          "Bulgaria",
          "Bosnia and Herzegovina",
          "Belarus",
          "Belize",
          "Brazil",
          "Botswana",
          "China",
          "Colombia",
          "Costa Rica",
          "Cuba",
          "Dominica",
          "Dominican Republic",
          "Algeria",
          "Ecuador",
          "Fiji",
          "Gabon",
          "Equatorial Guinea",
          "Grenada",
          "Guatemala",
          "Guyana",
          "Iran, Islamic Rep.",
          "Iraq",
          "Jamaica",
          "Jordan",
          "Kazakhstan",
          "Lebanon",
          "Libya",
          "St. Lucia",
          "Maldives",
          "Mexico",
          "Marshall Islands",
          "Montenegro",
          "Mauritius",
          "Malaysia",
          "Namibia",
          "Nauru",
          "Peru",
          "Paraguay",
          "Romania",
          "Russian Federation",
          "Serbia",
          "Suriname",
          "Thailand",
          "Turkmenistan",
          "Tonga",
          "Turkey",
          "Tuvalu",
          "St. Vincent and the Grenadines",
          "Samoa",
          "South Africa"
         ],
         "legendgroup": "UMC",
         "marker": {
          "color": "#00cc96",
          "symbol": "circle"
         },
         "mode": "markers",
         "name": "UMC",
         "orientation": "v",
         "showlegend": true,
         "type": "scatter",
         "x": [
          15286612573,
          13672802158,
          638000000,
          48174235294,
          68558815112,
          20202479538,
          64409647194,
          1982518541,
          1877810000000,
          18362348888,
          14279900000000,
          323430000000,
          63951114302,
          103131000000,
          574607407.4,
          88941299734,
          171158000000,
          108108000000,
          5496250694,
          16874450215,
          11417278045,
          1211403704,
          77020015201,
          5173759528,
          258245000000,
          222434000000,
          15830768550,
          44502895915,
          181667000000,
          51991634492,
          52091152228,
          2122450630,
          5642179170,
          1268870000000,
          239462200,
          5542674765,
          14046337855,
          364681000000,
          12565772085,
          118223430.1,
          228471000000,
          37906944075,
          249697000000,
          1687450000000,
          51475016532,
          4221373022,
          544264000000,
          45231428571,
          512350059.4,
          761428000000,
          47271463.33,
          824718518.5,
          852250191,
          351432000000
         ],
         "xaxis": "x",
         "y": [
          1087446.75,
          492800,
          18989.49,
          2930349,
          2859190,
          1248718,
          4280000,
          101378.83030000002,
          79069584,
          210854.44261891601,
          395081376,
          12150120,
          1460000,
          2692691.98,
          13176,
          4063910,
          12378740,
          5297211.142533937,
          189389.59399999998,
          238102.31,
          198443.06,
          29536.113936927773,
          2756740.97135,
          179251.5,
          17885000,
          13140000,
          1051694.575,
          2529997,
          4659740,
          2040000,
          2147596.47175,
          77616.228,
          211505.78,
          53100000,
          8614,
          329780.3125,
          438000,
          12982685,
          256729,
          6191.7505,
          8356711.13,
          1818501.3648,
          5419832.5,
          60000000,
          2347401.5,
          78619.79914999999,
          26853366,
          500000,
          17238.20175,
          35374156,
          3989.4865,
          31561.34925,
          27399.09,
          18457232
         ],
         "yaxis": "y"
        },
        {
         "hovertemplate": "<b>%{hovertext}</b><br><br>Income Level=HIC<br>GDP (US$)=%{x}<br>Total Solid Waste (Ton)=%{y}<extra></extra>",
         "hovertext": [
          "Andorra",
          "United Arab Emirates",
          "Argentina",
          "Antigua and Barbuda",
          "Australia",
          "Austria",
          "Belgium",
          "Bahrain",
          "Bahamas, The",
          "Bermuda",
          "Barbados",
          "Brunei Darussalam",
          "Canada",
          "Switzerland",
          "Chile",
          "Curacao",
          "Cayman Islands",
          "Cyprus",
          "Czech Republic",
          "Germany",
          "Denmark",
          "Spain",
          "Estonia",
          "Finland",
          "France",
          "United Kingdom",
          "Greece",
          "Guam",
          "Hong Kong SAR, China",
          "Croatia",
          "Hungary",
          "Ireland",
          "Iceland",
          "Israel",
          "Italy",
          "Japan",
          "St. Kitts and Nevis",
          "Korea, Rep.",
          "Kuwait",
          "Lithuania",
          "Luxembourg",
          "Latvia",
          "Macao SAR, China",
          "Monaco",
          "Malta",
          "Northern Mariana Islands",
          "Netherlands",
          "Norway",
          "New Zealand",
          "Oman",
          "Panama",
          "Palau",
          "Poland",
          "Puerto Rico",
          "Portugal",
          "Qatar",
          "Saudi Arabia",
          "Singapore",
          "San Marino",
          "Slovak Republic",
          "Slovenia",
          "Sweden",
          "Seychelles",
          "Trinidad and Tobago",
          "Uruguay",
          "United States"
         ],
         "legendgroup": "HIC",
         "marker": {
          "color": "#ab63fa",
          "symbol": "circle"
         },
         "mode": "markers",
         "name": "HIC",
         "orientation": "v",
         "showlegend": true,
         "type": "scatter",
         "x": [
          3155065488,
          421142000000,
          445445000000,
          1661962963,
          1396570000000,
          445075000000,
          533255000000,
          38474521277,
          13578800000,
          7484113000,
          5209000000,
          13469422941,
          1741580000000,
          731474000000,
          279385000000,
          3101787709,
          5935769351,
          24949065264,
          250686000000,
          3861120000000,
          350104000000,
          1393490000000,
          31471100656,
          268966000000,
          2715520000000,
          2830810000000,
          205327000000,
          6311000000,
          363016000000,
          60752588976,
          163504000000,
          398590000000,
          24836714771,
          394652000000,
          2004910000000,
          5064870000000,
          1044711111,
          1646740000000,
          136197000000,
          54639938780,
          71104919108,
          34055464655,
          55153707949,
          7423709840,
          15215714309,
          1182000000,
          907051000000,
          405510000000,
          209127000000,
          76331518669,
          66787900000,
          268354900,
          595862000000,
          104915000000,
          239511000000,
          175838000000,
          792967000000,
          374386000000,
          1616369646,
          105119000000,
          54174227309,
          531283000000,
          1581380269,
          23208326548,
          61231149881,
          21433200000000
         ],
         "xaxis": "x",
         "y": [
          43000,
          5617682,
          17910550,
          30585,
          13345000,
          5219715.5,
          4765883,
          951942.96945,
          264000,
          82000,
          174815.44444444447,
          216253.156,
          25103034,
          6079556,
          6517000,
          24703.813200000004,
          60000,
          769485.125,
          5334854.5,
          50627876,
          4910858.5,
          22408548,
          489511.71875,
          3124497.75,
          36748820,
          30771140,
          5615352.5,
          141500,
          5679816.465,
          1810037.5,
          3780970.25,
          2910655,
          225270.40625,
          5400000,
          30088400,
          42720000,
          32892.14,
          20452776,
          1750000,
          1315390.375,
          490337.75,
          839714.375,
          377942,
          46000,
          348841.1875,
          32761.4145,
          8805088,
          4149967.25,
          3405000,
          1734885.15,
          1472262.2151499996,
          9426.7455,
          12758213,
          4170953,
          5268211,
          1000990.016,
          16125700.584,
          1870000,
          17174.68,
          2296164.75,
          1052324.75,
          4618168.5,
          48000,
          727874,
          1260139.5086500002,
          265224528
         ],
         "yaxis": "y"
        }
       ],
       "layout": {
        "annotations": [
         {
          "arrowcolor": "#636363",
          "arrowhead": 1,
          "font": {
           "color": "red",
           "size": 16
          },
          "showarrow": true,
          "text": "Outlier",
          "x": 14279900000000,
          "y": 395081376
         },
         {
          "arrowcolor": "#636363",
          "arrowhead": 1,
          "font": {
           "color": "red",
           "size": 16
          },
          "showarrow": true,
          "text": "Outlier",
          "x": 21433200000000,
          "y": 265224528
         },
         {
          "arrowcolor": "#636363",
          "arrowhead": 1,
          "font": {
           "color": "red",
           "size": 16
          },
          "showarrow": true,
          "text": "Outlier",
          "x": 2870500000000,
          "y": 189750000
         },
         {
          "arrowcolor": "#636363",
          "arrowhead": 1,
          "font": {
           "color": "red",
           "size": 16
          },
          "showarrow": true,
          "text": "Outlier",
          "x": 14279900000000,
          "y": 395081376
         },
         {
          "arrowcolor": "#636363",
          "arrowhead": 1,
          "font": {
           "color": "red",
           "size": 16
          },
          "showarrow": true,
          "text": "Outlier",
          "x": 21433200000000,
          "y": 265224528
         },
         {
          "arrowcolor": "#636363",
          "arrowhead": 1,
          "font": {
           "color": "red",
           "size": 16
          },
          "showarrow": true,
          "text": "Outlier",
          "x": 2870500000000,
          "y": 189750000
         },
         {
          "arrowcolor": "#636363",
          "arrowhead": 1,
          "font": {
           "color": "red",
           "size": 16
          },
          "showarrow": true,
          "text": "Outlier",
          "x": 14279900000000,
          "y": 395081376
         },
         {
          "arrowcolor": "#636363",
          "arrowhead": 1,
          "font": {
           "color": "red",
           "size": 16
          },
          "showarrow": true,
          "text": "Outlier",
          "x": 21433200000000,
          "y": 265224528
         },
         {
          "arrowcolor": "#636363",
          "arrowhead": 1,
          "font": {
           "color": "red",
           "size": 16
          },
          "showarrow": true,
          "text": "Outlier",
          "x": 2870500000000,
          "y": 189750000
         }
        ],
        "legend": {
         "title": {
          "text": "Income Level"
         },
         "tracegroupgap": 0
        },
        "margin": {
         "t": 60
        },
        "template": {
         "data": {
          "bar": [
           {
            "error_x": {
             "color": "#2a3f5f"
            },
            "error_y": {
             "color": "#2a3f5f"
            },
            "marker": {
             "line": {
              "color": "#E5ECF6",
              "width": 0.5
             },
             "pattern": {
              "fillmode": "overlay",
              "size": 10,
              "solidity": 0.2
             }
            },
            "type": "bar"
           }
          ],
          "barpolar": [
           {
            "marker": {
             "line": {
              "color": "#E5ECF6",
              "width": 0.5
             },
             "pattern": {
              "fillmode": "overlay",
              "size": 10,
              "solidity": 0.2
             }
            },
            "type": "barpolar"
           }
          ],
          "carpet": [
           {
            "aaxis": {
             "endlinecolor": "#2a3f5f",
             "gridcolor": "white",
             "linecolor": "white",
             "minorgridcolor": "white",
             "startlinecolor": "#2a3f5f"
            },
            "baxis": {
             "endlinecolor": "#2a3f5f",
             "gridcolor": "white",
             "linecolor": "white",
             "minorgridcolor": "white",
             "startlinecolor": "#2a3f5f"
            },
            "type": "carpet"
           }
          ],
          "choropleth": [
           {
            "colorbar": {
             "outlinewidth": 0,
             "ticks": ""
            },
            "type": "choropleth"
           }
          ],
          "contour": [
           {
            "colorbar": {
             "outlinewidth": 0,
             "ticks": ""
            },
            "colorscale": [
             [
              0,
              "#0d0887"
             ],
             [
              0.1111111111111111,
              "#46039f"
             ],
             [
              0.2222222222222222,
              "#7201a8"
             ],
             [
              0.3333333333333333,
              "#9c179e"
             ],
             [
              0.4444444444444444,
              "#bd3786"
             ],
             [
              0.5555555555555556,
              "#d8576b"
             ],
             [
              0.6666666666666666,
              "#ed7953"
             ],
             [
              0.7777777777777778,
              "#fb9f3a"
             ],
             [
              0.8888888888888888,
              "#fdca26"
             ],
             [
              1,
              "#f0f921"
             ]
            ],
            "type": "contour"
           }
          ],
          "contourcarpet": [
           {
            "colorbar": {
             "outlinewidth": 0,
             "ticks": ""
            },
            "type": "contourcarpet"
           }
          ],
          "heatmap": [
           {
            "colorbar": {
             "outlinewidth": 0,
             "ticks": ""
            },
            "colorscale": [
             [
              0,
              "#0d0887"
             ],
             [
              0.1111111111111111,
              "#46039f"
             ],
             [
              0.2222222222222222,
              "#7201a8"
             ],
             [
              0.3333333333333333,
              "#9c179e"
             ],
             [
              0.4444444444444444,
              "#bd3786"
             ],
             [
              0.5555555555555556,
              "#d8576b"
             ],
             [
              0.6666666666666666,
              "#ed7953"
             ],
             [
              0.7777777777777778,
              "#fb9f3a"
             ],
             [
              0.8888888888888888,
              "#fdca26"
             ],
             [
              1,
              "#f0f921"
             ]
            ],
            "type": "heatmap"
           }
          ],
          "heatmapgl": [
           {
            "colorbar": {
             "outlinewidth": 0,
             "ticks": ""
            },
            "colorscale": [
             [
              0,
              "#0d0887"
             ],
             [
              0.1111111111111111,
              "#46039f"
             ],
             [
              0.2222222222222222,
              "#7201a8"
             ],
             [
              0.3333333333333333,
              "#9c179e"
             ],
             [
              0.4444444444444444,
              "#bd3786"
             ],
             [
              0.5555555555555556,
              "#d8576b"
             ],
             [
              0.6666666666666666,
              "#ed7953"
             ],
             [
              0.7777777777777778,
              "#fb9f3a"
             ],
             [
              0.8888888888888888,
              "#fdca26"
             ],
             [
              1,
              "#f0f921"
             ]
            ],
            "type": "heatmapgl"
           }
          ],
          "histogram": [
           {
            "marker": {
             "pattern": {
              "fillmode": "overlay",
              "size": 10,
              "solidity": 0.2
             }
            },
            "type": "histogram"
           }
          ],
          "histogram2d": [
           {
            "colorbar": {
             "outlinewidth": 0,
             "ticks": ""
            },
            "colorscale": [
             [
              0,
              "#0d0887"
             ],
             [
              0.1111111111111111,
              "#46039f"
             ],
             [
              0.2222222222222222,
              "#7201a8"
             ],
             [
              0.3333333333333333,
              "#9c179e"
             ],
             [
              0.4444444444444444,
              "#bd3786"
             ],
             [
              0.5555555555555556,
              "#d8576b"
             ],
             [
              0.6666666666666666,
              "#ed7953"
             ],
             [
              0.7777777777777778,
              "#fb9f3a"
             ],
             [
              0.8888888888888888,
              "#fdca26"
             ],
             [
              1,
              "#f0f921"
             ]
            ],
            "type": "histogram2d"
           }
          ],
          "histogram2dcontour": [
           {
            "colorbar": {
             "outlinewidth": 0,
             "ticks": ""
            },
            "colorscale": [
             [
              0,
              "#0d0887"
             ],
             [
              0.1111111111111111,
              "#46039f"
             ],
             [
              0.2222222222222222,
              "#7201a8"
             ],
             [
              0.3333333333333333,
              "#9c179e"
             ],
             [
              0.4444444444444444,
              "#bd3786"
             ],
             [
              0.5555555555555556,
              "#d8576b"
             ],
             [
              0.6666666666666666,
              "#ed7953"
             ],
             [
              0.7777777777777778,
              "#fb9f3a"
             ],
             [
              0.8888888888888888,
              "#fdca26"
             ],
             [
              1,
              "#f0f921"
             ]
            ],
            "type": "histogram2dcontour"
           }
          ],
          "mesh3d": [
           {
            "colorbar": {
             "outlinewidth": 0,
             "ticks": ""
            },
            "type": "mesh3d"
           }
          ],
          "parcoords": [
           {
            "line": {
             "colorbar": {
              "outlinewidth": 0,
              "ticks": ""
             }
            },
            "type": "parcoords"
           }
          ],
          "pie": [
           {
            "automargin": true,
            "type": "pie"
           }
          ],
          "scatter": [
           {
            "marker": {
             "colorbar": {
              "outlinewidth": 0,
              "ticks": ""
             }
            },
            "type": "scatter"
           }
          ],
          "scatter3d": [
           {
            "line": {
             "colorbar": {
              "outlinewidth": 0,
              "ticks": ""
             }
            },
            "marker": {
             "colorbar": {
              "outlinewidth": 0,
              "ticks": ""
             }
            },
            "type": "scatter3d"
           }
          ],
          "scattercarpet": [
           {
            "marker": {
             "colorbar": {
              "outlinewidth": 0,
              "ticks": ""
             }
            },
            "type": "scattercarpet"
           }
          ],
          "scattergeo": [
           {
            "marker": {
             "colorbar": {
              "outlinewidth": 0,
              "ticks": ""
             }
            },
            "type": "scattergeo"
           }
          ],
          "scattergl": [
           {
            "marker": {
             "colorbar": {
              "outlinewidth": 0,
              "ticks": ""
             }
            },
            "type": "scattergl"
           }
          ],
          "scattermapbox": [
           {
            "marker": {
             "colorbar": {
              "outlinewidth": 0,
              "ticks": ""
             }
            },
            "type": "scattermapbox"
           }
          ],
          "scatterpolar": [
           {
            "marker": {
             "colorbar": {
              "outlinewidth": 0,
              "ticks": ""
             }
            },
            "type": "scatterpolar"
           }
          ],
          "scatterpolargl": [
           {
            "marker": {
             "colorbar": {
              "outlinewidth": 0,
              "ticks": ""
             }
            },
            "type": "scatterpolargl"
           }
          ],
          "scatterternary": [
           {
            "marker": {
             "colorbar": {
              "outlinewidth": 0,
              "ticks": ""
             }
            },
            "type": "scatterternary"
           }
          ],
          "surface": [
           {
            "colorbar": {
             "outlinewidth": 0,
             "ticks": ""
            },
            "colorscale": [
             [
              0,
              "#0d0887"
             ],
             [
              0.1111111111111111,
              "#46039f"
             ],
             [
              0.2222222222222222,
              "#7201a8"
             ],
             [
              0.3333333333333333,
              "#9c179e"
             ],
             [
              0.4444444444444444,
              "#bd3786"
             ],
             [
              0.5555555555555556,
              "#d8576b"
             ],
             [
              0.6666666666666666,
              "#ed7953"
             ],
             [
              0.7777777777777778,
              "#fb9f3a"
             ],
             [
              0.8888888888888888,
              "#fdca26"
             ],
             [
              1,
              "#f0f921"
             ]
            ],
            "type": "surface"
           }
          ],
          "table": [
           {
            "cells": {
             "fill": {
              "color": "#EBF0F8"
             },
             "line": {
              "color": "white"
             }
            },
            "header": {
             "fill": {
              "color": "#C8D4E3"
             },
             "line": {
              "color": "white"
             }
            },
            "type": "table"
           }
          ]
         },
         "layout": {
          "annotationdefaults": {
           "arrowcolor": "#2a3f5f",
           "arrowhead": 0,
           "arrowwidth": 1
          },
          "autotypenumbers": "strict",
          "coloraxis": {
           "colorbar": {
            "outlinewidth": 0,
            "ticks": ""
           }
          },
          "colorscale": {
           "diverging": [
            [
             0,
             "#8e0152"
            ],
            [
             0.1,
             "#c51b7d"
            ],
            [
             0.2,
             "#de77ae"
            ],
            [
             0.3,
             "#f1b6da"
            ],
            [
             0.4,
             "#fde0ef"
            ],
            [
             0.5,
             "#f7f7f7"
            ],
            [
             0.6,
             "#e6f5d0"
            ],
            [
             0.7,
             "#b8e186"
            ],
            [
             0.8,
             "#7fbc41"
            ],
            [
             0.9,
             "#4d9221"
            ],
            [
             1,
             "#276419"
            ]
           ],
           "sequential": [
            [
             0,
             "#0d0887"
            ],
            [
             0.1111111111111111,
             "#46039f"
            ],
            [
             0.2222222222222222,
             "#7201a8"
            ],
            [
             0.3333333333333333,
             "#9c179e"
            ],
            [
             0.4444444444444444,
             "#bd3786"
            ],
            [
             0.5555555555555556,
             "#d8576b"
            ],
            [
             0.6666666666666666,
             "#ed7953"
            ],
            [
             0.7777777777777778,
             "#fb9f3a"
            ],
            [
             0.8888888888888888,
             "#fdca26"
            ],
            [
             1,
             "#f0f921"
            ]
           ],
           "sequentialminus": [
            [
             0,
             "#0d0887"
            ],
            [
             0.1111111111111111,
             "#46039f"
            ],
            [
             0.2222222222222222,
             "#7201a8"
            ],
            [
             0.3333333333333333,
             "#9c179e"
            ],
            [
             0.4444444444444444,
             "#bd3786"
            ],
            [
             0.5555555555555556,
             "#d8576b"
            ],
            [
             0.6666666666666666,
             "#ed7953"
            ],
            [
             0.7777777777777778,
             "#fb9f3a"
            ],
            [
             0.8888888888888888,
             "#fdca26"
            ],
            [
             1,
             "#f0f921"
            ]
           ]
          },
          "colorway": [
           "#636efa",
           "#EF553B",
           "#00cc96",
           "#ab63fa",
           "#FFA15A",
           "#19d3f3",
           "#FF6692",
           "#B6E880",
           "#FF97FF",
           "#FECB52"
          ],
          "font": {
           "color": "#2a3f5f"
          },
          "geo": {
           "bgcolor": "white",
           "lakecolor": "white",
           "landcolor": "#E5ECF6",
           "showlakes": true,
           "showland": true,
           "subunitcolor": "white"
          },
          "hoverlabel": {
           "align": "left"
          },
          "hovermode": "closest",
          "mapbox": {
           "style": "light"
          },
          "paper_bgcolor": "white",
          "plot_bgcolor": "#E5ECF6",
          "polar": {
           "angularaxis": {
            "gridcolor": "white",
            "linecolor": "white",
            "ticks": ""
           },
           "bgcolor": "#E5ECF6",
           "radialaxis": {
            "gridcolor": "white",
            "linecolor": "white",
            "ticks": ""
           }
          },
          "scene": {
           "xaxis": {
            "backgroundcolor": "#E5ECF6",
            "gridcolor": "white",
            "gridwidth": 2,
            "linecolor": "white",
            "showbackground": true,
            "ticks": "",
            "zerolinecolor": "white"
           },
           "yaxis": {
            "backgroundcolor": "#E5ECF6",
            "gridcolor": "white",
            "gridwidth": 2,
            "linecolor": "white",
            "showbackground": true,
            "ticks": "",
            "zerolinecolor": "white"
           },
           "zaxis": {
            "backgroundcolor": "#E5ECF6",
            "gridcolor": "white",
            "gridwidth": 2,
            "linecolor": "white",
            "showbackground": true,
            "ticks": "",
            "zerolinecolor": "white"
           }
          },
          "shapedefaults": {
           "line": {
            "color": "#2a3f5f"
           }
          },
          "ternary": {
           "aaxis": {
            "gridcolor": "white",
            "linecolor": "white",
            "ticks": ""
           },
           "baxis": {
            "gridcolor": "white",
            "linecolor": "white",
            "ticks": ""
           },
           "bgcolor": "#E5ECF6",
           "caxis": {
            "gridcolor": "white",
            "linecolor": "white",
            "ticks": ""
           }
          },
          "title": {
           "x": 0.05
          },
          "xaxis": {
           "automargin": true,
           "gridcolor": "white",
           "linecolor": "white",
           "ticks": "",
           "title": {
            "standoff": 15
           },
           "zerolinecolor": "white",
           "zerolinewidth": 2
          },
          "yaxis": {
           "automargin": true,
           "gridcolor": "white",
           "linecolor": "white",
           "ticks": "",
           "title": {
            "standoff": 15
           },
           "zerolinecolor": "white",
           "zerolinewidth": 2
          }
         }
        },
        "xaxis": {
         "anchor": "y",
         "domain": [
          0,
          1
         ],
         "title": {
          "text": "GDP (US$)"
         }
        },
        "yaxis": {
         "anchor": "x",
         "domain": [
          0,
          1
         ],
         "title": {
          "text": "Total Solid Waste (Ton)"
         }
        }
       }
      },
      "text/html": [
       "<div>                            <div id=\"37bca34a-9573-466f-8608-ab7a549f8ad2\" class=\"plotly-graph-div\" style=\"height:525px; width:100%;\"></div>            <script type=\"text/javascript\">                require([\"plotly\"], function(Plotly) {                    window.PLOTLYENV=window.PLOTLYENV || {};                                    if (document.getElementById(\"37bca34a-9573-466f-8608-ab7a549f8ad2\")) {                    Plotly.newPlot(                        \"37bca34a-9573-466f-8608-ab7a549f8ad2\",                        [{\"hovertemplate\":\"<b>%{hovertext}</b><br><br>Income Level=LIC<br>GDP (US$)=%{x}<br>Total Solid Waste (Ton)=%{y}<extra></extra>\",\"hovertext\":[\"Afghanistan\",\"Burundi\",\"Benin\",\"Burkina Faso\",\"Central African Republic\",\"Congo, Dem. Rep.\",\"Comoros\",\"Ethiopia\",\"Guinea\",\"Gambia, The\",\"Guinea-Bissau\",\"Haiti\",\"Liberia\",\"Madagascar\",\"Mali\",\"Mozambique\",\"Malawi\",\"Niger\",\"Nepal\",\"Rwanda\",\"Senegal\",\"Sierra Leone\",\"Somalia\",\"Chad\",\"Togo\",\"Tajikistan\",\"Tanzania\",\"Uganda\",\"Zimbabwe\"],\"legendgroup\":\"LIC\",\"marker\":{\"color\":\"#636efa\",\"symbol\":\"circle\"},\"mode\":\"markers\",\"name\":\"LIC\",\"orientation\":\"v\",\"showlegend\":true,\"type\":\"scatter\",\"x\":[19291104008.0,3012308946.0,14391686309.0,15990803570.0,2220307319.0,50400746171.0,1165839900.0,95912590628.0,13513809258.0,1826073740.0,1439638443.0,14332163266.0,3070518100.0,14191911512.0,17281815734.0,15291448212.0,10862613622.0,12911689659.0,34186180695.0,10355974217.0,23306213742.0,4121733705.0,4942319041.0,11314951343.0,7220395248.0,8300784857.0,61136873747.0,35170037381.0,16932434839.0],\"xaxis\":\"x\",\"y\":[5628525.37,1872016.0,685936.01,2575251.11,1105983.0,14385226.02,91013.0,6532786.97,596911.0,193440.54,289514.0,2309852.45485,564466.7,3768759.16,1937354.44,2500000.0,1297844.48,1865645.67,1768977.49,4384969.0,2454059.25,610222.09,2326099.17,1358850.53,1109030.45,1787400.0,9276995.0,7045049.836,1449752.0],\"yaxis\":\"y\"},{\"hovertemplate\":\"<b>%{hovertext}</b><br><br>Income Level=LMC<br>GDP (US$)=%{x}<br>Total Solid Waste (Ton)=%{y}<extra></extra>\",\"hovertext\":[\"Angola\",\"Bangladesh\",\"Bolivia\",\"Bhutan\",\"Cameroon\",\"Congo, Rep.\",\"Cabo Verde\",\"Djibouti\",\"Egypt, Arab Rep.\",\"Micronesia, Fed. Sts.\",\"Georgia\",\"Ghana\",\"Honduras\",\"Indonesia\",\"India\",\"Kenya\",\"Kyrgyz Republic\",\"Cambodia\",\"Kiribati\",\"Lao PDR\",\"Sri Lanka\",\"Lesotho\",\"Morocco\",\"Moldova\",\"Myanmar\",\"Mongolia\",\"Mauritania\",\"Nigeria\",\"Nicaragua\",\"Pakistan\",\"Philippines\",\"Papua New Guinea\",\"West Bank and Gaza\",\"Sudan\",\"Solomon Islands\",\"El Salvador\",\"Eswatini\",\"Timor-Leste\",\"Tunisia\",\"Ukraine\",\"Uzbekistan\",\"Vietnam\",\"Vanuatu\",\"Kosovo\",\"Zambia\"],\"legendgroup\":\"LMC\",\"marker\":{\"color\":\"#EF553B\",\"symbol\":\"circle\"},\"mode\":\"markers\",\"name\":\"LMC\",\"orientation\":\"v\",\"showlegend\":true,\"type\":\"scatter\",\"x\":[89417190341.0,302563000000.0,40895322851.0,2530547158.0,39007354359.0,12693562948.0,1981845741.0,3324634256.0,303081000000.0,408060600.0,17477255562.0,67234292583.0,25089976947.0,1119090000000.0,2870500000000.0,95503088538.0,8871019823.0,27089389787.0,194647201.9,18245925331.0,83975584254.0,2366213069.0,119700000000.0,11968699006.0,79844294296.0,13996719329.0,7600650038.0,448120000000.0,12611218627.0,278222000000.0,376823000000.0,24829107011.0,17133500000.0,32250448249.0,1570215577.0,26896660000.0,4471598727.0,2017924900.0,39195716330.0,153930000000.0,57726542785.0,261921000000.0,930337960.0,7953156068.0,23308688906.0],\"xaxis\":\"x\",\"y\":[4213643.585,14778497.33,2219052.0,111314.05,3270616.59,451200.0,132555.0,114997.24900398408,21000000.0,26039.57,800000.0,3538274.97825,2162027.69575,65200000.0,189750000.0,5595099.0,1113300.0,1089000.0,35723.8275,351900.0,2631650.0,73457.0,6852000.0,3981200.0,4677306.52914,2900000.0,454000.0,27614830.07185,1528816.29335,30760000.0,14631922.9,1000000.0,1387000.0,2831291.0,179971.964375,1648996.18,218199.47,63875.0,2700000.0,15242025.0,4000000.0,9570300.0,70225.489,319000.0,2608268.0],\"yaxis\":\"y\"},{\"hovertemplate\":\"<b>%{hovertext}</b><br><br>Income Level=UMC<br>GDP (US$)=%{x}<br>Total Solid Waste (Ton)=%{y}<extra></extra>\",\"hovertext\":[\"Albania\",\"Armenia\",\"American Samoa\",\"Azerbaijan\",\"Bulgaria\",\"Bosnia and Herzegovina\",\"Belarus\",\"Belize\",\"Brazil\",\"Botswana\",\"China\",\"Colombia\",\"Costa Rica\",\"Cuba\",\"Dominica\",\"Dominican Republic\",\"Algeria\",\"Ecuador\",\"Fiji\",\"Gabon\",\"Equatorial Guinea\",\"Grenada\",\"Guatemala\",\"Guyana\",\"Iran, Islamic Rep.\",\"Iraq\",\"Jamaica\",\"Jordan\",\"Kazakhstan\",\"Lebanon\",\"Libya\",\"St. Lucia\",\"Maldives\",\"Mexico\",\"Marshall Islands\",\"Montenegro\",\"Mauritius\",\"Malaysia\",\"Namibia\",\"Nauru\",\"Peru\",\"Paraguay\",\"Romania\",\"Russian Federation\",\"Serbia\",\"Suriname\",\"Thailand\",\"Turkmenistan\",\"Tonga\",\"Turkey\",\"Tuvalu\",\"St. Vincent and the Grenadines\",\"Samoa\",\"South Africa\"],\"legendgroup\":\"UMC\",\"marker\":{\"color\":\"#00cc96\",\"symbol\":\"circle\"},\"mode\":\"markers\",\"name\":\"UMC\",\"orientation\":\"v\",\"showlegend\":true,\"type\":\"scatter\",\"x\":[15286612573.0,13672802158.0,638000000.0,48174235294.0,68558815112.0,20202479538.0,64409647194.0,1982518541.0,1877810000000.0,18362348888.0,14279900000000.0,323430000000.0,63951114302.0,103131000000.0,574607407.4,88941299734.0,171158000000.0,108108000000.0,5496250694.0,16874450215.0,11417278045.0,1211403704.0,77020015201.0,5173759528.0,258245000000.0,222434000000.0,15830768550.0,44502895915.0,181667000000.0,51991634492.0,52091152228.0,2122450630.0,5642179170.0,1268870000000.0,239462200.0,5542674765.0,14046337855.0,364681000000.0,12565772085.0,118223430.1,228471000000.0,37906944075.0,249697000000.0,1687450000000.0,51475016532.0,4221373022.0,544264000000.0,45231428571.0,512350059.4,761428000000.0,47271463.33,824718518.5,852250191.0,351432000000.0],\"xaxis\":\"x\",\"y\":[1087446.75,492800.0,18989.49,2930349.0,2859190.0,1248718.0,4280000.0,101378.83030000002,79069584.0,210854.44261891601,395081376.0,12150120.0,1460000.0,2692691.98,13176.0,4063910.0,12378740.0,5297211.142533937,189389.59399999998,238102.31,198443.06,29536.113936927773,2756740.97135,179251.5,17885000.0,13140000.0,1051694.575,2529997.0,4659740.0,2040000.0,2147596.47175,77616.228,211505.78,53100000.0,8614.0,329780.3125,438000.0,12982685.0,256729.0,6191.7505,8356711.13,1818501.3648,5419832.5,60000000.0,2347401.5,78619.79914999999,26853366.0,500000.0,17238.20175,35374156.0,3989.4865,31561.34925,27399.09,18457232.0],\"yaxis\":\"y\"},{\"hovertemplate\":\"<b>%{hovertext}</b><br><br>Income Level=HIC<br>GDP (US$)=%{x}<br>Total Solid Waste (Ton)=%{y}<extra></extra>\",\"hovertext\":[\"Andorra\",\"United Arab Emirates\",\"Argentina\",\"Antigua and Barbuda\",\"Australia\",\"Austria\",\"Belgium\",\"Bahrain\",\"Bahamas, The\",\"Bermuda\",\"Barbados\",\"Brunei Darussalam\",\"Canada\",\"Switzerland\",\"Chile\",\"Curacao\",\"Cayman Islands\",\"Cyprus\",\"Czech Republic\",\"Germany\",\"Denmark\",\"Spain\",\"Estonia\",\"Finland\",\"France\",\"United Kingdom\",\"Greece\",\"Guam\",\"Hong Kong SAR, China\",\"Croatia\",\"Hungary\",\"Ireland\",\"Iceland\",\"Israel\",\"Italy\",\"Japan\",\"St. Kitts and Nevis\",\"Korea, Rep.\",\"Kuwait\",\"Lithuania\",\"Luxembourg\",\"Latvia\",\"Macao SAR, China\",\"Monaco\",\"Malta\",\"Northern Mariana Islands\",\"Netherlands\",\"Norway\",\"New Zealand\",\"Oman\",\"Panama\",\"Palau\",\"Poland\",\"Puerto Rico\",\"Portugal\",\"Qatar\",\"Saudi Arabia\",\"Singapore\",\"San Marino\",\"Slovak Republic\",\"Slovenia\",\"Sweden\",\"Seychelles\",\"Trinidad and Tobago\",\"Uruguay\",\"United States\"],\"legendgroup\":\"HIC\",\"marker\":{\"color\":\"#ab63fa\",\"symbol\":\"circle\"},\"mode\":\"markers\",\"name\":\"HIC\",\"orientation\":\"v\",\"showlegend\":true,\"type\":\"scatter\",\"x\":[3155065488.0,421142000000.0,445445000000.0,1661962963.0,1396570000000.0,445075000000.0,533255000000.0,38474521277.0,13578800000.0,7484113000.0,5209000000.0,13469422941.0,1741580000000.0,731474000000.0,279385000000.0,3101787709.0,5935769351.0,24949065264.0,250686000000.0,3861120000000.0,350104000000.0,1393490000000.0,31471100656.0,268966000000.0,2715520000000.0,2830810000000.0,205327000000.0,6311000000.0,363016000000.0,60752588976.0,163504000000.0,398590000000.0,24836714771.0,394652000000.0,2004910000000.0,5064870000000.0,1044711111.0,1646740000000.0,136197000000.0,54639938780.0,71104919108.0,34055464655.0,55153707949.0,7423709840.0,15215714309.0,1182000000.0,907051000000.0,405510000000.0,209127000000.0,76331518669.0,66787900000.0,268354900.0,595862000000.0,104915000000.0,239511000000.0,175838000000.0,792967000000.0,374386000000.0,1616369646.0,105119000000.0,54174227309.0,531283000000.0,1581380269.0,23208326548.0,61231149881.0,21433200000000.0],\"xaxis\":\"x\",\"y\":[43000.0,5617682.0,17910550.0,30585.0,13345000.0,5219715.5,4765883.0,951942.96945,264000.0,82000.0,174815.44444444447,216253.156,25103034.0,6079556.0,6517000.0,24703.813200000004,60000.0,769485.125,5334854.5,50627876.0,4910858.5,22408548.0,489511.71875,3124497.75,36748820.0,30771140.0,5615352.5,141500.0,5679816.465,1810037.5,3780970.25,2910655.0,225270.40625,5400000.0,30088400.0,42720000.0,32892.14,20452776.0,1750000.0,1315390.375,490337.75,839714.375,377942.0,46000.0,348841.1875,32761.4145,8805088.0,4149967.25,3405000.0,1734885.15,1472262.2151499996,9426.7455,12758213.0,4170953.0,5268211.0,1000990.016,16125700.584,1870000.0,17174.68,2296164.75,1052324.75,4618168.5,48000.0,727874.0,1260139.5086500002,265224528.0],\"yaxis\":\"y\"}],                        {\"annotations\":[{\"arrowcolor\":\"#636363\",\"arrowhead\":1,\"font\":{\"color\":\"red\",\"size\":16},\"showarrow\":true,\"text\":\"Outlier\",\"x\":14279900000000.0,\"y\":395081376.0},{\"arrowcolor\":\"#636363\",\"arrowhead\":1,\"font\":{\"color\":\"red\",\"size\":16},\"showarrow\":true,\"text\":\"Outlier\",\"x\":21433200000000.0,\"y\":265224528.0},{\"arrowcolor\":\"#636363\",\"arrowhead\":1,\"font\":{\"color\":\"red\",\"size\":16},\"showarrow\":true,\"text\":\"Outlier\",\"x\":2870500000000.0,\"y\":189750000.0},{\"arrowcolor\":\"#636363\",\"arrowhead\":1,\"font\":{\"color\":\"red\",\"size\":16},\"showarrow\":true,\"text\":\"Outlier\",\"x\":14279900000000.0,\"y\":395081376.0},{\"arrowcolor\":\"#636363\",\"arrowhead\":1,\"font\":{\"color\":\"red\",\"size\":16},\"showarrow\":true,\"text\":\"Outlier\",\"x\":21433200000000.0,\"y\":265224528.0},{\"arrowcolor\":\"#636363\",\"arrowhead\":1,\"font\":{\"color\":\"red\",\"size\":16},\"showarrow\":true,\"text\":\"Outlier\",\"x\":2870500000000.0,\"y\":189750000.0},{\"arrowcolor\":\"#636363\",\"arrowhead\":1,\"font\":{\"color\":\"red\",\"size\":16},\"showarrow\":true,\"text\":\"Outlier\",\"x\":14279900000000.0,\"y\":395081376.0},{\"arrowcolor\":\"#636363\",\"arrowhead\":1,\"font\":{\"color\":\"red\",\"size\":16},\"showarrow\":true,\"text\":\"Outlier\",\"x\":21433200000000.0,\"y\":265224528.0},{\"arrowcolor\":\"#636363\",\"arrowhead\":1,\"font\":{\"color\":\"red\",\"size\":16},\"showarrow\":true,\"text\":\"Outlier\",\"x\":2870500000000.0,\"y\":189750000.0}],\"legend\":{\"title\":{\"text\":\"Income Level\"},\"tracegroupgap\":0},\"margin\":{\"t\":60},\"template\":{\"data\":{\"bar\":[{\"error_x\":{\"color\":\"#2a3f5f\"},\"error_y\":{\"color\":\"#2a3f5f\"},\"marker\":{\"line\":{\"color\":\"#E5ECF6\",\"width\":0.5},\"pattern\":{\"fillmode\":\"overlay\",\"size\":10,\"solidity\":0.2}},\"type\":\"bar\"}],\"barpolar\":[{\"marker\":{\"line\":{\"color\":\"#E5ECF6\",\"width\":0.5},\"pattern\":{\"fillmode\":\"overlay\",\"size\":10,\"solidity\":0.2}},\"type\":\"barpolar\"}],\"carpet\":[{\"aaxis\":{\"endlinecolor\":\"#2a3f5f\",\"gridcolor\":\"white\",\"linecolor\":\"white\",\"minorgridcolor\":\"white\",\"startlinecolor\":\"#2a3f5f\"},\"baxis\":{\"endlinecolor\":\"#2a3f5f\",\"gridcolor\":\"white\",\"linecolor\":\"white\",\"minorgridcolor\":\"white\",\"startlinecolor\":\"#2a3f5f\"},\"type\":\"carpet\"}],\"choropleth\":[{\"colorbar\":{\"outlinewidth\":0,\"ticks\":\"\"},\"type\":\"choropleth\"}],\"contour\":[{\"colorbar\":{\"outlinewidth\":0,\"ticks\":\"\"},\"colorscale\":[[0.0,\"#0d0887\"],[0.1111111111111111,\"#46039f\"],[0.2222222222222222,\"#7201a8\"],[0.3333333333333333,\"#9c179e\"],[0.4444444444444444,\"#bd3786\"],[0.5555555555555556,\"#d8576b\"],[0.6666666666666666,\"#ed7953\"],[0.7777777777777778,\"#fb9f3a\"],[0.8888888888888888,\"#fdca26\"],[1.0,\"#f0f921\"]],\"type\":\"contour\"}],\"contourcarpet\":[{\"colorbar\":{\"outlinewidth\":0,\"ticks\":\"\"},\"type\":\"contourcarpet\"}],\"heatmap\":[{\"colorbar\":{\"outlinewidth\":0,\"ticks\":\"\"},\"colorscale\":[[0.0,\"#0d0887\"],[0.1111111111111111,\"#46039f\"],[0.2222222222222222,\"#7201a8\"],[0.3333333333333333,\"#9c179e\"],[0.4444444444444444,\"#bd3786\"],[0.5555555555555556,\"#d8576b\"],[0.6666666666666666,\"#ed7953\"],[0.7777777777777778,\"#fb9f3a\"],[0.8888888888888888,\"#fdca26\"],[1.0,\"#f0f921\"]],\"type\":\"heatmap\"}],\"heatmapgl\":[{\"colorbar\":{\"outlinewidth\":0,\"ticks\":\"\"},\"colorscale\":[[0.0,\"#0d0887\"],[0.1111111111111111,\"#46039f\"],[0.2222222222222222,\"#7201a8\"],[0.3333333333333333,\"#9c179e\"],[0.4444444444444444,\"#bd3786\"],[0.5555555555555556,\"#d8576b\"],[0.6666666666666666,\"#ed7953\"],[0.7777777777777778,\"#fb9f3a\"],[0.8888888888888888,\"#fdca26\"],[1.0,\"#f0f921\"]],\"type\":\"heatmapgl\"}],\"histogram\":[{\"marker\":{\"pattern\":{\"fillmode\":\"overlay\",\"size\":10,\"solidity\":0.2}},\"type\":\"histogram\"}],\"histogram2d\":[{\"colorbar\":{\"outlinewidth\":0,\"ticks\":\"\"},\"colorscale\":[[0.0,\"#0d0887\"],[0.1111111111111111,\"#46039f\"],[0.2222222222222222,\"#7201a8\"],[0.3333333333333333,\"#9c179e\"],[0.4444444444444444,\"#bd3786\"],[0.5555555555555556,\"#d8576b\"],[0.6666666666666666,\"#ed7953\"],[0.7777777777777778,\"#fb9f3a\"],[0.8888888888888888,\"#fdca26\"],[1.0,\"#f0f921\"]],\"type\":\"histogram2d\"}],\"histogram2dcontour\":[{\"colorbar\":{\"outlinewidth\":0,\"ticks\":\"\"},\"colorscale\":[[0.0,\"#0d0887\"],[0.1111111111111111,\"#46039f\"],[0.2222222222222222,\"#7201a8\"],[0.3333333333333333,\"#9c179e\"],[0.4444444444444444,\"#bd3786\"],[0.5555555555555556,\"#d8576b\"],[0.6666666666666666,\"#ed7953\"],[0.7777777777777778,\"#fb9f3a\"],[0.8888888888888888,\"#fdca26\"],[1.0,\"#f0f921\"]],\"type\":\"histogram2dcontour\"}],\"mesh3d\":[{\"colorbar\":{\"outlinewidth\":0,\"ticks\":\"\"},\"type\":\"mesh3d\"}],\"parcoords\":[{\"line\":{\"colorbar\":{\"outlinewidth\":0,\"ticks\":\"\"}},\"type\":\"parcoords\"}],\"pie\":[{\"automargin\":true,\"type\":\"pie\"}],\"scatter\":[{\"marker\":{\"colorbar\":{\"outlinewidth\":0,\"ticks\":\"\"}},\"type\":\"scatter\"}],\"scatter3d\":[{\"line\":{\"colorbar\":{\"outlinewidth\":0,\"ticks\":\"\"}},\"marker\":{\"colorbar\":{\"outlinewidth\":0,\"ticks\":\"\"}},\"type\":\"scatter3d\"}],\"scattercarpet\":[{\"marker\":{\"colorbar\":{\"outlinewidth\":0,\"ticks\":\"\"}},\"type\":\"scattercarpet\"}],\"scattergeo\":[{\"marker\":{\"colorbar\":{\"outlinewidth\":0,\"ticks\":\"\"}},\"type\":\"scattergeo\"}],\"scattergl\":[{\"marker\":{\"colorbar\":{\"outlinewidth\":0,\"ticks\":\"\"}},\"type\":\"scattergl\"}],\"scattermapbox\":[{\"marker\":{\"colorbar\":{\"outlinewidth\":0,\"ticks\":\"\"}},\"type\":\"scattermapbox\"}],\"scatterpolar\":[{\"marker\":{\"colorbar\":{\"outlinewidth\":0,\"ticks\":\"\"}},\"type\":\"scatterpolar\"}],\"scatterpolargl\":[{\"marker\":{\"colorbar\":{\"outlinewidth\":0,\"ticks\":\"\"}},\"type\":\"scatterpolargl\"}],\"scatterternary\":[{\"marker\":{\"colorbar\":{\"outlinewidth\":0,\"ticks\":\"\"}},\"type\":\"scatterternary\"}],\"surface\":[{\"colorbar\":{\"outlinewidth\":0,\"ticks\":\"\"},\"colorscale\":[[0.0,\"#0d0887\"],[0.1111111111111111,\"#46039f\"],[0.2222222222222222,\"#7201a8\"],[0.3333333333333333,\"#9c179e\"],[0.4444444444444444,\"#bd3786\"],[0.5555555555555556,\"#d8576b\"],[0.6666666666666666,\"#ed7953\"],[0.7777777777777778,\"#fb9f3a\"],[0.8888888888888888,\"#fdca26\"],[1.0,\"#f0f921\"]],\"type\":\"surface\"}],\"table\":[{\"cells\":{\"fill\":{\"color\":\"#EBF0F8\"},\"line\":{\"color\":\"white\"}},\"header\":{\"fill\":{\"color\":\"#C8D4E3\"},\"line\":{\"color\":\"white\"}},\"type\":\"table\"}]},\"layout\":{\"annotationdefaults\":{\"arrowcolor\":\"#2a3f5f\",\"arrowhead\":0,\"arrowwidth\":1},\"autotypenumbers\":\"strict\",\"coloraxis\":{\"colorbar\":{\"outlinewidth\":0,\"ticks\":\"\"}},\"colorscale\":{\"diverging\":[[0,\"#8e0152\"],[0.1,\"#c51b7d\"],[0.2,\"#de77ae\"],[0.3,\"#f1b6da\"],[0.4,\"#fde0ef\"],[0.5,\"#f7f7f7\"],[0.6,\"#e6f5d0\"],[0.7,\"#b8e186\"],[0.8,\"#7fbc41\"],[0.9,\"#4d9221\"],[1,\"#276419\"]],\"sequential\":[[0.0,\"#0d0887\"],[0.1111111111111111,\"#46039f\"],[0.2222222222222222,\"#7201a8\"],[0.3333333333333333,\"#9c179e\"],[0.4444444444444444,\"#bd3786\"],[0.5555555555555556,\"#d8576b\"],[0.6666666666666666,\"#ed7953\"],[0.7777777777777778,\"#fb9f3a\"],[0.8888888888888888,\"#fdca26\"],[1.0,\"#f0f921\"]],\"sequentialminus\":[[0.0,\"#0d0887\"],[0.1111111111111111,\"#46039f\"],[0.2222222222222222,\"#7201a8\"],[0.3333333333333333,\"#9c179e\"],[0.4444444444444444,\"#bd3786\"],[0.5555555555555556,\"#d8576b\"],[0.6666666666666666,\"#ed7953\"],[0.7777777777777778,\"#fb9f3a\"],[0.8888888888888888,\"#fdca26\"],[1.0,\"#f0f921\"]]},\"colorway\":[\"#636efa\",\"#EF553B\",\"#00cc96\",\"#ab63fa\",\"#FFA15A\",\"#19d3f3\",\"#FF6692\",\"#B6E880\",\"#FF97FF\",\"#FECB52\"],\"font\":{\"color\":\"#2a3f5f\"},\"geo\":{\"bgcolor\":\"white\",\"lakecolor\":\"white\",\"landcolor\":\"#E5ECF6\",\"showlakes\":true,\"showland\":true,\"subunitcolor\":\"white\"},\"hoverlabel\":{\"align\":\"left\"},\"hovermode\":\"closest\",\"mapbox\":{\"style\":\"light\"},\"paper_bgcolor\":\"white\",\"plot_bgcolor\":\"#E5ECF6\",\"polar\":{\"angularaxis\":{\"gridcolor\":\"white\",\"linecolor\":\"white\",\"ticks\":\"\"},\"bgcolor\":\"#E5ECF6\",\"radialaxis\":{\"gridcolor\":\"white\",\"linecolor\":\"white\",\"ticks\":\"\"}},\"scene\":{\"xaxis\":{\"backgroundcolor\":\"#E5ECF6\",\"gridcolor\":\"white\",\"gridwidth\":2,\"linecolor\":\"white\",\"showbackground\":true,\"ticks\":\"\",\"zerolinecolor\":\"white\"},\"yaxis\":{\"backgroundcolor\":\"#E5ECF6\",\"gridcolor\":\"white\",\"gridwidth\":2,\"linecolor\":\"white\",\"showbackground\":true,\"ticks\":\"\",\"zerolinecolor\":\"white\"},\"zaxis\":{\"backgroundcolor\":\"#E5ECF6\",\"gridcolor\":\"white\",\"gridwidth\":2,\"linecolor\":\"white\",\"showbackground\":true,\"ticks\":\"\",\"zerolinecolor\":\"white\"}},\"shapedefaults\":{\"line\":{\"color\":\"#2a3f5f\"}},\"ternary\":{\"aaxis\":{\"gridcolor\":\"white\",\"linecolor\":\"white\",\"ticks\":\"\"},\"baxis\":{\"gridcolor\":\"white\",\"linecolor\":\"white\",\"ticks\":\"\"},\"bgcolor\":\"#E5ECF6\",\"caxis\":{\"gridcolor\":\"white\",\"linecolor\":\"white\",\"ticks\":\"\"}},\"title\":{\"x\":0.05},\"xaxis\":{\"automargin\":true,\"gridcolor\":\"white\",\"linecolor\":\"white\",\"ticks\":\"\",\"title\":{\"standoff\":15},\"zerolinecolor\":\"white\",\"zerolinewidth\":2},\"yaxis\":{\"automargin\":true,\"gridcolor\":\"white\",\"linecolor\":\"white\",\"ticks\":\"\",\"title\":{\"standoff\":15},\"zerolinecolor\":\"white\",\"zerolinewidth\":2}}},\"xaxis\":{\"anchor\":\"y\",\"domain\":[0.0,1.0],\"title\":{\"text\":\"GDP (US$)\"}},\"yaxis\":{\"anchor\":\"x\",\"domain\":[0.0,1.0],\"title\":{\"text\":\"Total Solid Waste (Ton)\"}}},                        {\"responsive\": true}                    ).then(function(){\n",
       "                            \n",
       "var gd = document.getElementById('37bca34a-9573-466f-8608-ab7a549f8ad2');\n",
       "var x = new MutationObserver(function (mutations, observer) {{\n",
       "        var display = window.getComputedStyle(gd).display;\n",
       "        if (!display || display === 'none') {{\n",
       "            console.log([gd, 'removed!']);\n",
       "            Plotly.purge(gd);\n",
       "            observer.disconnect();\n",
       "        }}\n",
       "}});\n",
       "\n",
       "// Listen for the removal of the full notebook cells\n",
       "var notebookContainer = gd.closest('#notebook-container');\n",
       "if (notebookContainer) {{\n",
       "    x.observe(notebookContainer, {childList: true});\n",
       "}}\n",
       "\n",
       "// Listen for the clearing of the current output cell\n",
       "var outputEl = gd.closest('.output');\n",
       "if (outputEl) {{\n",
       "    x.observe(outputEl, {childList: true});\n",
       "}}\n",
       "\n",
       "                        })                };                });            </script>        </div>"
      ]
     },
     "metadata": {},
     "output_type": "display_data"
    }
   ],
   "source": [
    "for i in range(len(out_ind)):\n",
    "    fig.add_annotation(x=out_x[i],\n",
    "                   y=out_y[i],\n",
    "                   text='Outlier',\n",
    "                   font=dict(size=16, color=\"red\"),\n",
    "                   showarrow=True,\n",
    "                   arrowcolor=\"#636363\",\n",
    "                   arrowhead=1)\n",
    "fig.show()"
   ]
  },
  {
   "cell_type": "markdown",
   "id": "religious-cleaners",
   "metadata": {},
   "source": [
    "Visually there are some outlier which may affect the model accurcy significantly. Therefore next step I am going to remove them.\n"
   ]
  },
  {
   "cell_type": "code",
   "execution_count": 273,
   "id": "nervous-christopher",
   "metadata": {},
   "outputs": [
    {
     "data": {
      "application/vnd.plotly.v1+json": {
       "config": {
        "plotlyServerURL": "https://plot.ly"
       },
       "data": [
        {
         "hovertemplate": "<b>%{hovertext}</b><br><br>Income Level=LIC<br>GDP (US$)=%{x}<br>Total Solid Waste (Ton)=%{y}<extra></extra>",
         "hovertext": [
          "Afghanistan",
          "Burundi",
          "Benin",
          "Burkina Faso",
          "Central African Republic",
          "Congo, Dem. Rep.",
          "Comoros",
          "Ethiopia",
          "Guinea",
          "Gambia, The",
          "Guinea-Bissau",
          "Haiti",
          "Liberia",
          "Madagascar",
          "Mali",
          "Mozambique",
          "Malawi",
          "Niger",
          "Nepal",
          "Rwanda",
          "Senegal",
          "Sierra Leone",
          "Somalia",
          "Chad",
          "Togo",
          "Tajikistan",
          "Tanzania",
          "Uganda",
          "Zimbabwe"
         ],
         "legendgroup": "LIC",
         "marker": {
          "color": "#636efa",
          "symbol": "circle"
         },
         "mode": "markers",
         "name": "LIC",
         "orientation": "v",
         "showlegend": true,
         "type": "scatter",
         "x": [
          19291104008,
          3012308946,
          14391686309,
          15990803570,
          2220307319,
          50400746171,
          1165839900,
          95912590628,
          13513809258,
          1826073740,
          1439638443,
          14332163266,
          3070518100,
          14191911512,
          17281815734,
          15291448212,
          10862613622,
          12911689659,
          34186180695,
          10355974217,
          23306213742,
          4121733705,
          4942319041,
          11314951343,
          7220395248,
          8300784857,
          61136873747,
          35170037381,
          16932434839
         ],
         "xaxis": "x",
         "y": [
          5628525.37,
          1872016,
          685936.01,
          2575251.11,
          1105983,
          14385226.02,
          91013,
          6532786.97,
          596911,
          193440.54,
          289514,
          2309852.45485,
          564466.7,
          3768759.16,
          1937354.44,
          2500000,
          1297844.48,
          1865645.67,
          1768977.49,
          4384969,
          2454059.25,
          610222.09,
          2326099.17,
          1358850.53,
          1109030.45,
          1787400,
          9276995,
          7045049.836,
          1449752
         ],
         "yaxis": "y"
        },
        {
         "hovertemplate": "<b>%{hovertext}</b><br><br>Income Level=LMC<br>GDP (US$)=%{x}<br>Total Solid Waste (Ton)=%{y}<extra></extra>",
         "hovertext": [
          "Angola",
          "Bangladesh",
          "Bolivia",
          "Bhutan",
          "Cameroon",
          "Congo, Rep.",
          "Cabo Verde",
          "Djibouti",
          "Egypt, Arab Rep.",
          "Micronesia, Fed. Sts.",
          "Georgia",
          "Ghana",
          "Honduras",
          "Indonesia",
          "Kenya",
          "Kyrgyz Republic",
          "Cambodia",
          "Kiribati",
          "Lao PDR",
          "Sri Lanka",
          "Lesotho",
          "Morocco",
          "Moldova",
          "Myanmar",
          "Mongolia",
          "Mauritania",
          "Nigeria",
          "Nicaragua",
          "Pakistan",
          "Philippines",
          "Papua New Guinea",
          "West Bank and Gaza",
          "Sudan",
          "Solomon Islands",
          "El Salvador",
          "Eswatini",
          "Timor-Leste",
          "Tunisia",
          "Ukraine",
          "Uzbekistan",
          "Vietnam",
          "Vanuatu",
          "Kosovo",
          "Zambia"
         ],
         "legendgroup": "LMC",
         "marker": {
          "color": "#EF553B",
          "symbol": "circle"
         },
         "mode": "markers",
         "name": "LMC",
         "orientation": "v",
         "showlegend": true,
         "type": "scatter",
         "x": [
          89417190341,
          302563000000,
          40895322851,
          2530547158,
          39007354359,
          12693562948,
          1981845741,
          3324634256,
          303081000000,
          408060600,
          17477255562,
          67234292583,
          25089976947,
          1119090000000,
          95503088538,
          8871019823,
          27089389787,
          194647201.9,
          18245925331,
          83975584254,
          2366213069,
          119700000000,
          11968699006,
          79844294296,
          13996719329,
          7600650038,
          448120000000,
          12611218627,
          278222000000,
          376823000000,
          24829107011,
          17133500000,
          32250448249,
          1570215577,
          26896660000,
          4471598727,
          2017924900,
          39195716330,
          153930000000,
          57726542785,
          261921000000,
          930337960,
          7953156068,
          23308688906
         ],
         "xaxis": "x",
         "y": [
          4213643.585,
          14778497.33,
          2219052,
          111314.05,
          3270616.59,
          451200,
          132555,
          114997.24900398408,
          21000000,
          26039.57,
          800000,
          3538274.97825,
          2162027.69575,
          65200000,
          5595099,
          1113300,
          1089000,
          35723.8275,
          351900,
          2631650,
          73457,
          6852000,
          3981200,
          4677306.52914,
          2900000,
          454000,
          27614830.07185,
          1528816.29335,
          30760000,
          14631922.9,
          1000000,
          1387000,
          2831291,
          179971.964375,
          1648996.18,
          218199.47,
          63875,
          2700000,
          15242025,
          4000000,
          9570300,
          70225.489,
          319000,
          2608268
         ],
         "yaxis": "y"
        },
        {
         "hovertemplate": "<b>%{hovertext}</b><br><br>Income Level=UMC<br>GDP (US$)=%{x}<br>Total Solid Waste (Ton)=%{y}<extra></extra>",
         "hovertext": [
          "Albania",
          "Armenia",
          "American Samoa",
          "Azerbaijan",
          "Bulgaria",
          "Bosnia and Herzegovina",
          "Belarus",
          "Belize",
          "Brazil",
          "Botswana",
          "Colombia",
          "Costa Rica",
          "Cuba",
          "Dominica",
          "Dominican Republic",
          "Algeria",
          "Ecuador",
          "Fiji",
          "Gabon",
          "Equatorial Guinea",
          "Grenada",
          "Guatemala",
          "Guyana",
          "Iran, Islamic Rep.",
          "Iraq",
          "Jamaica",
          "Jordan",
          "Kazakhstan",
          "Lebanon",
          "Libya",
          "St. Lucia",
          "Maldives",
          "Mexico",
          "Marshall Islands",
          "Montenegro",
          "Mauritius",
          "Malaysia",
          "Namibia",
          "Nauru",
          "Peru",
          "Paraguay",
          "Romania",
          "Russian Federation",
          "Serbia",
          "Suriname",
          "Thailand",
          "Turkmenistan",
          "Tonga",
          "Turkey",
          "Tuvalu",
          "St. Vincent and the Grenadines",
          "Samoa",
          "South Africa"
         ],
         "legendgroup": "UMC",
         "marker": {
          "color": "#00cc96",
          "symbol": "circle"
         },
         "mode": "markers",
         "name": "UMC",
         "orientation": "v",
         "showlegend": true,
         "type": "scatter",
         "x": [
          15286612573,
          13672802158,
          638000000,
          48174235294,
          68558815112,
          20202479538,
          64409647194,
          1982518541,
          1877810000000,
          18362348888,
          323430000000,
          63951114302,
          103131000000,
          574607407.4,
          88941299734,
          171158000000,
          108108000000,
          5496250694,
          16874450215,
          11417278045,
          1211403704,
          77020015201,
          5173759528,
          258245000000,
          222434000000,
          15830768550,
          44502895915,
          181667000000,
          51991634492,
          52091152228,
          2122450630,
          5642179170,
          1268870000000,
          239462200,
          5542674765,
          14046337855,
          364681000000,
          12565772085,
          118223430.1,
          228471000000,
          37906944075,
          249697000000,
          1687450000000,
          51475016532,
          4221373022,
          544264000000,
          45231428571,
          512350059.4,
          761428000000,
          47271463.33,
          824718518.5,
          852250191,
          351432000000
         ],
         "xaxis": "x",
         "y": [
          1087446.75,
          492800,
          18989.49,
          2930349,
          2859190,
          1248718,
          4280000,
          101378.83030000002,
          79069584,
          210854.44261891601,
          12150120,
          1460000,
          2692691.98,
          13176,
          4063910,
          12378740,
          5297211.142533937,
          189389.59399999998,
          238102.31,
          198443.06,
          29536.113936927773,
          2756740.97135,
          179251.5,
          17885000,
          13140000,
          1051694.575,
          2529997,
          4659740,
          2040000,
          2147596.47175,
          77616.228,
          211505.78,
          53100000,
          8614,
          329780.3125,
          438000,
          12982685,
          256729,
          6191.7505,
          8356711.13,
          1818501.3648,
          5419832.5,
          60000000,
          2347401.5,
          78619.79914999999,
          26853366,
          500000,
          17238.20175,
          35374156,
          3989.4865,
          31561.34925,
          27399.09,
          18457232
         ],
         "yaxis": "y"
        },
        {
         "hovertemplate": "<b>%{hovertext}</b><br><br>Income Level=HIC<br>GDP (US$)=%{x}<br>Total Solid Waste (Ton)=%{y}<extra></extra>",
         "hovertext": [
          "Andorra",
          "United Arab Emirates",
          "Argentina",
          "Antigua and Barbuda",
          "Australia",
          "Austria",
          "Belgium",
          "Bahrain",
          "Bahamas, The",
          "Bermuda",
          "Barbados",
          "Brunei Darussalam",
          "Canada",
          "Switzerland",
          "Chile",
          "Curacao",
          "Cayman Islands",
          "Cyprus",
          "Czech Republic",
          "Germany",
          "Denmark",
          "Spain",
          "Estonia",
          "Finland",
          "France",
          "United Kingdom",
          "Greece",
          "Guam",
          "Hong Kong SAR, China",
          "Croatia",
          "Hungary",
          "Ireland",
          "Iceland",
          "Israel",
          "Italy",
          "Japan",
          "St. Kitts and Nevis",
          "Korea, Rep.",
          "Kuwait",
          "Lithuania",
          "Luxembourg",
          "Latvia",
          "Macao SAR, China",
          "Monaco",
          "Malta",
          "Northern Mariana Islands",
          "Netherlands",
          "Norway",
          "New Zealand",
          "Oman",
          "Panama",
          "Palau",
          "Poland",
          "Puerto Rico",
          "Portugal",
          "Qatar",
          "Saudi Arabia",
          "Singapore",
          "San Marino",
          "Slovak Republic",
          "Slovenia",
          "Sweden",
          "Seychelles",
          "Trinidad and Tobago",
          "Uruguay"
         ],
         "legendgroup": "HIC",
         "marker": {
          "color": "#ab63fa",
          "symbol": "circle"
         },
         "mode": "markers",
         "name": "HIC",
         "orientation": "v",
         "showlegend": true,
         "type": "scatter",
         "x": [
          3155065488,
          421142000000,
          445445000000,
          1661962963,
          1396570000000,
          445075000000,
          533255000000,
          38474521277,
          13578800000,
          7484113000,
          5209000000,
          13469422941,
          1741580000000,
          731474000000,
          279385000000,
          3101787709,
          5935769351,
          24949065264,
          250686000000,
          3861120000000,
          350104000000,
          1393490000000,
          31471100656,
          268966000000,
          2715520000000,
          2830810000000,
          205327000000,
          6311000000,
          363016000000,
          60752588976,
          163504000000,
          398590000000,
          24836714771,
          394652000000,
          2004910000000,
          5064870000000,
          1044711111,
          1646740000000,
          136197000000,
          54639938780,
          71104919108,
          34055464655,
          55153707949,
          7423709840,
          15215714309,
          1182000000,
          907051000000,
          405510000000,
          209127000000,
          76331518669,
          66787900000,
          268354900,
          595862000000,
          104915000000,
          239511000000,
          175838000000,
          792967000000,
          374386000000,
          1616369646,
          105119000000,
          54174227309,
          531283000000,
          1581380269,
          23208326548,
          61231149881
         ],
         "xaxis": "x",
         "y": [
          43000,
          5617682,
          17910550,
          30585,
          13345000,
          5219715.5,
          4765883,
          951942.96945,
          264000,
          82000,
          174815.44444444447,
          216253.156,
          25103034,
          6079556,
          6517000,
          24703.813200000004,
          60000,
          769485.125,
          5334854.5,
          50627876,
          4910858.5,
          22408548,
          489511.71875,
          3124497.75,
          36748820,
          30771140,
          5615352.5,
          141500,
          5679816.465,
          1810037.5,
          3780970.25,
          2910655,
          225270.40625,
          5400000,
          30088400,
          42720000,
          32892.14,
          20452776,
          1750000,
          1315390.375,
          490337.75,
          839714.375,
          377942,
          46000,
          348841.1875,
          32761.4145,
          8805088,
          4149967.25,
          3405000,
          1734885.15,
          1472262.2151499996,
          9426.7455,
          12758213,
          4170953,
          5268211,
          1000990.016,
          16125700.584,
          1870000,
          17174.68,
          2296164.75,
          1052324.75,
          4618168.5,
          48000,
          727874,
          1260139.5086500002
         ],
         "yaxis": "y"
        }
       ],
       "layout": {
        "legend": {
         "title": {
          "text": "Income Level"
         },
         "tracegroupgap": 0
        },
        "margin": {
         "t": 60
        },
        "template": {
         "data": {
          "bar": [
           {
            "error_x": {
             "color": "#2a3f5f"
            },
            "error_y": {
             "color": "#2a3f5f"
            },
            "marker": {
             "line": {
              "color": "#E5ECF6",
              "width": 0.5
             },
             "pattern": {
              "fillmode": "overlay",
              "size": 10,
              "solidity": 0.2
             }
            },
            "type": "bar"
           }
          ],
          "barpolar": [
           {
            "marker": {
             "line": {
              "color": "#E5ECF6",
              "width": 0.5
             },
             "pattern": {
              "fillmode": "overlay",
              "size": 10,
              "solidity": 0.2
             }
            },
            "type": "barpolar"
           }
          ],
          "carpet": [
           {
            "aaxis": {
             "endlinecolor": "#2a3f5f",
             "gridcolor": "white",
             "linecolor": "white",
             "minorgridcolor": "white",
             "startlinecolor": "#2a3f5f"
            },
            "baxis": {
             "endlinecolor": "#2a3f5f",
             "gridcolor": "white",
             "linecolor": "white",
             "minorgridcolor": "white",
             "startlinecolor": "#2a3f5f"
            },
            "type": "carpet"
           }
          ],
          "choropleth": [
           {
            "colorbar": {
             "outlinewidth": 0,
             "ticks": ""
            },
            "type": "choropleth"
           }
          ],
          "contour": [
           {
            "colorbar": {
             "outlinewidth": 0,
             "ticks": ""
            },
            "colorscale": [
             [
              0,
              "#0d0887"
             ],
             [
              0.1111111111111111,
              "#46039f"
             ],
             [
              0.2222222222222222,
              "#7201a8"
             ],
             [
              0.3333333333333333,
              "#9c179e"
             ],
             [
              0.4444444444444444,
              "#bd3786"
             ],
             [
              0.5555555555555556,
              "#d8576b"
             ],
             [
              0.6666666666666666,
              "#ed7953"
             ],
             [
              0.7777777777777778,
              "#fb9f3a"
             ],
             [
              0.8888888888888888,
              "#fdca26"
             ],
             [
              1,
              "#f0f921"
             ]
            ],
            "type": "contour"
           }
          ],
          "contourcarpet": [
           {
            "colorbar": {
             "outlinewidth": 0,
             "ticks": ""
            },
            "type": "contourcarpet"
           }
          ],
          "heatmap": [
           {
            "colorbar": {
             "outlinewidth": 0,
             "ticks": ""
            },
            "colorscale": [
             [
              0,
              "#0d0887"
             ],
             [
              0.1111111111111111,
              "#46039f"
             ],
             [
              0.2222222222222222,
              "#7201a8"
             ],
             [
              0.3333333333333333,
              "#9c179e"
             ],
             [
              0.4444444444444444,
              "#bd3786"
             ],
             [
              0.5555555555555556,
              "#d8576b"
             ],
             [
              0.6666666666666666,
              "#ed7953"
             ],
             [
              0.7777777777777778,
              "#fb9f3a"
             ],
             [
              0.8888888888888888,
              "#fdca26"
             ],
             [
              1,
              "#f0f921"
             ]
            ],
            "type": "heatmap"
           }
          ],
          "heatmapgl": [
           {
            "colorbar": {
             "outlinewidth": 0,
             "ticks": ""
            },
            "colorscale": [
             [
              0,
              "#0d0887"
             ],
             [
              0.1111111111111111,
              "#46039f"
             ],
             [
              0.2222222222222222,
              "#7201a8"
             ],
             [
              0.3333333333333333,
              "#9c179e"
             ],
             [
              0.4444444444444444,
              "#bd3786"
             ],
             [
              0.5555555555555556,
              "#d8576b"
             ],
             [
              0.6666666666666666,
              "#ed7953"
             ],
             [
              0.7777777777777778,
              "#fb9f3a"
             ],
             [
              0.8888888888888888,
              "#fdca26"
             ],
             [
              1,
              "#f0f921"
             ]
            ],
            "type": "heatmapgl"
           }
          ],
          "histogram": [
           {
            "marker": {
             "pattern": {
              "fillmode": "overlay",
              "size": 10,
              "solidity": 0.2
             }
            },
            "type": "histogram"
           }
          ],
          "histogram2d": [
           {
            "colorbar": {
             "outlinewidth": 0,
             "ticks": ""
            },
            "colorscale": [
             [
              0,
              "#0d0887"
             ],
             [
              0.1111111111111111,
              "#46039f"
             ],
             [
              0.2222222222222222,
              "#7201a8"
             ],
             [
              0.3333333333333333,
              "#9c179e"
             ],
             [
              0.4444444444444444,
              "#bd3786"
             ],
             [
              0.5555555555555556,
              "#d8576b"
             ],
             [
              0.6666666666666666,
              "#ed7953"
             ],
             [
              0.7777777777777778,
              "#fb9f3a"
             ],
             [
              0.8888888888888888,
              "#fdca26"
             ],
             [
              1,
              "#f0f921"
             ]
            ],
            "type": "histogram2d"
           }
          ],
          "histogram2dcontour": [
           {
            "colorbar": {
             "outlinewidth": 0,
             "ticks": ""
            },
            "colorscale": [
             [
              0,
              "#0d0887"
             ],
             [
              0.1111111111111111,
              "#46039f"
             ],
             [
              0.2222222222222222,
              "#7201a8"
             ],
             [
              0.3333333333333333,
              "#9c179e"
             ],
             [
              0.4444444444444444,
              "#bd3786"
             ],
             [
              0.5555555555555556,
              "#d8576b"
             ],
             [
              0.6666666666666666,
              "#ed7953"
             ],
             [
              0.7777777777777778,
              "#fb9f3a"
             ],
             [
              0.8888888888888888,
              "#fdca26"
             ],
             [
              1,
              "#f0f921"
             ]
            ],
            "type": "histogram2dcontour"
           }
          ],
          "mesh3d": [
           {
            "colorbar": {
             "outlinewidth": 0,
             "ticks": ""
            },
            "type": "mesh3d"
           }
          ],
          "parcoords": [
           {
            "line": {
             "colorbar": {
              "outlinewidth": 0,
              "ticks": ""
             }
            },
            "type": "parcoords"
           }
          ],
          "pie": [
           {
            "automargin": true,
            "type": "pie"
           }
          ],
          "scatter": [
           {
            "marker": {
             "colorbar": {
              "outlinewidth": 0,
              "ticks": ""
             }
            },
            "type": "scatter"
           }
          ],
          "scatter3d": [
           {
            "line": {
             "colorbar": {
              "outlinewidth": 0,
              "ticks": ""
             }
            },
            "marker": {
             "colorbar": {
              "outlinewidth": 0,
              "ticks": ""
             }
            },
            "type": "scatter3d"
           }
          ],
          "scattercarpet": [
           {
            "marker": {
             "colorbar": {
              "outlinewidth": 0,
              "ticks": ""
             }
            },
            "type": "scattercarpet"
           }
          ],
          "scattergeo": [
           {
            "marker": {
             "colorbar": {
              "outlinewidth": 0,
              "ticks": ""
             }
            },
            "type": "scattergeo"
           }
          ],
          "scattergl": [
           {
            "marker": {
             "colorbar": {
              "outlinewidth": 0,
              "ticks": ""
             }
            },
            "type": "scattergl"
           }
          ],
          "scattermapbox": [
           {
            "marker": {
             "colorbar": {
              "outlinewidth": 0,
              "ticks": ""
             }
            },
            "type": "scattermapbox"
           }
          ],
          "scatterpolar": [
           {
            "marker": {
             "colorbar": {
              "outlinewidth": 0,
              "ticks": ""
             }
            },
            "type": "scatterpolar"
           }
          ],
          "scatterpolargl": [
           {
            "marker": {
             "colorbar": {
              "outlinewidth": 0,
              "ticks": ""
             }
            },
            "type": "scatterpolargl"
           }
          ],
          "scatterternary": [
           {
            "marker": {
             "colorbar": {
              "outlinewidth": 0,
              "ticks": ""
             }
            },
            "type": "scatterternary"
           }
          ],
          "surface": [
           {
            "colorbar": {
             "outlinewidth": 0,
             "ticks": ""
            },
            "colorscale": [
             [
              0,
              "#0d0887"
             ],
             [
              0.1111111111111111,
              "#46039f"
             ],
             [
              0.2222222222222222,
              "#7201a8"
             ],
             [
              0.3333333333333333,
              "#9c179e"
             ],
             [
              0.4444444444444444,
              "#bd3786"
             ],
             [
              0.5555555555555556,
              "#d8576b"
             ],
             [
              0.6666666666666666,
              "#ed7953"
             ],
             [
              0.7777777777777778,
              "#fb9f3a"
             ],
             [
              0.8888888888888888,
              "#fdca26"
             ],
             [
              1,
              "#f0f921"
             ]
            ],
            "type": "surface"
           }
          ],
          "table": [
           {
            "cells": {
             "fill": {
              "color": "#EBF0F8"
             },
             "line": {
              "color": "white"
             }
            },
            "header": {
             "fill": {
              "color": "#C8D4E3"
             },
             "line": {
              "color": "white"
             }
            },
            "type": "table"
           }
          ]
         },
         "layout": {
          "annotationdefaults": {
           "arrowcolor": "#2a3f5f",
           "arrowhead": 0,
           "arrowwidth": 1
          },
          "autotypenumbers": "strict",
          "coloraxis": {
           "colorbar": {
            "outlinewidth": 0,
            "ticks": ""
           }
          },
          "colorscale": {
           "diverging": [
            [
             0,
             "#8e0152"
            ],
            [
             0.1,
             "#c51b7d"
            ],
            [
             0.2,
             "#de77ae"
            ],
            [
             0.3,
             "#f1b6da"
            ],
            [
             0.4,
             "#fde0ef"
            ],
            [
             0.5,
             "#f7f7f7"
            ],
            [
             0.6,
             "#e6f5d0"
            ],
            [
             0.7,
             "#b8e186"
            ],
            [
             0.8,
             "#7fbc41"
            ],
            [
             0.9,
             "#4d9221"
            ],
            [
             1,
             "#276419"
            ]
           ],
           "sequential": [
            [
             0,
             "#0d0887"
            ],
            [
             0.1111111111111111,
             "#46039f"
            ],
            [
             0.2222222222222222,
             "#7201a8"
            ],
            [
             0.3333333333333333,
             "#9c179e"
            ],
            [
             0.4444444444444444,
             "#bd3786"
            ],
            [
             0.5555555555555556,
             "#d8576b"
            ],
            [
             0.6666666666666666,
             "#ed7953"
            ],
            [
             0.7777777777777778,
             "#fb9f3a"
            ],
            [
             0.8888888888888888,
             "#fdca26"
            ],
            [
             1,
             "#f0f921"
            ]
           ],
           "sequentialminus": [
            [
             0,
             "#0d0887"
            ],
            [
             0.1111111111111111,
             "#46039f"
            ],
            [
             0.2222222222222222,
             "#7201a8"
            ],
            [
             0.3333333333333333,
             "#9c179e"
            ],
            [
             0.4444444444444444,
             "#bd3786"
            ],
            [
             0.5555555555555556,
             "#d8576b"
            ],
            [
             0.6666666666666666,
             "#ed7953"
            ],
            [
             0.7777777777777778,
             "#fb9f3a"
            ],
            [
             0.8888888888888888,
             "#fdca26"
            ],
            [
             1,
             "#f0f921"
            ]
           ]
          },
          "colorway": [
           "#636efa",
           "#EF553B",
           "#00cc96",
           "#ab63fa",
           "#FFA15A",
           "#19d3f3",
           "#FF6692",
           "#B6E880",
           "#FF97FF",
           "#FECB52"
          ],
          "font": {
           "color": "#2a3f5f"
          },
          "geo": {
           "bgcolor": "white",
           "lakecolor": "white",
           "landcolor": "#E5ECF6",
           "showlakes": true,
           "showland": true,
           "subunitcolor": "white"
          },
          "hoverlabel": {
           "align": "left"
          },
          "hovermode": "closest",
          "mapbox": {
           "style": "light"
          },
          "paper_bgcolor": "white",
          "plot_bgcolor": "#E5ECF6",
          "polar": {
           "angularaxis": {
            "gridcolor": "white",
            "linecolor": "white",
            "ticks": ""
           },
           "bgcolor": "#E5ECF6",
           "radialaxis": {
            "gridcolor": "white",
            "linecolor": "white",
            "ticks": ""
           }
          },
          "scene": {
           "xaxis": {
            "backgroundcolor": "#E5ECF6",
            "gridcolor": "white",
            "gridwidth": 2,
            "linecolor": "white",
            "showbackground": true,
            "ticks": "",
            "zerolinecolor": "white"
           },
           "yaxis": {
            "backgroundcolor": "#E5ECF6",
            "gridcolor": "white",
            "gridwidth": 2,
            "linecolor": "white",
            "showbackground": true,
            "ticks": "",
            "zerolinecolor": "white"
           },
           "zaxis": {
            "backgroundcolor": "#E5ECF6",
            "gridcolor": "white",
            "gridwidth": 2,
            "linecolor": "white",
            "showbackground": true,
            "ticks": "",
            "zerolinecolor": "white"
           }
          },
          "shapedefaults": {
           "line": {
            "color": "#2a3f5f"
           }
          },
          "ternary": {
           "aaxis": {
            "gridcolor": "white",
            "linecolor": "white",
            "ticks": ""
           },
           "baxis": {
            "gridcolor": "white",
            "linecolor": "white",
            "ticks": ""
           },
           "bgcolor": "#E5ECF6",
           "caxis": {
            "gridcolor": "white",
            "linecolor": "white",
            "ticks": ""
           }
          },
          "title": {
           "x": 0.05
          },
          "xaxis": {
           "automargin": true,
           "gridcolor": "white",
           "linecolor": "white",
           "ticks": "",
           "title": {
            "standoff": 15
           },
           "zerolinecolor": "white",
           "zerolinewidth": 2
          },
          "yaxis": {
           "automargin": true,
           "gridcolor": "white",
           "linecolor": "white",
           "ticks": "",
           "title": {
            "standoff": 15
           },
           "zerolinecolor": "white",
           "zerolinewidth": 2
          }
         }
        },
        "xaxis": {
         "anchor": "y",
         "domain": [
          0,
          1
         ],
         "title": {
          "text": "GDP (US$)"
         }
        },
        "yaxis": {
         "anchor": "x",
         "domain": [
          0,
          1
         ],
         "title": {
          "text": "Total Solid Waste (Ton)"
         }
        }
       }
      },
      "text/html": [
       "<div>                            <div id=\"ac5fafa8-f4f5-4081-8e3e-b77ba19ad1d8\" class=\"plotly-graph-div\" style=\"height:525px; width:100%;\"></div>            <script type=\"text/javascript\">                require([\"plotly\"], function(Plotly) {                    window.PLOTLYENV=window.PLOTLYENV || {};                                    if (document.getElementById(\"ac5fafa8-f4f5-4081-8e3e-b77ba19ad1d8\")) {                    Plotly.newPlot(                        \"ac5fafa8-f4f5-4081-8e3e-b77ba19ad1d8\",                        [{\"hovertemplate\":\"<b>%{hovertext}</b><br><br>Income Level=LIC<br>GDP (US$)=%{x}<br>Total Solid Waste (Ton)=%{y}<extra></extra>\",\"hovertext\":[\"Afghanistan\",\"Burundi\",\"Benin\",\"Burkina Faso\",\"Central African Republic\",\"Congo, Dem. Rep.\",\"Comoros\",\"Ethiopia\",\"Guinea\",\"Gambia, The\",\"Guinea-Bissau\",\"Haiti\",\"Liberia\",\"Madagascar\",\"Mali\",\"Mozambique\",\"Malawi\",\"Niger\",\"Nepal\",\"Rwanda\",\"Senegal\",\"Sierra Leone\",\"Somalia\",\"Chad\",\"Togo\",\"Tajikistan\",\"Tanzania\",\"Uganda\",\"Zimbabwe\"],\"legendgroup\":\"LIC\",\"marker\":{\"color\":\"#636efa\",\"symbol\":\"circle\"},\"mode\":\"markers\",\"name\":\"LIC\",\"orientation\":\"v\",\"showlegend\":true,\"type\":\"scatter\",\"x\":[19291104008.0,3012308946.0,14391686309.0,15990803570.0,2220307319.0,50400746171.0,1165839900.0,95912590628.0,13513809258.0,1826073740.0,1439638443.0,14332163266.0,3070518100.0,14191911512.0,17281815734.0,15291448212.0,10862613622.0,12911689659.0,34186180695.0,10355974217.0,23306213742.0,4121733705.0,4942319041.0,11314951343.0,7220395248.0,8300784857.0,61136873747.0,35170037381.0,16932434839.0],\"xaxis\":\"x\",\"y\":[5628525.37,1872016.0,685936.01,2575251.11,1105983.0,14385226.02,91013.0,6532786.97,596911.0,193440.54,289514.0,2309852.45485,564466.7,3768759.16,1937354.44,2500000.0,1297844.48,1865645.67,1768977.49,4384969.0,2454059.25,610222.09,2326099.17,1358850.53,1109030.45,1787400.0,9276995.0,7045049.836,1449752.0],\"yaxis\":\"y\"},{\"hovertemplate\":\"<b>%{hovertext}</b><br><br>Income Level=LMC<br>GDP (US$)=%{x}<br>Total Solid Waste (Ton)=%{y}<extra></extra>\",\"hovertext\":[\"Angola\",\"Bangladesh\",\"Bolivia\",\"Bhutan\",\"Cameroon\",\"Congo, Rep.\",\"Cabo Verde\",\"Djibouti\",\"Egypt, Arab Rep.\",\"Micronesia, Fed. Sts.\",\"Georgia\",\"Ghana\",\"Honduras\",\"Indonesia\",\"Kenya\",\"Kyrgyz Republic\",\"Cambodia\",\"Kiribati\",\"Lao PDR\",\"Sri Lanka\",\"Lesotho\",\"Morocco\",\"Moldova\",\"Myanmar\",\"Mongolia\",\"Mauritania\",\"Nigeria\",\"Nicaragua\",\"Pakistan\",\"Philippines\",\"Papua New Guinea\",\"West Bank and Gaza\",\"Sudan\",\"Solomon Islands\",\"El Salvador\",\"Eswatini\",\"Timor-Leste\",\"Tunisia\",\"Ukraine\",\"Uzbekistan\",\"Vietnam\",\"Vanuatu\",\"Kosovo\",\"Zambia\"],\"legendgroup\":\"LMC\",\"marker\":{\"color\":\"#EF553B\",\"symbol\":\"circle\"},\"mode\":\"markers\",\"name\":\"LMC\",\"orientation\":\"v\",\"showlegend\":true,\"type\":\"scatter\",\"x\":[89417190341.0,302563000000.0,40895322851.0,2530547158.0,39007354359.0,12693562948.0,1981845741.0,3324634256.0,303081000000.0,408060600.0,17477255562.0,67234292583.0,25089976947.0,1119090000000.0,95503088538.0,8871019823.0,27089389787.0,194647201.9,18245925331.0,83975584254.0,2366213069.0,119700000000.0,11968699006.0,79844294296.0,13996719329.0,7600650038.0,448120000000.0,12611218627.0,278222000000.0,376823000000.0,24829107011.0,17133500000.0,32250448249.0,1570215577.0,26896660000.0,4471598727.0,2017924900.0,39195716330.0,153930000000.0,57726542785.0,261921000000.0,930337960.0,7953156068.0,23308688906.0],\"xaxis\":\"x\",\"y\":[4213643.585,14778497.33,2219052.0,111314.05,3270616.59,451200.0,132555.0,114997.24900398408,21000000.0,26039.57,800000.0,3538274.97825,2162027.69575,65200000.0,5595099.0,1113300.0,1089000.0,35723.8275,351900.0,2631650.0,73457.0,6852000.0,3981200.0,4677306.52914,2900000.0,454000.0,27614830.07185,1528816.29335,30760000.0,14631922.9,1000000.0,1387000.0,2831291.0,179971.964375,1648996.18,218199.47,63875.0,2700000.0,15242025.0,4000000.0,9570300.0,70225.489,319000.0,2608268.0],\"yaxis\":\"y\"},{\"hovertemplate\":\"<b>%{hovertext}</b><br><br>Income Level=UMC<br>GDP (US$)=%{x}<br>Total Solid Waste (Ton)=%{y}<extra></extra>\",\"hovertext\":[\"Albania\",\"Armenia\",\"American Samoa\",\"Azerbaijan\",\"Bulgaria\",\"Bosnia and Herzegovina\",\"Belarus\",\"Belize\",\"Brazil\",\"Botswana\",\"Colombia\",\"Costa Rica\",\"Cuba\",\"Dominica\",\"Dominican Republic\",\"Algeria\",\"Ecuador\",\"Fiji\",\"Gabon\",\"Equatorial Guinea\",\"Grenada\",\"Guatemala\",\"Guyana\",\"Iran, Islamic Rep.\",\"Iraq\",\"Jamaica\",\"Jordan\",\"Kazakhstan\",\"Lebanon\",\"Libya\",\"St. Lucia\",\"Maldives\",\"Mexico\",\"Marshall Islands\",\"Montenegro\",\"Mauritius\",\"Malaysia\",\"Namibia\",\"Nauru\",\"Peru\",\"Paraguay\",\"Romania\",\"Russian Federation\",\"Serbia\",\"Suriname\",\"Thailand\",\"Turkmenistan\",\"Tonga\",\"Turkey\",\"Tuvalu\",\"St. Vincent and the Grenadines\",\"Samoa\",\"South Africa\"],\"legendgroup\":\"UMC\",\"marker\":{\"color\":\"#00cc96\",\"symbol\":\"circle\"},\"mode\":\"markers\",\"name\":\"UMC\",\"orientation\":\"v\",\"showlegend\":true,\"type\":\"scatter\",\"x\":[15286612573.0,13672802158.0,638000000.0,48174235294.0,68558815112.0,20202479538.0,64409647194.0,1982518541.0,1877810000000.0,18362348888.0,323430000000.0,63951114302.0,103131000000.0,574607407.4,88941299734.0,171158000000.0,108108000000.0,5496250694.0,16874450215.0,11417278045.0,1211403704.0,77020015201.0,5173759528.0,258245000000.0,222434000000.0,15830768550.0,44502895915.0,181667000000.0,51991634492.0,52091152228.0,2122450630.0,5642179170.0,1268870000000.0,239462200.0,5542674765.0,14046337855.0,364681000000.0,12565772085.0,118223430.1,228471000000.0,37906944075.0,249697000000.0,1687450000000.0,51475016532.0,4221373022.0,544264000000.0,45231428571.0,512350059.4,761428000000.0,47271463.33,824718518.5,852250191.0,351432000000.0],\"xaxis\":\"x\",\"y\":[1087446.75,492800.0,18989.49,2930349.0,2859190.0,1248718.0,4280000.0,101378.83030000002,79069584.0,210854.44261891601,12150120.0,1460000.0,2692691.98,13176.0,4063910.0,12378740.0,5297211.142533937,189389.59399999998,238102.31,198443.06,29536.113936927773,2756740.97135,179251.5,17885000.0,13140000.0,1051694.575,2529997.0,4659740.0,2040000.0,2147596.47175,77616.228,211505.78,53100000.0,8614.0,329780.3125,438000.0,12982685.0,256729.0,6191.7505,8356711.13,1818501.3648,5419832.5,60000000.0,2347401.5,78619.79914999999,26853366.0,500000.0,17238.20175,35374156.0,3989.4865,31561.34925,27399.09,18457232.0],\"yaxis\":\"y\"},{\"hovertemplate\":\"<b>%{hovertext}</b><br><br>Income Level=HIC<br>GDP (US$)=%{x}<br>Total Solid Waste (Ton)=%{y}<extra></extra>\",\"hovertext\":[\"Andorra\",\"United Arab Emirates\",\"Argentina\",\"Antigua and Barbuda\",\"Australia\",\"Austria\",\"Belgium\",\"Bahrain\",\"Bahamas, The\",\"Bermuda\",\"Barbados\",\"Brunei Darussalam\",\"Canada\",\"Switzerland\",\"Chile\",\"Curacao\",\"Cayman Islands\",\"Cyprus\",\"Czech Republic\",\"Germany\",\"Denmark\",\"Spain\",\"Estonia\",\"Finland\",\"France\",\"United Kingdom\",\"Greece\",\"Guam\",\"Hong Kong SAR, China\",\"Croatia\",\"Hungary\",\"Ireland\",\"Iceland\",\"Israel\",\"Italy\",\"Japan\",\"St. Kitts and Nevis\",\"Korea, Rep.\",\"Kuwait\",\"Lithuania\",\"Luxembourg\",\"Latvia\",\"Macao SAR, China\",\"Monaco\",\"Malta\",\"Northern Mariana Islands\",\"Netherlands\",\"Norway\",\"New Zealand\",\"Oman\",\"Panama\",\"Palau\",\"Poland\",\"Puerto Rico\",\"Portugal\",\"Qatar\",\"Saudi Arabia\",\"Singapore\",\"San Marino\",\"Slovak Republic\",\"Slovenia\",\"Sweden\",\"Seychelles\",\"Trinidad and Tobago\",\"Uruguay\"],\"legendgroup\":\"HIC\",\"marker\":{\"color\":\"#ab63fa\",\"symbol\":\"circle\"},\"mode\":\"markers\",\"name\":\"HIC\",\"orientation\":\"v\",\"showlegend\":true,\"type\":\"scatter\",\"x\":[3155065488.0,421142000000.0,445445000000.0,1661962963.0,1396570000000.0,445075000000.0,533255000000.0,38474521277.0,13578800000.0,7484113000.0,5209000000.0,13469422941.0,1741580000000.0,731474000000.0,279385000000.0,3101787709.0,5935769351.0,24949065264.0,250686000000.0,3861120000000.0,350104000000.0,1393490000000.0,31471100656.0,268966000000.0,2715520000000.0,2830810000000.0,205327000000.0,6311000000.0,363016000000.0,60752588976.0,163504000000.0,398590000000.0,24836714771.0,394652000000.0,2004910000000.0,5064870000000.0,1044711111.0,1646740000000.0,136197000000.0,54639938780.0,71104919108.0,34055464655.0,55153707949.0,7423709840.0,15215714309.0,1182000000.0,907051000000.0,405510000000.0,209127000000.0,76331518669.0,66787900000.0,268354900.0,595862000000.0,104915000000.0,239511000000.0,175838000000.0,792967000000.0,374386000000.0,1616369646.0,105119000000.0,54174227309.0,531283000000.0,1581380269.0,23208326548.0,61231149881.0],\"xaxis\":\"x\",\"y\":[43000.0,5617682.0,17910550.0,30585.0,13345000.0,5219715.5,4765883.0,951942.96945,264000.0,82000.0,174815.44444444447,216253.156,25103034.0,6079556.0,6517000.0,24703.813200000004,60000.0,769485.125,5334854.5,50627876.0,4910858.5,22408548.0,489511.71875,3124497.75,36748820.0,30771140.0,5615352.5,141500.0,5679816.465,1810037.5,3780970.25,2910655.0,225270.40625,5400000.0,30088400.0,42720000.0,32892.14,20452776.0,1750000.0,1315390.375,490337.75,839714.375,377942.0,46000.0,348841.1875,32761.4145,8805088.0,4149967.25,3405000.0,1734885.15,1472262.2151499996,9426.7455,12758213.0,4170953.0,5268211.0,1000990.016,16125700.584,1870000.0,17174.68,2296164.75,1052324.75,4618168.5,48000.0,727874.0,1260139.5086500002],\"yaxis\":\"y\"}],                        {\"legend\":{\"title\":{\"text\":\"Income Level\"},\"tracegroupgap\":0},\"margin\":{\"t\":60},\"template\":{\"data\":{\"bar\":[{\"error_x\":{\"color\":\"#2a3f5f\"},\"error_y\":{\"color\":\"#2a3f5f\"},\"marker\":{\"line\":{\"color\":\"#E5ECF6\",\"width\":0.5},\"pattern\":{\"fillmode\":\"overlay\",\"size\":10,\"solidity\":0.2}},\"type\":\"bar\"}],\"barpolar\":[{\"marker\":{\"line\":{\"color\":\"#E5ECF6\",\"width\":0.5},\"pattern\":{\"fillmode\":\"overlay\",\"size\":10,\"solidity\":0.2}},\"type\":\"barpolar\"}],\"carpet\":[{\"aaxis\":{\"endlinecolor\":\"#2a3f5f\",\"gridcolor\":\"white\",\"linecolor\":\"white\",\"minorgridcolor\":\"white\",\"startlinecolor\":\"#2a3f5f\"},\"baxis\":{\"endlinecolor\":\"#2a3f5f\",\"gridcolor\":\"white\",\"linecolor\":\"white\",\"minorgridcolor\":\"white\",\"startlinecolor\":\"#2a3f5f\"},\"type\":\"carpet\"}],\"choropleth\":[{\"colorbar\":{\"outlinewidth\":0,\"ticks\":\"\"},\"type\":\"choropleth\"}],\"contour\":[{\"colorbar\":{\"outlinewidth\":0,\"ticks\":\"\"},\"colorscale\":[[0.0,\"#0d0887\"],[0.1111111111111111,\"#46039f\"],[0.2222222222222222,\"#7201a8\"],[0.3333333333333333,\"#9c179e\"],[0.4444444444444444,\"#bd3786\"],[0.5555555555555556,\"#d8576b\"],[0.6666666666666666,\"#ed7953\"],[0.7777777777777778,\"#fb9f3a\"],[0.8888888888888888,\"#fdca26\"],[1.0,\"#f0f921\"]],\"type\":\"contour\"}],\"contourcarpet\":[{\"colorbar\":{\"outlinewidth\":0,\"ticks\":\"\"},\"type\":\"contourcarpet\"}],\"heatmap\":[{\"colorbar\":{\"outlinewidth\":0,\"ticks\":\"\"},\"colorscale\":[[0.0,\"#0d0887\"],[0.1111111111111111,\"#46039f\"],[0.2222222222222222,\"#7201a8\"],[0.3333333333333333,\"#9c179e\"],[0.4444444444444444,\"#bd3786\"],[0.5555555555555556,\"#d8576b\"],[0.6666666666666666,\"#ed7953\"],[0.7777777777777778,\"#fb9f3a\"],[0.8888888888888888,\"#fdca26\"],[1.0,\"#f0f921\"]],\"type\":\"heatmap\"}],\"heatmapgl\":[{\"colorbar\":{\"outlinewidth\":0,\"ticks\":\"\"},\"colorscale\":[[0.0,\"#0d0887\"],[0.1111111111111111,\"#46039f\"],[0.2222222222222222,\"#7201a8\"],[0.3333333333333333,\"#9c179e\"],[0.4444444444444444,\"#bd3786\"],[0.5555555555555556,\"#d8576b\"],[0.6666666666666666,\"#ed7953\"],[0.7777777777777778,\"#fb9f3a\"],[0.8888888888888888,\"#fdca26\"],[1.0,\"#f0f921\"]],\"type\":\"heatmapgl\"}],\"histogram\":[{\"marker\":{\"pattern\":{\"fillmode\":\"overlay\",\"size\":10,\"solidity\":0.2}},\"type\":\"histogram\"}],\"histogram2d\":[{\"colorbar\":{\"outlinewidth\":0,\"ticks\":\"\"},\"colorscale\":[[0.0,\"#0d0887\"],[0.1111111111111111,\"#46039f\"],[0.2222222222222222,\"#7201a8\"],[0.3333333333333333,\"#9c179e\"],[0.4444444444444444,\"#bd3786\"],[0.5555555555555556,\"#d8576b\"],[0.6666666666666666,\"#ed7953\"],[0.7777777777777778,\"#fb9f3a\"],[0.8888888888888888,\"#fdca26\"],[1.0,\"#f0f921\"]],\"type\":\"histogram2d\"}],\"histogram2dcontour\":[{\"colorbar\":{\"outlinewidth\":0,\"ticks\":\"\"},\"colorscale\":[[0.0,\"#0d0887\"],[0.1111111111111111,\"#46039f\"],[0.2222222222222222,\"#7201a8\"],[0.3333333333333333,\"#9c179e\"],[0.4444444444444444,\"#bd3786\"],[0.5555555555555556,\"#d8576b\"],[0.6666666666666666,\"#ed7953\"],[0.7777777777777778,\"#fb9f3a\"],[0.8888888888888888,\"#fdca26\"],[1.0,\"#f0f921\"]],\"type\":\"histogram2dcontour\"}],\"mesh3d\":[{\"colorbar\":{\"outlinewidth\":0,\"ticks\":\"\"},\"type\":\"mesh3d\"}],\"parcoords\":[{\"line\":{\"colorbar\":{\"outlinewidth\":0,\"ticks\":\"\"}},\"type\":\"parcoords\"}],\"pie\":[{\"automargin\":true,\"type\":\"pie\"}],\"scatter\":[{\"marker\":{\"colorbar\":{\"outlinewidth\":0,\"ticks\":\"\"}},\"type\":\"scatter\"}],\"scatter3d\":[{\"line\":{\"colorbar\":{\"outlinewidth\":0,\"ticks\":\"\"}},\"marker\":{\"colorbar\":{\"outlinewidth\":0,\"ticks\":\"\"}},\"type\":\"scatter3d\"}],\"scattercarpet\":[{\"marker\":{\"colorbar\":{\"outlinewidth\":0,\"ticks\":\"\"}},\"type\":\"scattercarpet\"}],\"scattergeo\":[{\"marker\":{\"colorbar\":{\"outlinewidth\":0,\"ticks\":\"\"}},\"type\":\"scattergeo\"}],\"scattergl\":[{\"marker\":{\"colorbar\":{\"outlinewidth\":0,\"ticks\":\"\"}},\"type\":\"scattergl\"}],\"scattermapbox\":[{\"marker\":{\"colorbar\":{\"outlinewidth\":0,\"ticks\":\"\"}},\"type\":\"scattermapbox\"}],\"scatterpolar\":[{\"marker\":{\"colorbar\":{\"outlinewidth\":0,\"ticks\":\"\"}},\"type\":\"scatterpolar\"}],\"scatterpolargl\":[{\"marker\":{\"colorbar\":{\"outlinewidth\":0,\"ticks\":\"\"}},\"type\":\"scatterpolargl\"}],\"scatterternary\":[{\"marker\":{\"colorbar\":{\"outlinewidth\":0,\"ticks\":\"\"}},\"type\":\"scatterternary\"}],\"surface\":[{\"colorbar\":{\"outlinewidth\":0,\"ticks\":\"\"},\"colorscale\":[[0.0,\"#0d0887\"],[0.1111111111111111,\"#46039f\"],[0.2222222222222222,\"#7201a8\"],[0.3333333333333333,\"#9c179e\"],[0.4444444444444444,\"#bd3786\"],[0.5555555555555556,\"#d8576b\"],[0.6666666666666666,\"#ed7953\"],[0.7777777777777778,\"#fb9f3a\"],[0.8888888888888888,\"#fdca26\"],[1.0,\"#f0f921\"]],\"type\":\"surface\"}],\"table\":[{\"cells\":{\"fill\":{\"color\":\"#EBF0F8\"},\"line\":{\"color\":\"white\"}},\"header\":{\"fill\":{\"color\":\"#C8D4E3\"},\"line\":{\"color\":\"white\"}},\"type\":\"table\"}]},\"layout\":{\"annotationdefaults\":{\"arrowcolor\":\"#2a3f5f\",\"arrowhead\":0,\"arrowwidth\":1},\"autotypenumbers\":\"strict\",\"coloraxis\":{\"colorbar\":{\"outlinewidth\":0,\"ticks\":\"\"}},\"colorscale\":{\"diverging\":[[0,\"#8e0152\"],[0.1,\"#c51b7d\"],[0.2,\"#de77ae\"],[0.3,\"#f1b6da\"],[0.4,\"#fde0ef\"],[0.5,\"#f7f7f7\"],[0.6,\"#e6f5d0\"],[0.7,\"#b8e186\"],[0.8,\"#7fbc41\"],[0.9,\"#4d9221\"],[1,\"#276419\"]],\"sequential\":[[0.0,\"#0d0887\"],[0.1111111111111111,\"#46039f\"],[0.2222222222222222,\"#7201a8\"],[0.3333333333333333,\"#9c179e\"],[0.4444444444444444,\"#bd3786\"],[0.5555555555555556,\"#d8576b\"],[0.6666666666666666,\"#ed7953\"],[0.7777777777777778,\"#fb9f3a\"],[0.8888888888888888,\"#fdca26\"],[1.0,\"#f0f921\"]],\"sequentialminus\":[[0.0,\"#0d0887\"],[0.1111111111111111,\"#46039f\"],[0.2222222222222222,\"#7201a8\"],[0.3333333333333333,\"#9c179e\"],[0.4444444444444444,\"#bd3786\"],[0.5555555555555556,\"#d8576b\"],[0.6666666666666666,\"#ed7953\"],[0.7777777777777778,\"#fb9f3a\"],[0.8888888888888888,\"#fdca26\"],[1.0,\"#f0f921\"]]},\"colorway\":[\"#636efa\",\"#EF553B\",\"#00cc96\",\"#ab63fa\",\"#FFA15A\",\"#19d3f3\",\"#FF6692\",\"#B6E880\",\"#FF97FF\",\"#FECB52\"],\"font\":{\"color\":\"#2a3f5f\"},\"geo\":{\"bgcolor\":\"white\",\"lakecolor\":\"white\",\"landcolor\":\"#E5ECF6\",\"showlakes\":true,\"showland\":true,\"subunitcolor\":\"white\"},\"hoverlabel\":{\"align\":\"left\"},\"hovermode\":\"closest\",\"mapbox\":{\"style\":\"light\"},\"paper_bgcolor\":\"white\",\"plot_bgcolor\":\"#E5ECF6\",\"polar\":{\"angularaxis\":{\"gridcolor\":\"white\",\"linecolor\":\"white\",\"ticks\":\"\"},\"bgcolor\":\"#E5ECF6\",\"radialaxis\":{\"gridcolor\":\"white\",\"linecolor\":\"white\",\"ticks\":\"\"}},\"scene\":{\"xaxis\":{\"backgroundcolor\":\"#E5ECF6\",\"gridcolor\":\"white\",\"gridwidth\":2,\"linecolor\":\"white\",\"showbackground\":true,\"ticks\":\"\",\"zerolinecolor\":\"white\"},\"yaxis\":{\"backgroundcolor\":\"#E5ECF6\",\"gridcolor\":\"white\",\"gridwidth\":2,\"linecolor\":\"white\",\"showbackground\":true,\"ticks\":\"\",\"zerolinecolor\":\"white\"},\"zaxis\":{\"backgroundcolor\":\"#E5ECF6\",\"gridcolor\":\"white\",\"gridwidth\":2,\"linecolor\":\"white\",\"showbackground\":true,\"ticks\":\"\",\"zerolinecolor\":\"white\"}},\"shapedefaults\":{\"line\":{\"color\":\"#2a3f5f\"}},\"ternary\":{\"aaxis\":{\"gridcolor\":\"white\",\"linecolor\":\"white\",\"ticks\":\"\"},\"baxis\":{\"gridcolor\":\"white\",\"linecolor\":\"white\",\"ticks\":\"\"},\"bgcolor\":\"#E5ECF6\",\"caxis\":{\"gridcolor\":\"white\",\"linecolor\":\"white\",\"ticks\":\"\"}},\"title\":{\"x\":0.05},\"xaxis\":{\"automargin\":true,\"gridcolor\":\"white\",\"linecolor\":\"white\",\"ticks\":\"\",\"title\":{\"standoff\":15},\"zerolinecolor\":\"white\",\"zerolinewidth\":2},\"yaxis\":{\"automargin\":true,\"gridcolor\":\"white\",\"linecolor\":\"white\",\"ticks\":\"\",\"title\":{\"standoff\":15},\"zerolinecolor\":\"white\",\"zerolinewidth\":2}}},\"xaxis\":{\"anchor\":\"y\",\"domain\":[0.0,1.0],\"title\":{\"text\":\"GDP (US$)\"}},\"yaxis\":{\"anchor\":\"x\",\"domain\":[0.0,1.0],\"title\":{\"text\":\"Total Solid Waste (Ton)\"}}},                        {\"responsive\": true}                    ).then(function(){\n",
       "                            \n",
       "var gd = document.getElementById('ac5fafa8-f4f5-4081-8e3e-b77ba19ad1d8');\n",
       "var x = new MutationObserver(function (mutations, observer) {{\n",
       "        var display = window.getComputedStyle(gd).display;\n",
       "        if (!display || display === 'none') {{\n",
       "            console.log([gd, 'removed!']);\n",
       "            Plotly.purge(gd);\n",
       "            observer.disconnect();\n",
       "        }}\n",
       "}});\n",
       "\n",
       "// Listen for the removal of the full notebook cells\n",
       "var notebookContainer = gd.closest('#notebook-container');\n",
       "if (notebookContainer) {{\n",
       "    x.observe(notebookContainer, {childList: true});\n",
       "}}\n",
       "\n",
       "// Listen for the clearing of the current output cell\n",
       "var outputEl = gd.closest('.output');\n",
       "if (outputEl) {{\n",
       "    x.observe(outputEl, {childList: true});\n",
       "}}\n",
       "\n",
       "                        })                };                });            </script>        </div>"
      ]
     },
     "metadata": {},
     "output_type": "display_data"
    }
   ],
   "source": [
    "df_f = df_new.drop(index=out_ind)\n",
    "fig_f = px.scatter(df_f, \n",
    "                 x='gdp',\n",
    "                 y='waste', \n",
    "                 color='income_id',\n",
    "                 labels=dict(gdp='GDP (US$)', waste='Total Solid Waste (Ton)', income_id='Income Level'),\n",
    "                 hover_name='Country Name')\n",
    "fig_f.show()"
   ]
  },
  {
   "cell_type": "markdown",
   "id": "verified-translation",
   "metadata": {},
   "source": [
    "\n",
    "It looks better! It's time to train and test the model.\n"
   ]
  },
  {
   "cell_type": "markdown",
   "id": "otherwise-botswana",
   "metadata": {},
   "source": [
    "# Model Building and Validating"
   ]
  },
  {
   "cell_type": "markdown",
   "id": "smart-serve",
   "metadata": {},
   "source": [
    "### Linear Regression Model"
   ]
  },
  {
   "cell_type": "code",
   "execution_count": 261,
   "id": "miniature-empire",
   "metadata": {},
   "outputs": [
    {
     "data": {
      "text/plain": [
       "LinearRegression()"
      ]
     },
     "execution_count": 261,
     "metadata": {},
     "output_type": "execute_result"
    }
   ],
   "source": [
    "import numpy as np\n",
    "from sklearn.model_selection import train_test_split\n",
    "import sklearn.linear_model\n",
    "x, y = np.c_[df_f['gdp']], np.c_[df_f['waste']]\n",
    "train_x, test_x, train_y, test_y = train_test_split(x, y, random_state=42) \n",
    "linear_model = sklearn.linear_model.LinearRegression()\n",
    "linear_model.fit(train_x, train_y)"
   ]
  },
  {
   "cell_type": "code",
   "execution_count": 262,
   "id": "middle-spectrum",
   "metadata": {},
   "outputs": [
    {
     "data": {
      "application/vnd.plotly.v1+json": {
       "config": {
        "plotlyServerURL": "https://plot.ly"
       },
       "data": [
        {
         "mode": "markers",
         "name": "Train Data",
         "type": "scatter",
         "x": [
          105119000000,
          824718518.5,
          1741580000000,
          374386000000,
          3012308946,
          103131000000,
          10862613622,
          95912590628,
          13996719329,
          79844294296,
          5209000000,
          1165839900,
          5542674765,
          8300784857,
          54639938780,
          222434000000,
          12911689659,
          15286612573,
          3861120000000,
          18245925331,
          7423709840,
          14046337855,
          12693562948,
          14191911512,
          1982518541,
          23308688906,
          24829107011,
          7600650038,
          48174235294,
          239462200,
          761428000000,
          13672802158,
          13469422941,
          2122450630,
          421142000000,
          731474000000,
          2004910000000,
          66787900000,
          268354900,
          278222000000,
          445075000000,
          12565772085,
          194647201.9,
          228471000000,
          19291104008,
          45231428571,
          37906944075,
          1211403704,
          23306213742,
          67234292583,
          24949065264,
          17281815734,
          2530547158,
          63951114302,
          175838000000,
          249697000000,
          1877810000000,
          7484113000,
          104915000000,
          258245000000,
          1119090000000,
          394652000000,
          1981845741,
          1182000000,
          15830768550,
          14332163266,
          930337960,
          1581380269,
          3324634256,
          1044711111,
          17133500000,
          61136873747,
          16874450215,
          5173759528,
          279385000000,
          5935769351,
          239511000000,
          10355974217,
          2830810000000,
          351432000000,
          118223430.1,
          3155065488,
          71104919108,
          303081000000,
          2017924900,
          23208326548,
          47271463.33,
          350104000000,
          398590000000,
          39007354359,
          638000000,
          11968699006,
          8871019823,
          24836714771,
          7220395248,
          512350059.4,
          181667000000,
          1661962963,
          533255000000,
          2715520000000,
          54174227309,
          405510000000,
          68558815112,
          6311000000,
          11314951343,
          209127000000,
          4942319041,
          39195716330,
          17477255562,
          1393490000000,
          55153707949,
          88941299734,
          7953156068,
          5496250694,
          574607407.4,
          5064870000000,
          64409647194,
          268966000000,
          51475016532,
          261921000000,
          12611218627,
          323430000000,
          26896660000,
          153930000000,
          89417190341,
          108108000000,
          1687450000000,
          907051000000,
          792967000000,
          2366213069,
          3070518100,
          15215714309,
          44502895915,
          363016000000,
          15291448212,
          16932434839,
          20202479538,
          77020015201,
          34055464655,
          14391686309,
          27089389787,
          35170037381,
          83975584254
         ],
         "y": [
          2296164.75,
          31561.34925,
          25103034,
          1870000,
          1872016,
          2692691.98,
          1297844.48,
          6532786.97,
          2900000,
          4677306.52914,
          174815.44444444447,
          91013,
          329780.3125,
          1787400,
          1315390.375,
          13140000,
          1865645.67,
          1087446.75,
          50627876,
          351900,
          46000,
          438000,
          451200,
          3768759.16,
          101378.83030000002,
          2608268,
          1000000,
          454000,
          2930349,
          8614,
          35374156,
          492800,
          216253.156,
          77616.228,
          5617682,
          6079556,
          30088400,
          1472262.2151499996,
          9426.7455,
          30760000,
          5219715.5,
          256729,
          35723.8275,
          8356711.13,
          5628525.37,
          500000,
          1818501.3648,
          29536.113936927773,
          2454059.25,
          3538274.97825,
          769485.125,
          1937354.44,
          111314.05,
          1460000,
          1000990.016,
          5419832.5,
          79069584,
          82000,
          4170953,
          17885000,
          65200000,
          5400000,
          132555,
          32761.4145,
          1051694.575,
          2309852.45485,
          70225.489,
          48000,
          114997.24900398408,
          32892.14,
          1387000,
          9276995,
          238102.31,
          179251.5,
          6517000,
          60000,
          5268211,
          4384969,
          30771140,
          18457232,
          6191.7505,
          43000,
          490337.75,
          21000000,
          63875,
          727874,
          3989.4865,
          4910858.5,
          2910655,
          3270616.59,
          18989.49,
          3981200,
          1113300,
          225270.40625,
          1109030.45,
          17238.20175,
          4659740,
          30585,
          4765883,
          36748820,
          1052324.75,
          4149967.25,
          2859190,
          141500,
          1358850.53,
          3405000,
          2326099.17,
          2700000,
          800000,
          22408548,
          377942,
          4063910,
          319000,
          189389.59399999998,
          13176,
          42720000,
          4280000,
          3124497.75,
          2347401.5,
          9570300,
          1528816.29335,
          12150120,
          1648996.18,
          15242025,
          4213643.585,
          5297211.142533937,
          60000000,
          8805088,
          16125700.584,
          73457,
          564466.7,
          348841.1875,
          2529997,
          5679816.465,
          2500000,
          1449752,
          1248718,
          2756740.97135,
          839714.375,
          685936.01,
          1089000,
          7045049.836,
          2631650
         ]
        },
        {
         "mode": "markers",
         "name": "Test Data",
         "type": "scatter",
         "x": [
          32250448249,
          25089976947,
          1616369646,
          1826073740,
          408060600,
          15990803570,
          1396570000000,
          302563000000,
          448120000000,
          364681000000,
          376823000000,
          4121733705,
          38474521277,
          4221373022,
          5642179170,
          61231149881,
          1570215577,
          13513809258,
          4471598727,
          3101787709,
          2220307319,
          40895322851,
          1439638443,
          51991634492,
          205327000000,
          1268870000000,
          136197000000,
          13578800000,
          250686000000,
          60752588976,
          544264000000,
          11417278045,
          445445000000,
          34186180695,
          95503088538,
          531283000000,
          119700000000,
          57726542785,
          852250191,
          50400746171,
          52091152228,
          31471100656,
          76331518669,
          163504000000,
          1646740000000,
          18362348888,
          595862000000,
          171158000000
         ],
         "y": [
          2831291,
          2162027.69575,
          17174.68,
          193440.54,
          26039.57,
          2575251.11,
          13345000,
          14778497.33,
          27614830.07185,
          12982685,
          14631922.9,
          610222.09,
          951942.96945,
          78619.79914999999,
          211505.78,
          1260139.5086500002,
          179971.964375,
          596911,
          218199.47,
          24703.813200000004,
          1105983,
          2219052,
          289514,
          2040000,
          5615352.5,
          53100000,
          1750000,
          264000,
          5334854.5,
          1810037.5,
          26853366,
          198443.06,
          17910550,
          1768977.49,
          5595099,
          4618168.5,
          6852000,
          4000000,
          27399.09,
          14385226.02,
          2147596.47175,
          489511.71875,
          1734885.15,
          3780970.25,
          20452776,
          210854.44261891601,
          12758213,
          12378740
         ]
        },
        {
         "name": "Linear Regression Model",
         "type": "scatter",
         "x": [
          47271463.33,
          51207097004.10445,
          102366922544.87889,
          153526748085.65332,
          204686573626.42776,
          255846399167.2022,
          307006224707.9767,
          358166050248.75116,
          409325875789.5256,
          460485701330.3,
          511645526871.07446,
          562805352411.8489,
          613965177952.6233,
          665125003493.3977,
          716284829034.1722,
          767444654574.9467,
          818604480115.7211,
          869764305656.4955,
          920924131197.2699,
          972083956738.0444,
          1023243782278.8188,
          1074403607819.5933,
          1125563433360.368,
          1176723258901.1423,
          1227883084441.9167,
          1279042909982.6912,
          1330202735523.4656,
          1381362561064.24,
          1432522386605.0146,
          1483682212145.789,
          1534842037686.5635,
          1586001863227.338,
          1637161688768.1123,
          1688321514308.8867,
          1739481339849.6611,
          1790641165390.4355,
          1841800990931.21,
          1892960816471.9846,
          1944120642012.759,
          1995280467553.5334,
          2046440293094.3079,
          2097600118635.0823,
          2148759944175.8567,
          2199919769716.6313,
          2251079595257.406,
          2302239420798.18,
          2353399246338.9546,
          2404559071879.729,
          2455718897420.5034,
          2506878722961.278,
          2558038548502.0522,
          2609198374042.8267,
          2660358199583.601,
          2711518025124.3755,
          2762677850665.15,
          2813837676205.9243,
          2864997501746.699,
          2916157327287.4736,
          2967317152828.248,
          3018476978369.0225,
          3069636803909.797,
          3120796629450.5713,
          3171956454991.3457,
          3223116280532.12,
          3274276106072.8945,
          3325435931613.669,
          3376595757154.4434,
          3427755582695.218,
          3478915408235.992,
          3530075233776.7666,
          3581235059317.541,
          3632394884858.3154,
          3683554710399.09,
          3734714535939.8647,
          3785874361480.639,
          3837034187021.4136,
          3888194012562.188,
          3939353838102.9624,
          3990513663643.737,
          4041673489184.511,
          4092833314725.2856,
          4143993140266.06,
          4195152965806.8345,
          4246312791347.609,
          4297472616888.3833,
          4348632442429.1577,
          4399792267969.933,
          4450952093510.707,
          4502111919051.481,
          4553271744592.256,
          4604431570133.03,
          4655591395673.805,
          4706751221214.579,
          4757911046755.354,
          4809070872296.128,
          4860230697836.902,
          4911390523377.677,
          4962550348918.451,
          5013710174459.226,
          5064870000000
         ],
         "y": [
          2475653.114778686,
          3189150.050742246,
          3902646.986705807,
          4616143.922669367,
          5329640.858632928,
          6043137.794596488,
          6756634.730560048,
          7470131.666523609,
          8183628.602487169,
          8897125.53845073,
          9610622.474414289,
          10324119.410377849,
          11037616.346341409,
          11751113.282304969,
          12464610.21826853,
          13178107.15423209,
          13891604.09019565,
          14605101.02615921,
          15318597.96212277,
          16032094.898086332,
          16745591.834049892,
          17459088.77001345,
          18172585.705977015,
          18886082.641940575,
          19599579.57790414,
          20313076.5138677,
          21026573.44983126,
          21740070.38579482,
          22453567.321758382,
          23167064.257721942,
          23880561.1936855,
          24594058.12964906,
          25307555.06561262,
          26021052.00157618,
          26734548.93753974,
          27448045.8735033,
          28161542.80946686,
          28875039.745430425,
          29588536.681393985,
          30302033.617357545,
          31015530.553321104,
          31729027.489284664,
          32442524.425248224,
          33156021.361211788,
          33869518.29717535,
          34583015.233138904,
          35296512.16910247,
          36010009.105066024,
          36723506.04102959,
          37437002.97699314,
          38150499.91295671,
          38863996.84892026,
          39577493.78488383,
          40290990.72084738,
          41004487.65681095,
          41717984.5927745,
          42431481.528738074,
          43144978.46470163,
          43858475.400665194,
          44571972.33662875,
          45285469.27259231,
          45998966.20855587,
          46712463.14451943,
          47425960.08048299,
          48139457.01644655,
          48852953.95241011,
          49566450.88837367,
          50279947.82433723,
          50993444.76030079,
          51706941.69626435,
          52420438.63222791,
          53133935.56819147,
          53847432.50415503,
          54560929.440118596,
          55274426.37608216,
          55987923.312045716,
          56701420.24800928,
          57414917.183972836,
          58128414.1199364,
          58841911.055899955,
          59555407.99186352,
          60268904.927827075,
          60982401.86379064,
          61695898.799754195,
          62409395.73571776,
          63122892.671681315,
          63836389.607644886,
          64549886.54360844,
          65263383.479572006,
          65976880.41553556,
          66690377.351499125,
          67403874.28746268,
          68117371.22342624,
          68830868.1593898,
          69544365.09535336,
          70257862.03131692,
          70971358.96728048,
          71684855.90324403,
          72398352.83920759,
          73111849.77517116
         ]
        }
       ],
       "layout": {
        "template": {
         "data": {
          "bar": [
           {
            "error_x": {
             "color": "#2a3f5f"
            },
            "error_y": {
             "color": "#2a3f5f"
            },
            "marker": {
             "line": {
              "color": "#E5ECF6",
              "width": 0.5
             },
             "pattern": {
              "fillmode": "overlay",
              "size": 10,
              "solidity": 0.2
             }
            },
            "type": "bar"
           }
          ],
          "barpolar": [
           {
            "marker": {
             "line": {
              "color": "#E5ECF6",
              "width": 0.5
             },
             "pattern": {
              "fillmode": "overlay",
              "size": 10,
              "solidity": 0.2
             }
            },
            "type": "barpolar"
           }
          ],
          "carpet": [
           {
            "aaxis": {
             "endlinecolor": "#2a3f5f",
             "gridcolor": "white",
             "linecolor": "white",
             "minorgridcolor": "white",
             "startlinecolor": "#2a3f5f"
            },
            "baxis": {
             "endlinecolor": "#2a3f5f",
             "gridcolor": "white",
             "linecolor": "white",
             "minorgridcolor": "white",
             "startlinecolor": "#2a3f5f"
            },
            "type": "carpet"
           }
          ],
          "choropleth": [
           {
            "colorbar": {
             "outlinewidth": 0,
             "ticks": ""
            },
            "type": "choropleth"
           }
          ],
          "contour": [
           {
            "colorbar": {
             "outlinewidth": 0,
             "ticks": ""
            },
            "colorscale": [
             [
              0,
              "#0d0887"
             ],
             [
              0.1111111111111111,
              "#46039f"
             ],
             [
              0.2222222222222222,
              "#7201a8"
             ],
             [
              0.3333333333333333,
              "#9c179e"
             ],
             [
              0.4444444444444444,
              "#bd3786"
             ],
             [
              0.5555555555555556,
              "#d8576b"
             ],
             [
              0.6666666666666666,
              "#ed7953"
             ],
             [
              0.7777777777777778,
              "#fb9f3a"
             ],
             [
              0.8888888888888888,
              "#fdca26"
             ],
             [
              1,
              "#f0f921"
             ]
            ],
            "type": "contour"
           }
          ],
          "contourcarpet": [
           {
            "colorbar": {
             "outlinewidth": 0,
             "ticks": ""
            },
            "type": "contourcarpet"
           }
          ],
          "heatmap": [
           {
            "colorbar": {
             "outlinewidth": 0,
             "ticks": ""
            },
            "colorscale": [
             [
              0,
              "#0d0887"
             ],
             [
              0.1111111111111111,
              "#46039f"
             ],
             [
              0.2222222222222222,
              "#7201a8"
             ],
             [
              0.3333333333333333,
              "#9c179e"
             ],
             [
              0.4444444444444444,
              "#bd3786"
             ],
             [
              0.5555555555555556,
              "#d8576b"
             ],
             [
              0.6666666666666666,
              "#ed7953"
             ],
             [
              0.7777777777777778,
              "#fb9f3a"
             ],
             [
              0.8888888888888888,
              "#fdca26"
             ],
             [
              1,
              "#f0f921"
             ]
            ],
            "type": "heatmap"
           }
          ],
          "heatmapgl": [
           {
            "colorbar": {
             "outlinewidth": 0,
             "ticks": ""
            },
            "colorscale": [
             [
              0,
              "#0d0887"
             ],
             [
              0.1111111111111111,
              "#46039f"
             ],
             [
              0.2222222222222222,
              "#7201a8"
             ],
             [
              0.3333333333333333,
              "#9c179e"
             ],
             [
              0.4444444444444444,
              "#bd3786"
             ],
             [
              0.5555555555555556,
              "#d8576b"
             ],
             [
              0.6666666666666666,
              "#ed7953"
             ],
             [
              0.7777777777777778,
              "#fb9f3a"
             ],
             [
              0.8888888888888888,
              "#fdca26"
             ],
             [
              1,
              "#f0f921"
             ]
            ],
            "type": "heatmapgl"
           }
          ],
          "histogram": [
           {
            "marker": {
             "pattern": {
              "fillmode": "overlay",
              "size": 10,
              "solidity": 0.2
             }
            },
            "type": "histogram"
           }
          ],
          "histogram2d": [
           {
            "colorbar": {
             "outlinewidth": 0,
             "ticks": ""
            },
            "colorscale": [
             [
              0,
              "#0d0887"
             ],
             [
              0.1111111111111111,
              "#46039f"
             ],
             [
              0.2222222222222222,
              "#7201a8"
             ],
             [
              0.3333333333333333,
              "#9c179e"
             ],
             [
              0.4444444444444444,
              "#bd3786"
             ],
             [
              0.5555555555555556,
              "#d8576b"
             ],
             [
              0.6666666666666666,
              "#ed7953"
             ],
             [
              0.7777777777777778,
              "#fb9f3a"
             ],
             [
              0.8888888888888888,
              "#fdca26"
             ],
             [
              1,
              "#f0f921"
             ]
            ],
            "type": "histogram2d"
           }
          ],
          "histogram2dcontour": [
           {
            "colorbar": {
             "outlinewidth": 0,
             "ticks": ""
            },
            "colorscale": [
             [
              0,
              "#0d0887"
             ],
             [
              0.1111111111111111,
              "#46039f"
             ],
             [
              0.2222222222222222,
              "#7201a8"
             ],
             [
              0.3333333333333333,
              "#9c179e"
             ],
             [
              0.4444444444444444,
              "#bd3786"
             ],
             [
              0.5555555555555556,
              "#d8576b"
             ],
             [
              0.6666666666666666,
              "#ed7953"
             ],
             [
              0.7777777777777778,
              "#fb9f3a"
             ],
             [
              0.8888888888888888,
              "#fdca26"
             ],
             [
              1,
              "#f0f921"
             ]
            ],
            "type": "histogram2dcontour"
           }
          ],
          "mesh3d": [
           {
            "colorbar": {
             "outlinewidth": 0,
             "ticks": ""
            },
            "type": "mesh3d"
           }
          ],
          "parcoords": [
           {
            "line": {
             "colorbar": {
              "outlinewidth": 0,
              "ticks": ""
             }
            },
            "type": "parcoords"
           }
          ],
          "pie": [
           {
            "automargin": true,
            "type": "pie"
           }
          ],
          "scatter": [
           {
            "marker": {
             "colorbar": {
              "outlinewidth": 0,
              "ticks": ""
             }
            },
            "type": "scatter"
           }
          ],
          "scatter3d": [
           {
            "line": {
             "colorbar": {
              "outlinewidth": 0,
              "ticks": ""
             }
            },
            "marker": {
             "colorbar": {
              "outlinewidth": 0,
              "ticks": ""
             }
            },
            "type": "scatter3d"
           }
          ],
          "scattercarpet": [
           {
            "marker": {
             "colorbar": {
              "outlinewidth": 0,
              "ticks": ""
             }
            },
            "type": "scattercarpet"
           }
          ],
          "scattergeo": [
           {
            "marker": {
             "colorbar": {
              "outlinewidth": 0,
              "ticks": ""
             }
            },
            "type": "scattergeo"
           }
          ],
          "scattergl": [
           {
            "marker": {
             "colorbar": {
              "outlinewidth": 0,
              "ticks": ""
             }
            },
            "type": "scattergl"
           }
          ],
          "scattermapbox": [
           {
            "marker": {
             "colorbar": {
              "outlinewidth": 0,
              "ticks": ""
             }
            },
            "type": "scattermapbox"
           }
          ],
          "scatterpolar": [
           {
            "marker": {
             "colorbar": {
              "outlinewidth": 0,
              "ticks": ""
             }
            },
            "type": "scatterpolar"
           }
          ],
          "scatterpolargl": [
           {
            "marker": {
             "colorbar": {
              "outlinewidth": 0,
              "ticks": ""
             }
            },
            "type": "scatterpolargl"
           }
          ],
          "scatterternary": [
           {
            "marker": {
             "colorbar": {
              "outlinewidth": 0,
              "ticks": ""
             }
            },
            "type": "scatterternary"
           }
          ],
          "surface": [
           {
            "colorbar": {
             "outlinewidth": 0,
             "ticks": ""
            },
            "colorscale": [
             [
              0,
              "#0d0887"
             ],
             [
              0.1111111111111111,
              "#46039f"
             ],
             [
              0.2222222222222222,
              "#7201a8"
             ],
             [
              0.3333333333333333,
              "#9c179e"
             ],
             [
              0.4444444444444444,
              "#bd3786"
             ],
             [
              0.5555555555555556,
              "#d8576b"
             ],
             [
              0.6666666666666666,
              "#ed7953"
             ],
             [
              0.7777777777777778,
              "#fb9f3a"
             ],
             [
              0.8888888888888888,
              "#fdca26"
             ],
             [
              1,
              "#f0f921"
             ]
            ],
            "type": "surface"
           }
          ],
          "table": [
           {
            "cells": {
             "fill": {
              "color": "#EBF0F8"
             },
             "line": {
              "color": "white"
             }
            },
            "header": {
             "fill": {
              "color": "#C8D4E3"
             },
             "line": {
              "color": "white"
             }
            },
            "type": "table"
           }
          ]
         },
         "layout": {
          "annotationdefaults": {
           "arrowcolor": "#2a3f5f",
           "arrowhead": 0,
           "arrowwidth": 1
          },
          "autotypenumbers": "strict",
          "coloraxis": {
           "colorbar": {
            "outlinewidth": 0,
            "ticks": ""
           }
          },
          "colorscale": {
           "diverging": [
            [
             0,
             "#8e0152"
            ],
            [
             0.1,
             "#c51b7d"
            ],
            [
             0.2,
             "#de77ae"
            ],
            [
             0.3,
             "#f1b6da"
            ],
            [
             0.4,
             "#fde0ef"
            ],
            [
             0.5,
             "#f7f7f7"
            ],
            [
             0.6,
             "#e6f5d0"
            ],
            [
             0.7,
             "#b8e186"
            ],
            [
             0.8,
             "#7fbc41"
            ],
            [
             0.9,
             "#4d9221"
            ],
            [
             1,
             "#276419"
            ]
           ],
           "sequential": [
            [
             0,
             "#0d0887"
            ],
            [
             0.1111111111111111,
             "#46039f"
            ],
            [
             0.2222222222222222,
             "#7201a8"
            ],
            [
             0.3333333333333333,
             "#9c179e"
            ],
            [
             0.4444444444444444,
             "#bd3786"
            ],
            [
             0.5555555555555556,
             "#d8576b"
            ],
            [
             0.6666666666666666,
             "#ed7953"
            ],
            [
             0.7777777777777778,
             "#fb9f3a"
            ],
            [
             0.8888888888888888,
             "#fdca26"
            ],
            [
             1,
             "#f0f921"
            ]
           ],
           "sequentialminus": [
            [
             0,
             "#0d0887"
            ],
            [
             0.1111111111111111,
             "#46039f"
            ],
            [
             0.2222222222222222,
             "#7201a8"
            ],
            [
             0.3333333333333333,
             "#9c179e"
            ],
            [
             0.4444444444444444,
             "#bd3786"
            ],
            [
             0.5555555555555556,
             "#d8576b"
            ],
            [
             0.6666666666666666,
             "#ed7953"
            ],
            [
             0.7777777777777778,
             "#fb9f3a"
            ],
            [
             0.8888888888888888,
             "#fdca26"
            ],
            [
             1,
             "#f0f921"
            ]
           ]
          },
          "colorway": [
           "#636efa",
           "#EF553B",
           "#00cc96",
           "#ab63fa",
           "#FFA15A",
           "#19d3f3",
           "#FF6692",
           "#B6E880",
           "#FF97FF",
           "#FECB52"
          ],
          "font": {
           "color": "#2a3f5f"
          },
          "geo": {
           "bgcolor": "white",
           "lakecolor": "white",
           "landcolor": "#E5ECF6",
           "showlakes": true,
           "showland": true,
           "subunitcolor": "white"
          },
          "hoverlabel": {
           "align": "left"
          },
          "hovermode": "closest",
          "mapbox": {
           "style": "light"
          },
          "paper_bgcolor": "white",
          "plot_bgcolor": "#E5ECF6",
          "polar": {
           "angularaxis": {
            "gridcolor": "white",
            "linecolor": "white",
            "ticks": ""
           },
           "bgcolor": "#E5ECF6",
           "radialaxis": {
            "gridcolor": "white",
            "linecolor": "white",
            "ticks": ""
           }
          },
          "scene": {
           "xaxis": {
            "backgroundcolor": "#E5ECF6",
            "gridcolor": "white",
            "gridwidth": 2,
            "linecolor": "white",
            "showbackground": true,
            "ticks": "",
            "zerolinecolor": "white"
           },
           "yaxis": {
            "backgroundcolor": "#E5ECF6",
            "gridcolor": "white",
            "gridwidth": 2,
            "linecolor": "white",
            "showbackground": true,
            "ticks": "",
            "zerolinecolor": "white"
           },
           "zaxis": {
            "backgroundcolor": "#E5ECF6",
            "gridcolor": "white",
            "gridwidth": 2,
            "linecolor": "white",
            "showbackground": true,
            "ticks": "",
            "zerolinecolor": "white"
           }
          },
          "shapedefaults": {
           "line": {
            "color": "#2a3f5f"
           }
          },
          "ternary": {
           "aaxis": {
            "gridcolor": "white",
            "linecolor": "white",
            "ticks": ""
           },
           "baxis": {
            "gridcolor": "white",
            "linecolor": "white",
            "ticks": ""
           },
           "bgcolor": "#E5ECF6",
           "caxis": {
            "gridcolor": "white",
            "linecolor": "white",
            "ticks": ""
           }
          },
          "title": {
           "x": 0.05
          },
          "xaxis": {
           "automargin": true,
           "gridcolor": "white",
           "linecolor": "white",
           "ticks": "",
           "title": {
            "standoff": 15
           },
           "zerolinecolor": "white",
           "zerolinewidth": 2
          },
          "yaxis": {
           "automargin": true,
           "gridcolor": "white",
           "linecolor": "white",
           "ticks": "",
           "title": {
            "standoff": 15
           },
           "zerolinecolor": "white",
           "zerolinewidth": 2
          }
         }
        },
        "xaxis": {
         "title": {
          "text": "GDP (US$)"
         }
        },
        "yaxis": {
         "title": {
          "text": "Total Solid Waste (Ton)"
         }
        }
       }
      },
      "text/html": [
       "<div>                            <div id=\"0727eacc-6de5-419f-bd1e-c78358b52899\" class=\"plotly-graph-div\" style=\"height:525px; width:100%;\"></div>            <script type=\"text/javascript\">                require([\"plotly\"], function(Plotly) {                    window.PLOTLYENV=window.PLOTLYENV || {};                                    if (document.getElementById(\"0727eacc-6de5-419f-bd1e-c78358b52899\")) {                    Plotly.newPlot(                        \"0727eacc-6de5-419f-bd1e-c78358b52899\",                        [{\"mode\":\"markers\",\"name\":\"Train Data\",\"type\":\"scatter\",\"x\":[105119000000.0,824718518.5,1741580000000.0,374386000000.0,3012308946.0,103131000000.0,10862613622.0,95912590628.0,13996719329.0,79844294296.0,5209000000.0,1165839900.0,5542674765.0,8300784857.0,54639938780.0,222434000000.0,12911689659.0,15286612573.0,3861120000000.0,18245925331.0,7423709840.0,14046337855.0,12693562948.0,14191911512.0,1982518541.0,23308688906.0,24829107011.0,7600650038.0,48174235294.0,239462200.0,761428000000.0,13672802158.0,13469422941.0,2122450630.0,421142000000.0,731474000000.0,2004910000000.0,66787900000.0,268354900.0,278222000000.0,445075000000.0,12565772085.0,194647201.9,228471000000.0,19291104008.0,45231428571.0,37906944075.0,1211403704.0,23306213742.0,67234292583.0,24949065264.0,17281815734.0,2530547158.0,63951114302.0,175838000000.0,249697000000.0,1877810000000.0,7484113000.0,104915000000.0,258245000000.0,1119090000000.0,394652000000.0,1981845741.0,1182000000.0,15830768550.0,14332163266.0,930337960.0,1581380269.0,3324634256.0,1044711111.0,17133500000.0,61136873747.0,16874450215.0,5173759528.0,279385000000.0,5935769351.0,239511000000.0,10355974217.0,2830810000000.0,351432000000.0,118223430.1,3155065488.0,71104919108.0,303081000000.0,2017924900.0,23208326548.0,47271463.33,350104000000.0,398590000000.0,39007354359.0,638000000.0,11968699006.0,8871019823.0,24836714771.0,7220395248.0,512350059.4,181667000000.0,1661962963.0,533255000000.0,2715520000000.0,54174227309.0,405510000000.0,68558815112.0,6311000000.0,11314951343.0,209127000000.0,4942319041.0,39195716330.0,17477255562.0,1393490000000.0,55153707949.0,88941299734.0,7953156068.0,5496250694.0,574607407.4,5064870000000.0,64409647194.0,268966000000.0,51475016532.0,261921000000.0,12611218627.0,323430000000.0,26896660000.0,153930000000.0,89417190341.0,108108000000.0,1687450000000.0,907051000000.0,792967000000.0,2366213069.0,3070518100.0,15215714309.0,44502895915.0,363016000000.0,15291448212.0,16932434839.0,20202479538.0,77020015201.0,34055464655.0,14391686309.0,27089389787.0,35170037381.0,83975584254.0],\"y\":[2296164.75,31561.34925,25103034.0,1870000.0,1872016.0,2692691.98,1297844.48,6532786.97,2900000.0,4677306.52914,174815.44444444447,91013.0,329780.3125,1787400.0,1315390.375,13140000.0,1865645.67,1087446.75,50627876.0,351900.0,46000.0,438000.0,451200.0,3768759.16,101378.83030000002,2608268.0,1000000.0,454000.0,2930349.0,8614.0,35374156.0,492800.0,216253.156,77616.228,5617682.0,6079556.0,30088400.0,1472262.2151499996,9426.7455,30760000.0,5219715.5,256729.0,35723.8275,8356711.13,5628525.37,500000.0,1818501.3648,29536.113936927773,2454059.25,3538274.97825,769485.125,1937354.44,111314.05,1460000.0,1000990.016,5419832.5,79069584.0,82000.0,4170953.0,17885000.0,65200000.0,5400000.0,132555.0,32761.4145,1051694.575,2309852.45485,70225.489,48000.0,114997.24900398408,32892.14,1387000.0,9276995.0,238102.31,179251.5,6517000.0,60000.0,5268211.0,4384969.0,30771140.0,18457232.0,6191.7505,43000.0,490337.75,21000000.0,63875.0,727874.0,3989.4865,4910858.5,2910655.0,3270616.59,18989.49,3981200.0,1113300.0,225270.40625,1109030.45,17238.20175,4659740.0,30585.0,4765883.0,36748820.0,1052324.75,4149967.25,2859190.0,141500.0,1358850.53,3405000.0,2326099.17,2700000.0,800000.0,22408548.0,377942.0,4063910.0,319000.0,189389.59399999998,13176.0,42720000.0,4280000.0,3124497.75,2347401.5,9570300.0,1528816.29335,12150120.0,1648996.18,15242025.0,4213643.585,5297211.142533937,60000000.0,8805088.0,16125700.584,73457.0,564466.7,348841.1875,2529997.0,5679816.465,2500000.0,1449752.0,1248718.0,2756740.97135,839714.375,685936.01,1089000.0,7045049.836,2631650.0]},{\"mode\":\"markers\",\"name\":\"Test Data\",\"type\":\"scatter\",\"x\":[32250448249.0,25089976947.0,1616369646.0,1826073740.0,408060600.0,15990803570.0,1396570000000.0,302563000000.0,448120000000.0,364681000000.0,376823000000.0,4121733705.0,38474521277.0,4221373022.0,5642179170.0,61231149881.0,1570215577.0,13513809258.0,4471598727.0,3101787709.0,2220307319.0,40895322851.0,1439638443.0,51991634492.0,205327000000.0,1268870000000.0,136197000000.0,13578800000.0,250686000000.0,60752588976.0,544264000000.0,11417278045.0,445445000000.0,34186180695.0,95503088538.0,531283000000.0,119700000000.0,57726542785.0,852250191.0,50400746171.0,52091152228.0,31471100656.0,76331518669.0,163504000000.0,1646740000000.0,18362348888.0,595862000000.0,171158000000.0],\"y\":[2831291.0,2162027.69575,17174.68,193440.54,26039.57,2575251.11,13345000.0,14778497.33,27614830.07185,12982685.0,14631922.9,610222.09,951942.96945,78619.79914999999,211505.78,1260139.5086500002,179971.964375,596911.0,218199.47,24703.813200000004,1105983.0,2219052.0,289514.0,2040000.0,5615352.5,53100000.0,1750000.0,264000.0,5334854.5,1810037.5,26853366.0,198443.06,17910550.0,1768977.49,5595099.0,4618168.5,6852000.0,4000000.0,27399.09,14385226.02,2147596.47175,489511.71875,1734885.15,3780970.25,20452776.0,210854.44261891601,12758213.0,12378740.0]},{\"name\":\"Linear Regression Model\",\"type\":\"scatter\",\"x\":[47271463.33,51207097004.10445,102366922544.87889,153526748085.65332,204686573626.42776,255846399167.2022,307006224707.9767,358166050248.75116,409325875789.5256,460485701330.3,511645526871.07446,562805352411.8489,613965177952.6233,665125003493.3977,716284829034.1722,767444654574.9467,818604480115.7211,869764305656.4955,920924131197.2699,972083956738.0444,1023243782278.8188,1074403607819.5933,1125563433360.368,1176723258901.1423,1227883084441.9167,1279042909982.6912,1330202735523.4656,1381362561064.24,1432522386605.0146,1483682212145.789,1534842037686.5635,1586001863227.338,1637161688768.1123,1688321514308.8867,1739481339849.6611,1790641165390.4355,1841800990931.21,1892960816471.9846,1944120642012.759,1995280467553.5334,2046440293094.3079,2097600118635.0823,2148759944175.8567,2199919769716.6313,2251079595257.406,2302239420798.18,2353399246338.9546,2404559071879.729,2455718897420.5034,2506878722961.278,2558038548502.0522,2609198374042.8267,2660358199583.601,2711518025124.3755,2762677850665.15,2813837676205.9243,2864997501746.699,2916157327287.4736,2967317152828.248,3018476978369.0225,3069636803909.797,3120796629450.5713,3171956454991.3457,3223116280532.12,3274276106072.8945,3325435931613.669,3376595757154.4434,3427755582695.218,3478915408235.992,3530075233776.7666,3581235059317.541,3632394884858.3154,3683554710399.09,3734714535939.8647,3785874361480.639,3837034187021.4136,3888194012562.188,3939353838102.9624,3990513663643.737,4041673489184.511,4092833314725.2856,4143993140266.06,4195152965806.8345,4246312791347.609,4297472616888.3833,4348632442429.1577,4399792267969.933,4450952093510.707,4502111919051.481,4553271744592.256,4604431570133.03,4655591395673.805,4706751221214.579,4757911046755.354,4809070872296.128,4860230697836.902,4911390523377.677,4962550348918.451,5013710174459.226,5064870000000.0],\"y\":[2475653.114778686,3189150.050742246,3902646.986705807,4616143.922669367,5329640.858632928,6043137.794596488,6756634.730560048,7470131.666523609,8183628.602487169,8897125.53845073,9610622.474414289,10324119.410377849,11037616.346341409,11751113.282304969,12464610.21826853,13178107.15423209,13891604.09019565,14605101.02615921,15318597.96212277,16032094.898086332,16745591.834049892,17459088.77001345,18172585.705977015,18886082.641940575,19599579.57790414,20313076.5138677,21026573.44983126,21740070.38579482,22453567.321758382,23167064.257721942,23880561.1936855,24594058.12964906,25307555.06561262,26021052.00157618,26734548.93753974,27448045.8735033,28161542.80946686,28875039.745430425,29588536.681393985,30302033.617357545,31015530.553321104,31729027.489284664,32442524.425248224,33156021.361211788,33869518.29717535,34583015.233138904,35296512.16910247,36010009.105066024,36723506.04102959,37437002.97699314,38150499.91295671,38863996.84892026,39577493.78488383,40290990.72084738,41004487.65681095,41717984.5927745,42431481.528738074,43144978.46470163,43858475.400665194,44571972.33662875,45285469.27259231,45998966.20855587,46712463.14451943,47425960.08048299,48139457.01644655,48852953.95241011,49566450.88837367,50279947.82433723,50993444.76030079,51706941.69626435,52420438.63222791,53133935.56819147,53847432.50415503,54560929.440118596,55274426.37608216,55987923.312045716,56701420.24800928,57414917.183972836,58128414.1199364,58841911.055899955,59555407.99186352,60268904.927827075,60982401.86379064,61695898.799754195,62409395.73571776,63122892.671681315,63836389.607644886,64549886.54360844,65263383.479572006,65976880.41553556,66690377.351499125,67403874.28746268,68117371.22342624,68830868.1593898,69544365.09535336,70257862.03131692,70971358.96728048,71684855.90324403,72398352.83920759,73111849.77517116]}],                        {\"template\":{\"data\":{\"bar\":[{\"error_x\":{\"color\":\"#2a3f5f\"},\"error_y\":{\"color\":\"#2a3f5f\"},\"marker\":{\"line\":{\"color\":\"#E5ECF6\",\"width\":0.5},\"pattern\":{\"fillmode\":\"overlay\",\"size\":10,\"solidity\":0.2}},\"type\":\"bar\"}],\"barpolar\":[{\"marker\":{\"line\":{\"color\":\"#E5ECF6\",\"width\":0.5},\"pattern\":{\"fillmode\":\"overlay\",\"size\":10,\"solidity\":0.2}},\"type\":\"barpolar\"}],\"carpet\":[{\"aaxis\":{\"endlinecolor\":\"#2a3f5f\",\"gridcolor\":\"white\",\"linecolor\":\"white\",\"minorgridcolor\":\"white\",\"startlinecolor\":\"#2a3f5f\"},\"baxis\":{\"endlinecolor\":\"#2a3f5f\",\"gridcolor\":\"white\",\"linecolor\":\"white\",\"minorgridcolor\":\"white\",\"startlinecolor\":\"#2a3f5f\"},\"type\":\"carpet\"}],\"choropleth\":[{\"colorbar\":{\"outlinewidth\":0,\"ticks\":\"\"},\"type\":\"choropleth\"}],\"contour\":[{\"colorbar\":{\"outlinewidth\":0,\"ticks\":\"\"},\"colorscale\":[[0.0,\"#0d0887\"],[0.1111111111111111,\"#46039f\"],[0.2222222222222222,\"#7201a8\"],[0.3333333333333333,\"#9c179e\"],[0.4444444444444444,\"#bd3786\"],[0.5555555555555556,\"#d8576b\"],[0.6666666666666666,\"#ed7953\"],[0.7777777777777778,\"#fb9f3a\"],[0.8888888888888888,\"#fdca26\"],[1.0,\"#f0f921\"]],\"type\":\"contour\"}],\"contourcarpet\":[{\"colorbar\":{\"outlinewidth\":0,\"ticks\":\"\"},\"type\":\"contourcarpet\"}],\"heatmap\":[{\"colorbar\":{\"outlinewidth\":0,\"ticks\":\"\"},\"colorscale\":[[0.0,\"#0d0887\"],[0.1111111111111111,\"#46039f\"],[0.2222222222222222,\"#7201a8\"],[0.3333333333333333,\"#9c179e\"],[0.4444444444444444,\"#bd3786\"],[0.5555555555555556,\"#d8576b\"],[0.6666666666666666,\"#ed7953\"],[0.7777777777777778,\"#fb9f3a\"],[0.8888888888888888,\"#fdca26\"],[1.0,\"#f0f921\"]],\"type\":\"heatmap\"}],\"heatmapgl\":[{\"colorbar\":{\"outlinewidth\":0,\"ticks\":\"\"},\"colorscale\":[[0.0,\"#0d0887\"],[0.1111111111111111,\"#46039f\"],[0.2222222222222222,\"#7201a8\"],[0.3333333333333333,\"#9c179e\"],[0.4444444444444444,\"#bd3786\"],[0.5555555555555556,\"#d8576b\"],[0.6666666666666666,\"#ed7953\"],[0.7777777777777778,\"#fb9f3a\"],[0.8888888888888888,\"#fdca26\"],[1.0,\"#f0f921\"]],\"type\":\"heatmapgl\"}],\"histogram\":[{\"marker\":{\"pattern\":{\"fillmode\":\"overlay\",\"size\":10,\"solidity\":0.2}},\"type\":\"histogram\"}],\"histogram2d\":[{\"colorbar\":{\"outlinewidth\":0,\"ticks\":\"\"},\"colorscale\":[[0.0,\"#0d0887\"],[0.1111111111111111,\"#46039f\"],[0.2222222222222222,\"#7201a8\"],[0.3333333333333333,\"#9c179e\"],[0.4444444444444444,\"#bd3786\"],[0.5555555555555556,\"#d8576b\"],[0.6666666666666666,\"#ed7953\"],[0.7777777777777778,\"#fb9f3a\"],[0.8888888888888888,\"#fdca26\"],[1.0,\"#f0f921\"]],\"type\":\"histogram2d\"}],\"histogram2dcontour\":[{\"colorbar\":{\"outlinewidth\":0,\"ticks\":\"\"},\"colorscale\":[[0.0,\"#0d0887\"],[0.1111111111111111,\"#46039f\"],[0.2222222222222222,\"#7201a8\"],[0.3333333333333333,\"#9c179e\"],[0.4444444444444444,\"#bd3786\"],[0.5555555555555556,\"#d8576b\"],[0.6666666666666666,\"#ed7953\"],[0.7777777777777778,\"#fb9f3a\"],[0.8888888888888888,\"#fdca26\"],[1.0,\"#f0f921\"]],\"type\":\"histogram2dcontour\"}],\"mesh3d\":[{\"colorbar\":{\"outlinewidth\":0,\"ticks\":\"\"},\"type\":\"mesh3d\"}],\"parcoords\":[{\"line\":{\"colorbar\":{\"outlinewidth\":0,\"ticks\":\"\"}},\"type\":\"parcoords\"}],\"pie\":[{\"automargin\":true,\"type\":\"pie\"}],\"scatter\":[{\"marker\":{\"colorbar\":{\"outlinewidth\":0,\"ticks\":\"\"}},\"type\":\"scatter\"}],\"scatter3d\":[{\"line\":{\"colorbar\":{\"outlinewidth\":0,\"ticks\":\"\"}},\"marker\":{\"colorbar\":{\"outlinewidth\":0,\"ticks\":\"\"}},\"type\":\"scatter3d\"}],\"scattercarpet\":[{\"marker\":{\"colorbar\":{\"outlinewidth\":0,\"ticks\":\"\"}},\"type\":\"scattercarpet\"}],\"scattergeo\":[{\"marker\":{\"colorbar\":{\"outlinewidth\":0,\"ticks\":\"\"}},\"type\":\"scattergeo\"}],\"scattergl\":[{\"marker\":{\"colorbar\":{\"outlinewidth\":0,\"ticks\":\"\"}},\"type\":\"scattergl\"}],\"scattermapbox\":[{\"marker\":{\"colorbar\":{\"outlinewidth\":0,\"ticks\":\"\"}},\"type\":\"scattermapbox\"}],\"scatterpolar\":[{\"marker\":{\"colorbar\":{\"outlinewidth\":0,\"ticks\":\"\"}},\"type\":\"scatterpolar\"}],\"scatterpolargl\":[{\"marker\":{\"colorbar\":{\"outlinewidth\":0,\"ticks\":\"\"}},\"type\":\"scatterpolargl\"}],\"scatterternary\":[{\"marker\":{\"colorbar\":{\"outlinewidth\":0,\"ticks\":\"\"}},\"type\":\"scatterternary\"}],\"surface\":[{\"colorbar\":{\"outlinewidth\":0,\"ticks\":\"\"},\"colorscale\":[[0.0,\"#0d0887\"],[0.1111111111111111,\"#46039f\"],[0.2222222222222222,\"#7201a8\"],[0.3333333333333333,\"#9c179e\"],[0.4444444444444444,\"#bd3786\"],[0.5555555555555556,\"#d8576b\"],[0.6666666666666666,\"#ed7953\"],[0.7777777777777778,\"#fb9f3a\"],[0.8888888888888888,\"#fdca26\"],[1.0,\"#f0f921\"]],\"type\":\"surface\"}],\"table\":[{\"cells\":{\"fill\":{\"color\":\"#EBF0F8\"},\"line\":{\"color\":\"white\"}},\"header\":{\"fill\":{\"color\":\"#C8D4E3\"},\"line\":{\"color\":\"white\"}},\"type\":\"table\"}]},\"layout\":{\"annotationdefaults\":{\"arrowcolor\":\"#2a3f5f\",\"arrowhead\":0,\"arrowwidth\":1},\"autotypenumbers\":\"strict\",\"coloraxis\":{\"colorbar\":{\"outlinewidth\":0,\"ticks\":\"\"}},\"colorscale\":{\"diverging\":[[0,\"#8e0152\"],[0.1,\"#c51b7d\"],[0.2,\"#de77ae\"],[0.3,\"#f1b6da\"],[0.4,\"#fde0ef\"],[0.5,\"#f7f7f7\"],[0.6,\"#e6f5d0\"],[0.7,\"#b8e186\"],[0.8,\"#7fbc41\"],[0.9,\"#4d9221\"],[1,\"#276419\"]],\"sequential\":[[0.0,\"#0d0887\"],[0.1111111111111111,\"#46039f\"],[0.2222222222222222,\"#7201a8\"],[0.3333333333333333,\"#9c179e\"],[0.4444444444444444,\"#bd3786\"],[0.5555555555555556,\"#d8576b\"],[0.6666666666666666,\"#ed7953\"],[0.7777777777777778,\"#fb9f3a\"],[0.8888888888888888,\"#fdca26\"],[1.0,\"#f0f921\"]],\"sequentialminus\":[[0.0,\"#0d0887\"],[0.1111111111111111,\"#46039f\"],[0.2222222222222222,\"#7201a8\"],[0.3333333333333333,\"#9c179e\"],[0.4444444444444444,\"#bd3786\"],[0.5555555555555556,\"#d8576b\"],[0.6666666666666666,\"#ed7953\"],[0.7777777777777778,\"#fb9f3a\"],[0.8888888888888888,\"#fdca26\"],[1.0,\"#f0f921\"]]},\"colorway\":[\"#636efa\",\"#EF553B\",\"#00cc96\",\"#ab63fa\",\"#FFA15A\",\"#19d3f3\",\"#FF6692\",\"#B6E880\",\"#FF97FF\",\"#FECB52\"],\"font\":{\"color\":\"#2a3f5f\"},\"geo\":{\"bgcolor\":\"white\",\"lakecolor\":\"white\",\"landcolor\":\"#E5ECF6\",\"showlakes\":true,\"showland\":true,\"subunitcolor\":\"white\"},\"hoverlabel\":{\"align\":\"left\"},\"hovermode\":\"closest\",\"mapbox\":{\"style\":\"light\"},\"paper_bgcolor\":\"white\",\"plot_bgcolor\":\"#E5ECF6\",\"polar\":{\"angularaxis\":{\"gridcolor\":\"white\",\"linecolor\":\"white\",\"ticks\":\"\"},\"bgcolor\":\"#E5ECF6\",\"radialaxis\":{\"gridcolor\":\"white\",\"linecolor\":\"white\",\"ticks\":\"\"}},\"scene\":{\"xaxis\":{\"backgroundcolor\":\"#E5ECF6\",\"gridcolor\":\"white\",\"gridwidth\":2,\"linecolor\":\"white\",\"showbackground\":true,\"ticks\":\"\",\"zerolinecolor\":\"white\"},\"yaxis\":{\"backgroundcolor\":\"#E5ECF6\",\"gridcolor\":\"white\",\"gridwidth\":2,\"linecolor\":\"white\",\"showbackground\":true,\"ticks\":\"\",\"zerolinecolor\":\"white\"},\"zaxis\":{\"backgroundcolor\":\"#E5ECF6\",\"gridcolor\":\"white\",\"gridwidth\":2,\"linecolor\":\"white\",\"showbackground\":true,\"ticks\":\"\",\"zerolinecolor\":\"white\"}},\"shapedefaults\":{\"line\":{\"color\":\"#2a3f5f\"}},\"ternary\":{\"aaxis\":{\"gridcolor\":\"white\",\"linecolor\":\"white\",\"ticks\":\"\"},\"baxis\":{\"gridcolor\":\"white\",\"linecolor\":\"white\",\"ticks\":\"\"},\"bgcolor\":\"#E5ECF6\",\"caxis\":{\"gridcolor\":\"white\",\"linecolor\":\"white\",\"ticks\":\"\"}},\"title\":{\"x\":0.05},\"xaxis\":{\"automargin\":true,\"gridcolor\":\"white\",\"linecolor\":\"white\",\"ticks\":\"\",\"title\":{\"standoff\":15},\"zerolinecolor\":\"white\",\"zerolinewidth\":2},\"yaxis\":{\"automargin\":true,\"gridcolor\":\"white\",\"linecolor\":\"white\",\"ticks\":\"\",\"title\":{\"standoff\":15},\"zerolinecolor\":\"white\",\"zerolinewidth\":2}}},\"xaxis\":{\"title\":{\"text\":\"GDP (US$)\"}},\"yaxis\":{\"title\":{\"text\":\"Total Solid Waste (Ton)\"}}},                        {\"responsive\": true}                    ).then(function(){\n",
       "                            \n",
       "var gd = document.getElementById('0727eacc-6de5-419f-bd1e-c78358b52899');\n",
       "var x = new MutationObserver(function (mutations, observer) {{\n",
       "        var display = window.getComputedStyle(gd).display;\n",
       "        if (!display || display === 'none') {{\n",
       "            console.log([gd, 'removed!']);\n",
       "            Plotly.purge(gd);\n",
       "            observer.disconnect();\n",
       "        }}\n",
       "}});\n",
       "\n",
       "// Listen for the removal of the full notebook cells\n",
       "var notebookContainer = gd.closest('#notebook-container');\n",
       "if (notebookContainer) {{\n",
       "    x.observe(notebookContainer, {childList: true});\n",
       "}}\n",
       "\n",
       "// Listen for the clearing of the current output cell\n",
       "var outputEl = gd.closest('.output');\n",
       "if (outputEl) {{\n",
       "    x.observe(outputEl, {childList: true});\n",
       "}}\n",
       "\n",
       "                        })                };                });            </script>        </div>"
      ]
     },
     "metadata": {},
     "output_type": "display_data"
    }
   ],
   "source": [
    "x_range=np.linspace(train_x.min(), train_x.max(), num=100)\n",
    "y_r_range=linear_model.predict(x_range.reshape(-1,1))\n",
    "\n",
    "plot_train_x = train_x.reshape(1, -1)[0]\n",
    "plot_train_y = train_y.reshape(1, -1)[0]\n",
    "plot_test_x = test_x.reshape(1, -1)[0]\n",
    "plot_test_y = test_y.reshape(1, -1)[0]\n",
    "\n",
    "fig_model = go.Figure([\n",
    "    go.Scatter(x=plot_train_x, y=plot_train_y, name='Train Data', mode='markers'),\n",
    "    go.Scatter(x=plot_test_x, y=plot_test_y, name='Test Data', mode='markers'),\n",
    "    go.Scatter(x=x_range.reshape(1,-1)[0], y=y_r_range.reshape(1,-1)[0], name='Linear Regression Model')])\n",
    "fig_model.update_xaxes(title_text='GDP (US$)')\n",
    "fig_model.update_yaxes(title_text='Total Solid Waste (Ton)')\n",
    "fig_model.show()"
   ]
  },
  {
   "cell_type": "code",
   "execution_count": 263,
   "id": "respective-anxiety",
   "metadata": {},
   "outputs": [
    {
     "data": {
      "text/plain": [
       "4147392.1371088163"
      ]
     },
     "execution_count": 263,
     "metadata": {},
     "output_type": "execute_result"
    }
   ],
   "source": [
    "from sklearn.metrics import mean_absolute_error\n",
    "pred_y = linear_model.predict(test_x)\n",
    "mae_linear = mean_absolute_error(test_y, pred_y)\n",
    "mae_linear"
   ]
  },
  {
   "cell_type": "markdown",
   "id": "illegal-marking",
   "metadata": {},
   "source": [
    "### KNN Regression Model"
   ]
  },
  {
   "cell_type": "code",
   "execution_count": 264,
   "id": "material-interstate",
   "metadata": {},
   "outputs": [
    {
     "name": "stdout",
     "output_type": "stream",
     "text": [
      "     k           mae\n",
      "26  27  3.317104e+06\n"
     ]
    },
    {
     "data": {
      "application/vnd.plotly.v1+json": {
       "config": {
        "plotlyServerURL": "https://plot.ly"
       },
       "data": [
        {
         "mode": "markers",
         "name": "Train Data",
         "type": "scatter",
         "x": [
          105119000000,
          824718518.5,
          1741580000000,
          374386000000,
          3012308946,
          103131000000,
          10862613622,
          95912590628,
          13996719329,
          79844294296,
          5209000000,
          1165839900,
          5542674765,
          8300784857,
          54639938780,
          222434000000,
          12911689659,
          15286612573,
          3861120000000,
          18245925331,
          7423709840,
          14046337855,
          12693562948,
          14191911512,
          1982518541,
          23308688906,
          24829107011,
          7600650038,
          48174235294,
          239462200,
          761428000000,
          13672802158,
          13469422941,
          2122450630,
          421142000000,
          731474000000,
          2004910000000,
          66787900000,
          268354900,
          278222000000,
          445075000000,
          12565772085,
          194647201.9,
          228471000000,
          19291104008,
          45231428571,
          37906944075,
          1211403704,
          23306213742,
          67234292583,
          24949065264,
          17281815734,
          2530547158,
          63951114302,
          175838000000,
          249697000000,
          1877810000000,
          7484113000,
          104915000000,
          258245000000,
          1119090000000,
          394652000000,
          1981845741,
          1182000000,
          15830768550,
          14332163266,
          930337960,
          1581380269,
          3324634256,
          1044711111,
          17133500000,
          61136873747,
          16874450215,
          5173759528,
          279385000000,
          5935769351,
          239511000000,
          10355974217,
          2830810000000,
          351432000000,
          118223430.1,
          3155065488,
          71104919108,
          303081000000,
          2017924900,
          23208326548,
          47271463.33,
          350104000000,
          398590000000,
          39007354359,
          638000000,
          11968699006,
          8871019823,
          24836714771,
          7220395248,
          512350059.4,
          181667000000,
          1661962963,
          533255000000,
          2715520000000,
          54174227309,
          405510000000,
          68558815112,
          6311000000,
          11314951343,
          209127000000,
          4942319041,
          39195716330,
          17477255562,
          1393490000000,
          55153707949,
          88941299734,
          7953156068,
          5496250694,
          574607407.4,
          5064870000000,
          64409647194,
          268966000000,
          51475016532,
          261921000000,
          12611218627,
          323430000000,
          26896660000,
          153930000000,
          89417190341,
          108108000000,
          1687450000000,
          907051000000,
          792967000000,
          2366213069,
          3070518100,
          15215714309,
          44502895915,
          363016000000,
          15291448212,
          16932434839,
          20202479538,
          77020015201,
          34055464655,
          14391686309,
          27089389787,
          35170037381,
          83975584254
         ],
         "y": [
          2296164.75,
          31561.34925,
          25103034,
          1870000,
          1872016,
          2692691.98,
          1297844.48,
          6532786.97,
          2900000,
          4677306.52914,
          174815.44444444447,
          91013,
          329780.3125,
          1787400,
          1315390.375,
          13140000,
          1865645.67,
          1087446.75,
          50627876,
          351900,
          46000,
          438000,
          451200,
          3768759.16,
          101378.83030000002,
          2608268,
          1000000,
          454000,
          2930349,
          8614,
          35374156,
          492800,
          216253.156,
          77616.228,
          5617682,
          6079556,
          30088400,
          1472262.2151499996,
          9426.7455,
          30760000,
          5219715.5,
          256729,
          35723.8275,
          8356711.13,
          5628525.37,
          500000,
          1818501.3648,
          29536.113936927773,
          2454059.25,
          3538274.97825,
          769485.125,
          1937354.44,
          111314.05,
          1460000,
          1000990.016,
          5419832.5,
          79069584,
          82000,
          4170953,
          17885000,
          65200000,
          5400000,
          132555,
          32761.4145,
          1051694.575,
          2309852.45485,
          70225.489,
          48000,
          114997.24900398408,
          32892.14,
          1387000,
          9276995,
          238102.31,
          179251.5,
          6517000,
          60000,
          5268211,
          4384969,
          30771140,
          18457232,
          6191.7505,
          43000,
          490337.75,
          21000000,
          63875,
          727874,
          3989.4865,
          4910858.5,
          2910655,
          3270616.59,
          18989.49,
          3981200,
          1113300,
          225270.40625,
          1109030.45,
          17238.20175,
          4659740,
          30585,
          4765883,
          36748820,
          1052324.75,
          4149967.25,
          2859190,
          141500,
          1358850.53,
          3405000,
          2326099.17,
          2700000,
          800000,
          22408548,
          377942,
          4063910,
          319000,
          189389.59399999998,
          13176,
          42720000,
          4280000,
          3124497.75,
          2347401.5,
          9570300,
          1528816.29335,
          12150120,
          1648996.18,
          15242025,
          4213643.585,
          5297211.142533937,
          60000000,
          8805088,
          16125700.584,
          73457,
          564466.7,
          348841.1875,
          2529997,
          5679816.465,
          2500000,
          1449752,
          1248718,
          2756740.97135,
          839714.375,
          685936.01,
          1089000,
          7045049.836,
          2631650
         ]
        },
        {
         "mode": "markers",
         "name": "Test Data",
         "type": "scatter",
         "x": [
          32250448249,
          25089976947,
          1616369646,
          1826073740,
          408060600,
          15990803570,
          1396570000000,
          302563000000,
          448120000000,
          364681000000,
          376823000000,
          4121733705,
          38474521277,
          4221373022,
          5642179170,
          61231149881,
          1570215577,
          13513809258,
          4471598727,
          3101787709,
          2220307319,
          40895322851,
          1439638443,
          51991634492,
          205327000000,
          1268870000000,
          136197000000,
          13578800000,
          250686000000,
          60752588976,
          544264000000,
          11417278045,
          445445000000,
          34186180695,
          95503088538,
          531283000000,
          119700000000,
          57726542785,
          852250191,
          50400746171,
          52091152228,
          31471100656,
          76331518669,
          163504000000,
          1646740000000,
          18362348888,
          595862000000,
          171158000000
         ],
         "y": [
          2831291,
          2162027.69575,
          17174.68,
          193440.54,
          26039.57,
          2575251.11,
          13345000,
          14778497.33,
          27614830.07185,
          12982685,
          14631922.9,
          610222.09,
          951942.96945,
          78619.79914999999,
          211505.78,
          1260139.5086500002,
          179971.964375,
          596911,
          218199.47,
          24703.813200000004,
          1105983,
          2219052,
          289514,
          2040000,
          5615352.5,
          53100000,
          1750000,
          264000,
          5334854.5,
          1810037.5,
          26853366,
          198443.06,
          17910550,
          1768977.49,
          5595099,
          4618168.5,
          6852000,
          4000000,
          27399.09,
          14385226.02,
          2147596.47175,
          489511.71875,
          1734885.15,
          3780970.25,
          20452776,
          210854.44261891601,
          12758213,
          12378740
         ]
        },
        {
         "name": "Linear Regression Model",
         "type": "scatter",
         "x": [
          47271463.33,
          51207097004.10445,
          102366922544.87889,
          153526748085.65332,
          204686573626.42776,
          255846399167.2022,
          307006224707.9767,
          358166050248.75116,
          409325875789.5256,
          460485701330.3,
          511645526871.07446,
          562805352411.8489,
          613965177952.6233,
          665125003493.3977,
          716284829034.1722,
          767444654574.9467,
          818604480115.7211,
          869764305656.4955,
          920924131197.2699,
          972083956738.0444,
          1023243782278.8188,
          1074403607819.5933,
          1125563433360.368,
          1176723258901.1423,
          1227883084441.9167,
          1279042909982.6912,
          1330202735523.4656,
          1381362561064.24,
          1432522386605.0146,
          1483682212145.789,
          1534842037686.5635,
          1586001863227.338,
          1637161688768.1123,
          1688321514308.8867,
          1739481339849.6611,
          1790641165390.4355,
          1841800990931.21,
          1892960816471.9846,
          1944120642012.759,
          1995280467553.5334,
          2046440293094.3079,
          2097600118635.0823,
          2148759944175.8567,
          2199919769716.6313,
          2251079595257.406,
          2302239420798.18,
          2353399246338.9546,
          2404559071879.729,
          2455718897420.5034,
          2506878722961.278,
          2558038548502.0522,
          2609198374042.8267,
          2660358199583.601,
          2711518025124.3755,
          2762677850665.15,
          2813837676205.9243,
          2864997501746.699,
          2916157327287.4736,
          2967317152828.248,
          3018476978369.0225,
          3069636803909.797,
          3120796629450.5713,
          3171956454991.3457,
          3223116280532.12,
          3274276106072.8945,
          3325435931613.669,
          3376595757154.4434,
          3427755582695.218,
          3478915408235.992,
          3530075233776.7666,
          3581235059317.541,
          3632394884858.3154,
          3683554710399.09,
          3734714535939.8647,
          3785874361480.639,
          3837034187021.4136,
          3888194012562.188,
          3939353838102.9624,
          3990513663643.737,
          4041673489184.511,
          4092833314725.2856,
          4143993140266.06,
          4195152965806.8345,
          4246312791347.609,
          4297472616888.3833,
          4348632442429.1577,
          4399792267969.933,
          4450952093510.707,
          4502111919051.481,
          4553271744592.256,
          4604431570133.03,
          4655591395673.805,
          4706751221214.579,
          4757911046755.354,
          4809070872296.128,
          4860230697836.902,
          4911390523377.677,
          4962550348918.451,
          5013710174459.226,
          5064870000000
         ],
         "y": [
          2475653.114778686,
          3189150.050742246,
          3902646.986705807,
          4616143.922669367,
          5329640.858632928,
          6043137.794596488,
          6756634.730560048,
          7470131.666523609,
          8183628.602487169,
          8897125.53845073,
          9610622.474414289,
          10324119.410377849,
          11037616.346341409,
          11751113.282304969,
          12464610.21826853,
          13178107.15423209,
          13891604.09019565,
          14605101.02615921,
          15318597.96212277,
          16032094.898086332,
          16745591.834049892,
          17459088.77001345,
          18172585.705977015,
          18886082.641940575,
          19599579.57790414,
          20313076.5138677,
          21026573.44983126,
          21740070.38579482,
          22453567.321758382,
          23167064.257721942,
          23880561.1936855,
          24594058.12964906,
          25307555.06561262,
          26021052.00157618,
          26734548.93753974,
          27448045.8735033,
          28161542.80946686,
          28875039.745430425,
          29588536.681393985,
          30302033.617357545,
          31015530.553321104,
          31729027.489284664,
          32442524.425248224,
          33156021.361211788,
          33869518.29717535,
          34583015.233138904,
          35296512.16910247,
          36010009.105066024,
          36723506.04102959,
          37437002.97699314,
          38150499.91295671,
          38863996.84892026,
          39577493.78488383,
          40290990.72084738,
          41004487.65681095,
          41717984.5927745,
          42431481.528738074,
          43144978.46470163,
          43858475.400665194,
          44571972.33662875,
          45285469.27259231,
          45998966.20855587,
          46712463.14451943,
          47425960.08048299,
          48139457.01644655,
          48852953.95241011,
          49566450.88837367,
          50279947.82433723,
          50993444.76030079,
          51706941.69626435,
          52420438.63222791,
          53133935.56819147,
          53847432.50415503,
          54560929.440118596,
          55274426.37608216,
          55987923.312045716,
          56701420.24800928,
          57414917.183972836,
          58128414.1199364,
          58841911.055899955,
          59555407.99186352,
          60268904.927827075,
          60982401.86379064,
          61695898.799754195,
          62409395.73571776,
          63122892.671681315,
          63836389.607644886,
          64549886.54360844,
          65263383.479572006,
          65976880.41553556,
          66690377.351499125,
          67403874.28746268,
          68117371.22342624,
          68830868.1593898,
          69544365.09535336,
          70257862.03131692,
          70971358.96728048,
          71684855.90324403,
          72398352.83920759,
          73111849.77517116
         ]
        },
        {
         "name": "KNN Regression Model",
         "type": "scatter",
         "x": [
          47271463.33,
          51207097004.10445,
          102366922544.87889,
          153526748085.65332,
          204686573626.42776,
          255846399167.2022,
          307006224707.9767,
          358166050248.75116,
          409325875789.5256,
          460485701330.3,
          511645526871.07446,
          562805352411.8489,
          613965177952.6233,
          665125003493.3977,
          716284829034.1722,
          767444654574.9467,
          818604480115.7211,
          869764305656.4955,
          920924131197.2699,
          972083956738.0444,
          1023243782278.8188,
          1074403607819.5933,
          1125563433360.368,
          1176723258901.1423,
          1227883084441.9167,
          1279042909982.6912,
          1330202735523.4656,
          1381362561064.24,
          1432522386605.0146,
          1483682212145.789,
          1534842037686.5635,
          1586001863227.338,
          1637161688768.1123,
          1688321514308.8867,
          1739481339849.6611,
          1790641165390.4355,
          1841800990931.21,
          1892960816471.9846,
          1944120642012.759,
          1995280467553.5334,
          2046440293094.3079,
          2097600118635.0823,
          2148759944175.8567,
          2199919769716.6313,
          2251079595257.406,
          2302239420798.18,
          2353399246338.9546,
          2404559071879.729,
          2455718897420.5034,
          2506878722961.278,
          2558038548502.0522,
          2609198374042.8267,
          2660358199583.601,
          2711518025124.3755,
          2762677850665.15,
          2813837676205.9243,
          2864997501746.699,
          2916157327287.4736,
          2967317152828.248,
          3018476978369.0225,
          3069636803909.797,
          3120796629450.5713,
          3171956454991.3457,
          3223116280532.12,
          3274276106072.8945,
          3325435931613.669,
          3376595757154.4434,
          3427755582695.218,
          3478915408235.992,
          3530075233776.7666,
          3581235059317.541,
          3632394884858.3154,
          3683554710399.09,
          3734714535939.8647,
          3785874361480.639,
          3837034187021.4136,
          3888194012562.188,
          3939353838102.9624,
          3990513663643.737,
          4041673489184.511,
          4092833314725.2856,
          4143993140266.06,
          4195152965806.8345,
          4246312791347.609,
          4297472616888.3833,
          4348632442429.1577,
          4399792267969.933,
          4450952093510.707,
          4502111919051.481,
          4553271744592.256,
          4604431570133.03,
          4655591395673.805,
          4706751221214.579,
          4757911046755.354,
          4809070872296.128,
          4860230697836.902,
          4911390523377.677,
          4962550348918.451,
          5013710174459.226,
          5064870000000
         ],
         "y": [
          220766.6383607745,
          2320598.765437037,
          3517635.743941627,
          4477628.181200886,
          7414148.669408295,
          8217324.609390145,
          8277025.296427183,
          8299059.740871627,
          8299059.740871627,
          9553146.26337037,
          9585874.988703704,
          9874915.654777778,
          9874915.654777778,
          12117147.50662963,
          12117147.50662963,
          12117147.50662963,
          12820982.617740741,
          12820982.617740741,
          12820982.617740741,
          14556538.173296297,
          15176772.353666667,
          17910156.538851853,
          17910156.538851853,
          18823807.187000003,
          18823807.187000003,
          18823807.187000003,
          18823807.187000003,
          18823807.187000003,
          18823807.187000003,
          18823807.187000003,
          19522467.187000003,
          20307683.483296297,
          20307683.483296297,
          20307683.483296297,
          20307683.483296297,
          20307683.483296297,
          20307683.483296297,
          20307683.483296297,
          20307683.483296297,
          20307683.483296297,
          20307683.483296297,
          22067067.862925928,
          22067067.862925928,
          22067067.862925928,
          22067067.862925928,
          22067067.862925928,
          22067067.862925928,
          22067067.862925928,
          22067067.862925928,
          22067067.862925928,
          22067067.862925928,
          22067067.862925928,
          22067067.862925928,
          22510030.82588889,
          22510030.82588889,
          22510030.82588889,
          22510030.82588889,
          22510030.82588889,
          22510030.82588889,
          22510030.82588889,
          22510030.82588889,
          22510030.82588889,
          22510030.82588889,
          22510030.82588889,
          22510030.82588889,
          22510030.82588889,
          22510030.82588889,
          22510030.82588889,
          22510030.82588889,
          22510030.82588889,
          22510030.82588889,
          22510030.82588889,
          22510030.82588889,
          22510030.82588889,
          22510030.82588889,
          22510030.82588889,
          22510030.82588889,
          22510030.82588889,
          22510030.82588889,
          22510030.82588889,
          22510030.82588889,
          22510030.82588889,
          22510030.82588889,
          22510030.82588889,
          22510030.82588889,
          22510030.82588889,
          22510030.82588889,
          22510030.82588889,
          22510030.82588889,
          22510030.82588889,
          22510030.82588889,
          22510030.82588889,
          22510030.82588889,
          22510030.82588889,
          22510030.82588889,
          22510030.82588889,
          22510030.82588889,
          22510030.82588889,
          22510030.82588889,
          22510030.82588889
         ]
        }
       ],
       "layout": {
        "template": {
         "data": {
          "bar": [
           {
            "error_x": {
             "color": "#2a3f5f"
            },
            "error_y": {
             "color": "#2a3f5f"
            },
            "marker": {
             "line": {
              "color": "#E5ECF6",
              "width": 0.5
             },
             "pattern": {
              "fillmode": "overlay",
              "size": 10,
              "solidity": 0.2
             }
            },
            "type": "bar"
           }
          ],
          "barpolar": [
           {
            "marker": {
             "line": {
              "color": "#E5ECF6",
              "width": 0.5
             },
             "pattern": {
              "fillmode": "overlay",
              "size": 10,
              "solidity": 0.2
             }
            },
            "type": "barpolar"
           }
          ],
          "carpet": [
           {
            "aaxis": {
             "endlinecolor": "#2a3f5f",
             "gridcolor": "white",
             "linecolor": "white",
             "minorgridcolor": "white",
             "startlinecolor": "#2a3f5f"
            },
            "baxis": {
             "endlinecolor": "#2a3f5f",
             "gridcolor": "white",
             "linecolor": "white",
             "minorgridcolor": "white",
             "startlinecolor": "#2a3f5f"
            },
            "type": "carpet"
           }
          ],
          "choropleth": [
           {
            "colorbar": {
             "outlinewidth": 0,
             "ticks": ""
            },
            "type": "choropleth"
           }
          ],
          "contour": [
           {
            "colorbar": {
             "outlinewidth": 0,
             "ticks": ""
            },
            "colorscale": [
             [
              0,
              "#0d0887"
             ],
             [
              0.1111111111111111,
              "#46039f"
             ],
             [
              0.2222222222222222,
              "#7201a8"
             ],
             [
              0.3333333333333333,
              "#9c179e"
             ],
             [
              0.4444444444444444,
              "#bd3786"
             ],
             [
              0.5555555555555556,
              "#d8576b"
             ],
             [
              0.6666666666666666,
              "#ed7953"
             ],
             [
              0.7777777777777778,
              "#fb9f3a"
             ],
             [
              0.8888888888888888,
              "#fdca26"
             ],
             [
              1,
              "#f0f921"
             ]
            ],
            "type": "contour"
           }
          ],
          "contourcarpet": [
           {
            "colorbar": {
             "outlinewidth": 0,
             "ticks": ""
            },
            "type": "contourcarpet"
           }
          ],
          "heatmap": [
           {
            "colorbar": {
             "outlinewidth": 0,
             "ticks": ""
            },
            "colorscale": [
             [
              0,
              "#0d0887"
             ],
             [
              0.1111111111111111,
              "#46039f"
             ],
             [
              0.2222222222222222,
              "#7201a8"
             ],
             [
              0.3333333333333333,
              "#9c179e"
             ],
             [
              0.4444444444444444,
              "#bd3786"
             ],
             [
              0.5555555555555556,
              "#d8576b"
             ],
             [
              0.6666666666666666,
              "#ed7953"
             ],
             [
              0.7777777777777778,
              "#fb9f3a"
             ],
             [
              0.8888888888888888,
              "#fdca26"
             ],
             [
              1,
              "#f0f921"
             ]
            ],
            "type": "heatmap"
           }
          ],
          "heatmapgl": [
           {
            "colorbar": {
             "outlinewidth": 0,
             "ticks": ""
            },
            "colorscale": [
             [
              0,
              "#0d0887"
             ],
             [
              0.1111111111111111,
              "#46039f"
             ],
             [
              0.2222222222222222,
              "#7201a8"
             ],
             [
              0.3333333333333333,
              "#9c179e"
             ],
             [
              0.4444444444444444,
              "#bd3786"
             ],
             [
              0.5555555555555556,
              "#d8576b"
             ],
             [
              0.6666666666666666,
              "#ed7953"
             ],
             [
              0.7777777777777778,
              "#fb9f3a"
             ],
             [
              0.8888888888888888,
              "#fdca26"
             ],
             [
              1,
              "#f0f921"
             ]
            ],
            "type": "heatmapgl"
           }
          ],
          "histogram": [
           {
            "marker": {
             "pattern": {
              "fillmode": "overlay",
              "size": 10,
              "solidity": 0.2
             }
            },
            "type": "histogram"
           }
          ],
          "histogram2d": [
           {
            "colorbar": {
             "outlinewidth": 0,
             "ticks": ""
            },
            "colorscale": [
             [
              0,
              "#0d0887"
             ],
             [
              0.1111111111111111,
              "#46039f"
             ],
             [
              0.2222222222222222,
              "#7201a8"
             ],
             [
              0.3333333333333333,
              "#9c179e"
             ],
             [
              0.4444444444444444,
              "#bd3786"
             ],
             [
              0.5555555555555556,
              "#d8576b"
             ],
             [
              0.6666666666666666,
              "#ed7953"
             ],
             [
              0.7777777777777778,
              "#fb9f3a"
             ],
             [
              0.8888888888888888,
              "#fdca26"
             ],
             [
              1,
              "#f0f921"
             ]
            ],
            "type": "histogram2d"
           }
          ],
          "histogram2dcontour": [
           {
            "colorbar": {
             "outlinewidth": 0,
             "ticks": ""
            },
            "colorscale": [
             [
              0,
              "#0d0887"
             ],
             [
              0.1111111111111111,
              "#46039f"
             ],
             [
              0.2222222222222222,
              "#7201a8"
             ],
             [
              0.3333333333333333,
              "#9c179e"
             ],
             [
              0.4444444444444444,
              "#bd3786"
             ],
             [
              0.5555555555555556,
              "#d8576b"
             ],
             [
              0.6666666666666666,
              "#ed7953"
             ],
             [
              0.7777777777777778,
              "#fb9f3a"
             ],
             [
              0.8888888888888888,
              "#fdca26"
             ],
             [
              1,
              "#f0f921"
             ]
            ],
            "type": "histogram2dcontour"
           }
          ],
          "mesh3d": [
           {
            "colorbar": {
             "outlinewidth": 0,
             "ticks": ""
            },
            "type": "mesh3d"
           }
          ],
          "parcoords": [
           {
            "line": {
             "colorbar": {
              "outlinewidth": 0,
              "ticks": ""
             }
            },
            "type": "parcoords"
           }
          ],
          "pie": [
           {
            "automargin": true,
            "type": "pie"
           }
          ],
          "scatter": [
           {
            "marker": {
             "colorbar": {
              "outlinewidth": 0,
              "ticks": ""
             }
            },
            "type": "scatter"
           }
          ],
          "scatter3d": [
           {
            "line": {
             "colorbar": {
              "outlinewidth": 0,
              "ticks": ""
             }
            },
            "marker": {
             "colorbar": {
              "outlinewidth": 0,
              "ticks": ""
             }
            },
            "type": "scatter3d"
           }
          ],
          "scattercarpet": [
           {
            "marker": {
             "colorbar": {
              "outlinewidth": 0,
              "ticks": ""
             }
            },
            "type": "scattercarpet"
           }
          ],
          "scattergeo": [
           {
            "marker": {
             "colorbar": {
              "outlinewidth": 0,
              "ticks": ""
             }
            },
            "type": "scattergeo"
           }
          ],
          "scattergl": [
           {
            "marker": {
             "colorbar": {
              "outlinewidth": 0,
              "ticks": ""
             }
            },
            "type": "scattergl"
           }
          ],
          "scattermapbox": [
           {
            "marker": {
             "colorbar": {
              "outlinewidth": 0,
              "ticks": ""
             }
            },
            "type": "scattermapbox"
           }
          ],
          "scatterpolar": [
           {
            "marker": {
             "colorbar": {
              "outlinewidth": 0,
              "ticks": ""
             }
            },
            "type": "scatterpolar"
           }
          ],
          "scatterpolargl": [
           {
            "marker": {
             "colorbar": {
              "outlinewidth": 0,
              "ticks": ""
             }
            },
            "type": "scatterpolargl"
           }
          ],
          "scatterternary": [
           {
            "marker": {
             "colorbar": {
              "outlinewidth": 0,
              "ticks": ""
             }
            },
            "type": "scatterternary"
           }
          ],
          "surface": [
           {
            "colorbar": {
             "outlinewidth": 0,
             "ticks": ""
            },
            "colorscale": [
             [
              0,
              "#0d0887"
             ],
             [
              0.1111111111111111,
              "#46039f"
             ],
             [
              0.2222222222222222,
              "#7201a8"
             ],
             [
              0.3333333333333333,
              "#9c179e"
             ],
             [
              0.4444444444444444,
              "#bd3786"
             ],
             [
              0.5555555555555556,
              "#d8576b"
             ],
             [
              0.6666666666666666,
              "#ed7953"
             ],
             [
              0.7777777777777778,
              "#fb9f3a"
             ],
             [
              0.8888888888888888,
              "#fdca26"
             ],
             [
              1,
              "#f0f921"
             ]
            ],
            "type": "surface"
           }
          ],
          "table": [
           {
            "cells": {
             "fill": {
              "color": "#EBF0F8"
             },
             "line": {
              "color": "white"
             }
            },
            "header": {
             "fill": {
              "color": "#C8D4E3"
             },
             "line": {
              "color": "white"
             }
            },
            "type": "table"
           }
          ]
         },
         "layout": {
          "annotationdefaults": {
           "arrowcolor": "#2a3f5f",
           "arrowhead": 0,
           "arrowwidth": 1
          },
          "autotypenumbers": "strict",
          "coloraxis": {
           "colorbar": {
            "outlinewidth": 0,
            "ticks": ""
           }
          },
          "colorscale": {
           "diverging": [
            [
             0,
             "#8e0152"
            ],
            [
             0.1,
             "#c51b7d"
            ],
            [
             0.2,
             "#de77ae"
            ],
            [
             0.3,
             "#f1b6da"
            ],
            [
             0.4,
             "#fde0ef"
            ],
            [
             0.5,
             "#f7f7f7"
            ],
            [
             0.6,
             "#e6f5d0"
            ],
            [
             0.7,
             "#b8e186"
            ],
            [
             0.8,
             "#7fbc41"
            ],
            [
             0.9,
             "#4d9221"
            ],
            [
             1,
             "#276419"
            ]
           ],
           "sequential": [
            [
             0,
             "#0d0887"
            ],
            [
             0.1111111111111111,
             "#46039f"
            ],
            [
             0.2222222222222222,
             "#7201a8"
            ],
            [
             0.3333333333333333,
             "#9c179e"
            ],
            [
             0.4444444444444444,
             "#bd3786"
            ],
            [
             0.5555555555555556,
             "#d8576b"
            ],
            [
             0.6666666666666666,
             "#ed7953"
            ],
            [
             0.7777777777777778,
             "#fb9f3a"
            ],
            [
             0.8888888888888888,
             "#fdca26"
            ],
            [
             1,
             "#f0f921"
            ]
           ],
           "sequentialminus": [
            [
             0,
             "#0d0887"
            ],
            [
             0.1111111111111111,
             "#46039f"
            ],
            [
             0.2222222222222222,
             "#7201a8"
            ],
            [
             0.3333333333333333,
             "#9c179e"
            ],
            [
             0.4444444444444444,
             "#bd3786"
            ],
            [
             0.5555555555555556,
             "#d8576b"
            ],
            [
             0.6666666666666666,
             "#ed7953"
            ],
            [
             0.7777777777777778,
             "#fb9f3a"
            ],
            [
             0.8888888888888888,
             "#fdca26"
            ],
            [
             1,
             "#f0f921"
            ]
           ]
          },
          "colorway": [
           "#636efa",
           "#EF553B",
           "#00cc96",
           "#ab63fa",
           "#FFA15A",
           "#19d3f3",
           "#FF6692",
           "#B6E880",
           "#FF97FF",
           "#FECB52"
          ],
          "font": {
           "color": "#2a3f5f"
          },
          "geo": {
           "bgcolor": "white",
           "lakecolor": "white",
           "landcolor": "#E5ECF6",
           "showlakes": true,
           "showland": true,
           "subunitcolor": "white"
          },
          "hoverlabel": {
           "align": "left"
          },
          "hovermode": "closest",
          "mapbox": {
           "style": "light"
          },
          "paper_bgcolor": "white",
          "plot_bgcolor": "#E5ECF6",
          "polar": {
           "angularaxis": {
            "gridcolor": "white",
            "linecolor": "white",
            "ticks": ""
           },
           "bgcolor": "#E5ECF6",
           "radialaxis": {
            "gridcolor": "white",
            "linecolor": "white",
            "ticks": ""
           }
          },
          "scene": {
           "xaxis": {
            "backgroundcolor": "#E5ECF6",
            "gridcolor": "white",
            "gridwidth": 2,
            "linecolor": "white",
            "showbackground": true,
            "ticks": "",
            "zerolinecolor": "white"
           },
           "yaxis": {
            "backgroundcolor": "#E5ECF6",
            "gridcolor": "white",
            "gridwidth": 2,
            "linecolor": "white",
            "showbackground": true,
            "ticks": "",
            "zerolinecolor": "white"
           },
           "zaxis": {
            "backgroundcolor": "#E5ECF6",
            "gridcolor": "white",
            "gridwidth": 2,
            "linecolor": "white",
            "showbackground": true,
            "ticks": "",
            "zerolinecolor": "white"
           }
          },
          "shapedefaults": {
           "line": {
            "color": "#2a3f5f"
           }
          },
          "ternary": {
           "aaxis": {
            "gridcolor": "white",
            "linecolor": "white",
            "ticks": ""
           },
           "baxis": {
            "gridcolor": "white",
            "linecolor": "white",
            "ticks": ""
           },
           "bgcolor": "#E5ECF6",
           "caxis": {
            "gridcolor": "white",
            "linecolor": "white",
            "ticks": ""
           }
          },
          "title": {
           "x": 0.05
          },
          "xaxis": {
           "automargin": true,
           "gridcolor": "white",
           "linecolor": "white",
           "ticks": "",
           "title": {
            "standoff": 15
           },
           "zerolinecolor": "white",
           "zerolinewidth": 2
          },
          "yaxis": {
           "automargin": true,
           "gridcolor": "white",
           "linecolor": "white",
           "ticks": "",
           "title": {
            "standoff": 15
           },
           "zerolinecolor": "white",
           "zerolinewidth": 2
          }
         }
        },
        "xaxis": {
         "title": {
          "text": "GDP (US$)"
         }
        },
        "yaxis": {
         "title": {
          "text": "Total Solid Waste (Ton)"
         }
        }
       }
      },
      "text/html": [
       "<div>                            <div id=\"5bb29b7a-2dca-40c9-b7a0-52b29331c8a5\" class=\"plotly-graph-div\" style=\"height:525px; width:100%;\"></div>            <script type=\"text/javascript\">                require([\"plotly\"], function(Plotly) {                    window.PLOTLYENV=window.PLOTLYENV || {};                                    if (document.getElementById(\"5bb29b7a-2dca-40c9-b7a0-52b29331c8a5\")) {                    Plotly.newPlot(                        \"5bb29b7a-2dca-40c9-b7a0-52b29331c8a5\",                        [{\"mode\":\"markers\",\"name\":\"Train Data\",\"type\":\"scatter\",\"x\":[105119000000.0,824718518.5,1741580000000.0,374386000000.0,3012308946.0,103131000000.0,10862613622.0,95912590628.0,13996719329.0,79844294296.0,5209000000.0,1165839900.0,5542674765.0,8300784857.0,54639938780.0,222434000000.0,12911689659.0,15286612573.0,3861120000000.0,18245925331.0,7423709840.0,14046337855.0,12693562948.0,14191911512.0,1982518541.0,23308688906.0,24829107011.0,7600650038.0,48174235294.0,239462200.0,761428000000.0,13672802158.0,13469422941.0,2122450630.0,421142000000.0,731474000000.0,2004910000000.0,66787900000.0,268354900.0,278222000000.0,445075000000.0,12565772085.0,194647201.9,228471000000.0,19291104008.0,45231428571.0,37906944075.0,1211403704.0,23306213742.0,67234292583.0,24949065264.0,17281815734.0,2530547158.0,63951114302.0,175838000000.0,249697000000.0,1877810000000.0,7484113000.0,104915000000.0,258245000000.0,1119090000000.0,394652000000.0,1981845741.0,1182000000.0,15830768550.0,14332163266.0,930337960.0,1581380269.0,3324634256.0,1044711111.0,17133500000.0,61136873747.0,16874450215.0,5173759528.0,279385000000.0,5935769351.0,239511000000.0,10355974217.0,2830810000000.0,351432000000.0,118223430.1,3155065488.0,71104919108.0,303081000000.0,2017924900.0,23208326548.0,47271463.33,350104000000.0,398590000000.0,39007354359.0,638000000.0,11968699006.0,8871019823.0,24836714771.0,7220395248.0,512350059.4,181667000000.0,1661962963.0,533255000000.0,2715520000000.0,54174227309.0,405510000000.0,68558815112.0,6311000000.0,11314951343.0,209127000000.0,4942319041.0,39195716330.0,17477255562.0,1393490000000.0,55153707949.0,88941299734.0,7953156068.0,5496250694.0,574607407.4,5064870000000.0,64409647194.0,268966000000.0,51475016532.0,261921000000.0,12611218627.0,323430000000.0,26896660000.0,153930000000.0,89417190341.0,108108000000.0,1687450000000.0,907051000000.0,792967000000.0,2366213069.0,3070518100.0,15215714309.0,44502895915.0,363016000000.0,15291448212.0,16932434839.0,20202479538.0,77020015201.0,34055464655.0,14391686309.0,27089389787.0,35170037381.0,83975584254.0],\"y\":[2296164.75,31561.34925,25103034.0,1870000.0,1872016.0,2692691.98,1297844.48,6532786.97,2900000.0,4677306.52914,174815.44444444447,91013.0,329780.3125,1787400.0,1315390.375,13140000.0,1865645.67,1087446.75,50627876.0,351900.0,46000.0,438000.0,451200.0,3768759.16,101378.83030000002,2608268.0,1000000.0,454000.0,2930349.0,8614.0,35374156.0,492800.0,216253.156,77616.228,5617682.0,6079556.0,30088400.0,1472262.2151499996,9426.7455,30760000.0,5219715.5,256729.0,35723.8275,8356711.13,5628525.37,500000.0,1818501.3648,29536.113936927773,2454059.25,3538274.97825,769485.125,1937354.44,111314.05,1460000.0,1000990.016,5419832.5,79069584.0,82000.0,4170953.0,17885000.0,65200000.0,5400000.0,132555.0,32761.4145,1051694.575,2309852.45485,70225.489,48000.0,114997.24900398408,32892.14,1387000.0,9276995.0,238102.31,179251.5,6517000.0,60000.0,5268211.0,4384969.0,30771140.0,18457232.0,6191.7505,43000.0,490337.75,21000000.0,63875.0,727874.0,3989.4865,4910858.5,2910655.0,3270616.59,18989.49,3981200.0,1113300.0,225270.40625,1109030.45,17238.20175,4659740.0,30585.0,4765883.0,36748820.0,1052324.75,4149967.25,2859190.0,141500.0,1358850.53,3405000.0,2326099.17,2700000.0,800000.0,22408548.0,377942.0,4063910.0,319000.0,189389.59399999998,13176.0,42720000.0,4280000.0,3124497.75,2347401.5,9570300.0,1528816.29335,12150120.0,1648996.18,15242025.0,4213643.585,5297211.142533937,60000000.0,8805088.0,16125700.584,73457.0,564466.7,348841.1875,2529997.0,5679816.465,2500000.0,1449752.0,1248718.0,2756740.97135,839714.375,685936.01,1089000.0,7045049.836,2631650.0]},{\"mode\":\"markers\",\"name\":\"Test Data\",\"type\":\"scatter\",\"x\":[32250448249.0,25089976947.0,1616369646.0,1826073740.0,408060600.0,15990803570.0,1396570000000.0,302563000000.0,448120000000.0,364681000000.0,376823000000.0,4121733705.0,38474521277.0,4221373022.0,5642179170.0,61231149881.0,1570215577.0,13513809258.0,4471598727.0,3101787709.0,2220307319.0,40895322851.0,1439638443.0,51991634492.0,205327000000.0,1268870000000.0,136197000000.0,13578800000.0,250686000000.0,60752588976.0,544264000000.0,11417278045.0,445445000000.0,34186180695.0,95503088538.0,531283000000.0,119700000000.0,57726542785.0,852250191.0,50400746171.0,52091152228.0,31471100656.0,76331518669.0,163504000000.0,1646740000000.0,18362348888.0,595862000000.0,171158000000.0],\"y\":[2831291.0,2162027.69575,17174.68,193440.54,26039.57,2575251.11,13345000.0,14778497.33,27614830.07185,12982685.0,14631922.9,610222.09,951942.96945,78619.79914999999,211505.78,1260139.5086500002,179971.964375,596911.0,218199.47,24703.813200000004,1105983.0,2219052.0,289514.0,2040000.0,5615352.5,53100000.0,1750000.0,264000.0,5334854.5,1810037.5,26853366.0,198443.06,17910550.0,1768977.49,5595099.0,4618168.5,6852000.0,4000000.0,27399.09,14385226.02,2147596.47175,489511.71875,1734885.15,3780970.25,20452776.0,210854.44261891601,12758213.0,12378740.0]},{\"name\":\"Linear Regression Model\",\"type\":\"scatter\",\"x\":[47271463.33,51207097004.10445,102366922544.87889,153526748085.65332,204686573626.42776,255846399167.2022,307006224707.9767,358166050248.75116,409325875789.5256,460485701330.3,511645526871.07446,562805352411.8489,613965177952.6233,665125003493.3977,716284829034.1722,767444654574.9467,818604480115.7211,869764305656.4955,920924131197.2699,972083956738.0444,1023243782278.8188,1074403607819.5933,1125563433360.368,1176723258901.1423,1227883084441.9167,1279042909982.6912,1330202735523.4656,1381362561064.24,1432522386605.0146,1483682212145.789,1534842037686.5635,1586001863227.338,1637161688768.1123,1688321514308.8867,1739481339849.6611,1790641165390.4355,1841800990931.21,1892960816471.9846,1944120642012.759,1995280467553.5334,2046440293094.3079,2097600118635.0823,2148759944175.8567,2199919769716.6313,2251079595257.406,2302239420798.18,2353399246338.9546,2404559071879.729,2455718897420.5034,2506878722961.278,2558038548502.0522,2609198374042.8267,2660358199583.601,2711518025124.3755,2762677850665.15,2813837676205.9243,2864997501746.699,2916157327287.4736,2967317152828.248,3018476978369.0225,3069636803909.797,3120796629450.5713,3171956454991.3457,3223116280532.12,3274276106072.8945,3325435931613.669,3376595757154.4434,3427755582695.218,3478915408235.992,3530075233776.7666,3581235059317.541,3632394884858.3154,3683554710399.09,3734714535939.8647,3785874361480.639,3837034187021.4136,3888194012562.188,3939353838102.9624,3990513663643.737,4041673489184.511,4092833314725.2856,4143993140266.06,4195152965806.8345,4246312791347.609,4297472616888.3833,4348632442429.1577,4399792267969.933,4450952093510.707,4502111919051.481,4553271744592.256,4604431570133.03,4655591395673.805,4706751221214.579,4757911046755.354,4809070872296.128,4860230697836.902,4911390523377.677,4962550348918.451,5013710174459.226,5064870000000.0],\"y\":[2475653.114778686,3189150.050742246,3902646.986705807,4616143.922669367,5329640.858632928,6043137.794596488,6756634.730560048,7470131.666523609,8183628.602487169,8897125.53845073,9610622.474414289,10324119.410377849,11037616.346341409,11751113.282304969,12464610.21826853,13178107.15423209,13891604.09019565,14605101.02615921,15318597.96212277,16032094.898086332,16745591.834049892,17459088.77001345,18172585.705977015,18886082.641940575,19599579.57790414,20313076.5138677,21026573.44983126,21740070.38579482,22453567.321758382,23167064.257721942,23880561.1936855,24594058.12964906,25307555.06561262,26021052.00157618,26734548.93753974,27448045.8735033,28161542.80946686,28875039.745430425,29588536.681393985,30302033.617357545,31015530.553321104,31729027.489284664,32442524.425248224,33156021.361211788,33869518.29717535,34583015.233138904,35296512.16910247,36010009.105066024,36723506.04102959,37437002.97699314,38150499.91295671,38863996.84892026,39577493.78488383,40290990.72084738,41004487.65681095,41717984.5927745,42431481.528738074,43144978.46470163,43858475.400665194,44571972.33662875,45285469.27259231,45998966.20855587,46712463.14451943,47425960.08048299,48139457.01644655,48852953.95241011,49566450.88837367,50279947.82433723,50993444.76030079,51706941.69626435,52420438.63222791,53133935.56819147,53847432.50415503,54560929.440118596,55274426.37608216,55987923.312045716,56701420.24800928,57414917.183972836,58128414.1199364,58841911.055899955,59555407.99186352,60268904.927827075,60982401.86379064,61695898.799754195,62409395.73571776,63122892.671681315,63836389.607644886,64549886.54360844,65263383.479572006,65976880.41553556,66690377.351499125,67403874.28746268,68117371.22342624,68830868.1593898,69544365.09535336,70257862.03131692,70971358.96728048,71684855.90324403,72398352.83920759,73111849.77517116]},{\"name\":\"KNN Regression Model\",\"type\":\"scatter\",\"x\":[47271463.33,51207097004.10445,102366922544.87889,153526748085.65332,204686573626.42776,255846399167.2022,307006224707.9767,358166050248.75116,409325875789.5256,460485701330.3,511645526871.07446,562805352411.8489,613965177952.6233,665125003493.3977,716284829034.1722,767444654574.9467,818604480115.7211,869764305656.4955,920924131197.2699,972083956738.0444,1023243782278.8188,1074403607819.5933,1125563433360.368,1176723258901.1423,1227883084441.9167,1279042909982.6912,1330202735523.4656,1381362561064.24,1432522386605.0146,1483682212145.789,1534842037686.5635,1586001863227.338,1637161688768.1123,1688321514308.8867,1739481339849.6611,1790641165390.4355,1841800990931.21,1892960816471.9846,1944120642012.759,1995280467553.5334,2046440293094.3079,2097600118635.0823,2148759944175.8567,2199919769716.6313,2251079595257.406,2302239420798.18,2353399246338.9546,2404559071879.729,2455718897420.5034,2506878722961.278,2558038548502.0522,2609198374042.8267,2660358199583.601,2711518025124.3755,2762677850665.15,2813837676205.9243,2864997501746.699,2916157327287.4736,2967317152828.248,3018476978369.0225,3069636803909.797,3120796629450.5713,3171956454991.3457,3223116280532.12,3274276106072.8945,3325435931613.669,3376595757154.4434,3427755582695.218,3478915408235.992,3530075233776.7666,3581235059317.541,3632394884858.3154,3683554710399.09,3734714535939.8647,3785874361480.639,3837034187021.4136,3888194012562.188,3939353838102.9624,3990513663643.737,4041673489184.511,4092833314725.2856,4143993140266.06,4195152965806.8345,4246312791347.609,4297472616888.3833,4348632442429.1577,4399792267969.933,4450952093510.707,4502111919051.481,4553271744592.256,4604431570133.03,4655591395673.805,4706751221214.579,4757911046755.354,4809070872296.128,4860230697836.902,4911390523377.677,4962550348918.451,5013710174459.226,5064870000000.0],\"y\":[220766.6383607745,2320598.765437037,3517635.743941627,4477628.181200886,7414148.669408295,8217324.609390145,8277025.296427183,8299059.740871627,8299059.740871627,9553146.26337037,9585874.988703704,9874915.654777778,9874915.654777778,12117147.50662963,12117147.50662963,12117147.50662963,12820982.617740741,12820982.617740741,12820982.617740741,14556538.173296297,15176772.353666667,17910156.538851853,17910156.538851853,18823807.187000003,18823807.187000003,18823807.187000003,18823807.187000003,18823807.187000003,18823807.187000003,18823807.187000003,19522467.187000003,20307683.483296297,20307683.483296297,20307683.483296297,20307683.483296297,20307683.483296297,20307683.483296297,20307683.483296297,20307683.483296297,20307683.483296297,20307683.483296297,22067067.862925928,22067067.862925928,22067067.862925928,22067067.862925928,22067067.862925928,22067067.862925928,22067067.862925928,22067067.862925928,22067067.862925928,22067067.862925928,22067067.862925928,22067067.862925928,22510030.82588889,22510030.82588889,22510030.82588889,22510030.82588889,22510030.82588889,22510030.82588889,22510030.82588889,22510030.82588889,22510030.82588889,22510030.82588889,22510030.82588889,22510030.82588889,22510030.82588889,22510030.82588889,22510030.82588889,22510030.82588889,22510030.82588889,22510030.82588889,22510030.82588889,22510030.82588889,22510030.82588889,22510030.82588889,22510030.82588889,22510030.82588889,22510030.82588889,22510030.82588889,22510030.82588889,22510030.82588889,22510030.82588889,22510030.82588889,22510030.82588889,22510030.82588889,22510030.82588889,22510030.82588889,22510030.82588889,22510030.82588889,22510030.82588889,22510030.82588889,22510030.82588889,22510030.82588889,22510030.82588889,22510030.82588889,22510030.82588889,22510030.82588889,22510030.82588889,22510030.82588889,22510030.82588889]}],                        {\"template\":{\"data\":{\"bar\":[{\"error_x\":{\"color\":\"#2a3f5f\"},\"error_y\":{\"color\":\"#2a3f5f\"},\"marker\":{\"line\":{\"color\":\"#E5ECF6\",\"width\":0.5},\"pattern\":{\"fillmode\":\"overlay\",\"size\":10,\"solidity\":0.2}},\"type\":\"bar\"}],\"barpolar\":[{\"marker\":{\"line\":{\"color\":\"#E5ECF6\",\"width\":0.5},\"pattern\":{\"fillmode\":\"overlay\",\"size\":10,\"solidity\":0.2}},\"type\":\"barpolar\"}],\"carpet\":[{\"aaxis\":{\"endlinecolor\":\"#2a3f5f\",\"gridcolor\":\"white\",\"linecolor\":\"white\",\"minorgridcolor\":\"white\",\"startlinecolor\":\"#2a3f5f\"},\"baxis\":{\"endlinecolor\":\"#2a3f5f\",\"gridcolor\":\"white\",\"linecolor\":\"white\",\"minorgridcolor\":\"white\",\"startlinecolor\":\"#2a3f5f\"},\"type\":\"carpet\"}],\"choropleth\":[{\"colorbar\":{\"outlinewidth\":0,\"ticks\":\"\"},\"type\":\"choropleth\"}],\"contour\":[{\"colorbar\":{\"outlinewidth\":0,\"ticks\":\"\"},\"colorscale\":[[0.0,\"#0d0887\"],[0.1111111111111111,\"#46039f\"],[0.2222222222222222,\"#7201a8\"],[0.3333333333333333,\"#9c179e\"],[0.4444444444444444,\"#bd3786\"],[0.5555555555555556,\"#d8576b\"],[0.6666666666666666,\"#ed7953\"],[0.7777777777777778,\"#fb9f3a\"],[0.8888888888888888,\"#fdca26\"],[1.0,\"#f0f921\"]],\"type\":\"contour\"}],\"contourcarpet\":[{\"colorbar\":{\"outlinewidth\":0,\"ticks\":\"\"},\"type\":\"contourcarpet\"}],\"heatmap\":[{\"colorbar\":{\"outlinewidth\":0,\"ticks\":\"\"},\"colorscale\":[[0.0,\"#0d0887\"],[0.1111111111111111,\"#46039f\"],[0.2222222222222222,\"#7201a8\"],[0.3333333333333333,\"#9c179e\"],[0.4444444444444444,\"#bd3786\"],[0.5555555555555556,\"#d8576b\"],[0.6666666666666666,\"#ed7953\"],[0.7777777777777778,\"#fb9f3a\"],[0.8888888888888888,\"#fdca26\"],[1.0,\"#f0f921\"]],\"type\":\"heatmap\"}],\"heatmapgl\":[{\"colorbar\":{\"outlinewidth\":0,\"ticks\":\"\"},\"colorscale\":[[0.0,\"#0d0887\"],[0.1111111111111111,\"#46039f\"],[0.2222222222222222,\"#7201a8\"],[0.3333333333333333,\"#9c179e\"],[0.4444444444444444,\"#bd3786\"],[0.5555555555555556,\"#d8576b\"],[0.6666666666666666,\"#ed7953\"],[0.7777777777777778,\"#fb9f3a\"],[0.8888888888888888,\"#fdca26\"],[1.0,\"#f0f921\"]],\"type\":\"heatmapgl\"}],\"histogram\":[{\"marker\":{\"pattern\":{\"fillmode\":\"overlay\",\"size\":10,\"solidity\":0.2}},\"type\":\"histogram\"}],\"histogram2d\":[{\"colorbar\":{\"outlinewidth\":0,\"ticks\":\"\"},\"colorscale\":[[0.0,\"#0d0887\"],[0.1111111111111111,\"#46039f\"],[0.2222222222222222,\"#7201a8\"],[0.3333333333333333,\"#9c179e\"],[0.4444444444444444,\"#bd3786\"],[0.5555555555555556,\"#d8576b\"],[0.6666666666666666,\"#ed7953\"],[0.7777777777777778,\"#fb9f3a\"],[0.8888888888888888,\"#fdca26\"],[1.0,\"#f0f921\"]],\"type\":\"histogram2d\"}],\"histogram2dcontour\":[{\"colorbar\":{\"outlinewidth\":0,\"ticks\":\"\"},\"colorscale\":[[0.0,\"#0d0887\"],[0.1111111111111111,\"#46039f\"],[0.2222222222222222,\"#7201a8\"],[0.3333333333333333,\"#9c179e\"],[0.4444444444444444,\"#bd3786\"],[0.5555555555555556,\"#d8576b\"],[0.6666666666666666,\"#ed7953\"],[0.7777777777777778,\"#fb9f3a\"],[0.8888888888888888,\"#fdca26\"],[1.0,\"#f0f921\"]],\"type\":\"histogram2dcontour\"}],\"mesh3d\":[{\"colorbar\":{\"outlinewidth\":0,\"ticks\":\"\"},\"type\":\"mesh3d\"}],\"parcoords\":[{\"line\":{\"colorbar\":{\"outlinewidth\":0,\"ticks\":\"\"}},\"type\":\"parcoords\"}],\"pie\":[{\"automargin\":true,\"type\":\"pie\"}],\"scatter\":[{\"marker\":{\"colorbar\":{\"outlinewidth\":0,\"ticks\":\"\"}},\"type\":\"scatter\"}],\"scatter3d\":[{\"line\":{\"colorbar\":{\"outlinewidth\":0,\"ticks\":\"\"}},\"marker\":{\"colorbar\":{\"outlinewidth\":0,\"ticks\":\"\"}},\"type\":\"scatter3d\"}],\"scattercarpet\":[{\"marker\":{\"colorbar\":{\"outlinewidth\":0,\"ticks\":\"\"}},\"type\":\"scattercarpet\"}],\"scattergeo\":[{\"marker\":{\"colorbar\":{\"outlinewidth\":0,\"ticks\":\"\"}},\"type\":\"scattergeo\"}],\"scattergl\":[{\"marker\":{\"colorbar\":{\"outlinewidth\":0,\"ticks\":\"\"}},\"type\":\"scattergl\"}],\"scattermapbox\":[{\"marker\":{\"colorbar\":{\"outlinewidth\":0,\"ticks\":\"\"}},\"type\":\"scattermapbox\"}],\"scatterpolar\":[{\"marker\":{\"colorbar\":{\"outlinewidth\":0,\"ticks\":\"\"}},\"type\":\"scatterpolar\"}],\"scatterpolargl\":[{\"marker\":{\"colorbar\":{\"outlinewidth\":0,\"ticks\":\"\"}},\"type\":\"scatterpolargl\"}],\"scatterternary\":[{\"marker\":{\"colorbar\":{\"outlinewidth\":0,\"ticks\":\"\"}},\"type\":\"scatterternary\"}],\"surface\":[{\"colorbar\":{\"outlinewidth\":0,\"ticks\":\"\"},\"colorscale\":[[0.0,\"#0d0887\"],[0.1111111111111111,\"#46039f\"],[0.2222222222222222,\"#7201a8\"],[0.3333333333333333,\"#9c179e\"],[0.4444444444444444,\"#bd3786\"],[0.5555555555555556,\"#d8576b\"],[0.6666666666666666,\"#ed7953\"],[0.7777777777777778,\"#fb9f3a\"],[0.8888888888888888,\"#fdca26\"],[1.0,\"#f0f921\"]],\"type\":\"surface\"}],\"table\":[{\"cells\":{\"fill\":{\"color\":\"#EBF0F8\"},\"line\":{\"color\":\"white\"}},\"header\":{\"fill\":{\"color\":\"#C8D4E3\"},\"line\":{\"color\":\"white\"}},\"type\":\"table\"}]},\"layout\":{\"annotationdefaults\":{\"arrowcolor\":\"#2a3f5f\",\"arrowhead\":0,\"arrowwidth\":1},\"autotypenumbers\":\"strict\",\"coloraxis\":{\"colorbar\":{\"outlinewidth\":0,\"ticks\":\"\"}},\"colorscale\":{\"diverging\":[[0,\"#8e0152\"],[0.1,\"#c51b7d\"],[0.2,\"#de77ae\"],[0.3,\"#f1b6da\"],[0.4,\"#fde0ef\"],[0.5,\"#f7f7f7\"],[0.6,\"#e6f5d0\"],[0.7,\"#b8e186\"],[0.8,\"#7fbc41\"],[0.9,\"#4d9221\"],[1,\"#276419\"]],\"sequential\":[[0.0,\"#0d0887\"],[0.1111111111111111,\"#46039f\"],[0.2222222222222222,\"#7201a8\"],[0.3333333333333333,\"#9c179e\"],[0.4444444444444444,\"#bd3786\"],[0.5555555555555556,\"#d8576b\"],[0.6666666666666666,\"#ed7953\"],[0.7777777777777778,\"#fb9f3a\"],[0.8888888888888888,\"#fdca26\"],[1.0,\"#f0f921\"]],\"sequentialminus\":[[0.0,\"#0d0887\"],[0.1111111111111111,\"#46039f\"],[0.2222222222222222,\"#7201a8\"],[0.3333333333333333,\"#9c179e\"],[0.4444444444444444,\"#bd3786\"],[0.5555555555555556,\"#d8576b\"],[0.6666666666666666,\"#ed7953\"],[0.7777777777777778,\"#fb9f3a\"],[0.8888888888888888,\"#fdca26\"],[1.0,\"#f0f921\"]]},\"colorway\":[\"#636efa\",\"#EF553B\",\"#00cc96\",\"#ab63fa\",\"#FFA15A\",\"#19d3f3\",\"#FF6692\",\"#B6E880\",\"#FF97FF\",\"#FECB52\"],\"font\":{\"color\":\"#2a3f5f\"},\"geo\":{\"bgcolor\":\"white\",\"lakecolor\":\"white\",\"landcolor\":\"#E5ECF6\",\"showlakes\":true,\"showland\":true,\"subunitcolor\":\"white\"},\"hoverlabel\":{\"align\":\"left\"},\"hovermode\":\"closest\",\"mapbox\":{\"style\":\"light\"},\"paper_bgcolor\":\"white\",\"plot_bgcolor\":\"#E5ECF6\",\"polar\":{\"angularaxis\":{\"gridcolor\":\"white\",\"linecolor\":\"white\",\"ticks\":\"\"},\"bgcolor\":\"#E5ECF6\",\"radialaxis\":{\"gridcolor\":\"white\",\"linecolor\":\"white\",\"ticks\":\"\"}},\"scene\":{\"xaxis\":{\"backgroundcolor\":\"#E5ECF6\",\"gridcolor\":\"white\",\"gridwidth\":2,\"linecolor\":\"white\",\"showbackground\":true,\"ticks\":\"\",\"zerolinecolor\":\"white\"},\"yaxis\":{\"backgroundcolor\":\"#E5ECF6\",\"gridcolor\":\"white\",\"gridwidth\":2,\"linecolor\":\"white\",\"showbackground\":true,\"ticks\":\"\",\"zerolinecolor\":\"white\"},\"zaxis\":{\"backgroundcolor\":\"#E5ECF6\",\"gridcolor\":\"white\",\"gridwidth\":2,\"linecolor\":\"white\",\"showbackground\":true,\"ticks\":\"\",\"zerolinecolor\":\"white\"}},\"shapedefaults\":{\"line\":{\"color\":\"#2a3f5f\"}},\"ternary\":{\"aaxis\":{\"gridcolor\":\"white\",\"linecolor\":\"white\",\"ticks\":\"\"},\"baxis\":{\"gridcolor\":\"white\",\"linecolor\":\"white\",\"ticks\":\"\"},\"bgcolor\":\"#E5ECF6\",\"caxis\":{\"gridcolor\":\"white\",\"linecolor\":\"white\",\"ticks\":\"\"}},\"title\":{\"x\":0.05},\"xaxis\":{\"automargin\":true,\"gridcolor\":\"white\",\"linecolor\":\"white\",\"ticks\":\"\",\"title\":{\"standoff\":15},\"zerolinecolor\":\"white\",\"zerolinewidth\":2},\"yaxis\":{\"automargin\":true,\"gridcolor\":\"white\",\"linecolor\":\"white\",\"ticks\":\"\",\"title\":{\"standoff\":15},\"zerolinecolor\":\"white\",\"zerolinewidth\":2}}},\"xaxis\":{\"title\":{\"text\":\"GDP (US$)\"}},\"yaxis\":{\"title\":{\"text\":\"Total Solid Waste (Ton)\"}}},                        {\"responsive\": true}                    ).then(function(){\n",
       "                            \n",
       "var gd = document.getElementById('5bb29b7a-2dca-40c9-b7a0-52b29331c8a5');\n",
       "var x = new MutationObserver(function (mutations, observer) {{\n",
       "        var display = window.getComputedStyle(gd).display;\n",
       "        if (!display || display === 'none') {{\n",
       "            console.log([gd, 'removed!']);\n",
       "            Plotly.purge(gd);\n",
       "            observer.disconnect();\n",
       "        }}\n",
       "}});\n",
       "\n",
       "// Listen for the removal of the full notebook cells\n",
       "var notebookContainer = gd.closest('#notebook-container');\n",
       "if (notebookContainer) {{\n",
       "    x.observe(notebookContainer, {childList: true});\n",
       "}}\n",
       "\n",
       "// Listen for the clearing of the current output cell\n",
       "var outputEl = gd.closest('.output');\n",
       "if (outputEl) {{\n",
       "    x.observe(outputEl, {childList: true});\n",
       "}}\n",
       "\n",
       "                        })                };                });            </script>        </div>"
      ]
     },
     "metadata": {},
     "output_type": "display_data"
    }
   ],
   "source": [
    "import sklearn.neighbors\n",
    "mae_dict = {}\n",
    "for i in range(1,50):\n",
    "    model = sklearn.neighbors.KNeighborsRegressor(n_neighbors=i)\n",
    "    model.fit(train_x, train_y)\n",
    "    pred_y = model.predict(test_x)\n",
    "    mae = mean_absolute_error(pred_y, test_y)\n",
    "    mae_dict[i] = mae\n",
    "\n",
    "df_dict = pd.DataFrame(list(mae_dict.items()), columns=['k', 'mae'])\n",
    "print(df_dict[df_dict.mae==df_dict.mae.min()])\n",
    "\n",
    "knn_model = sklearn.neighbors.KNeighborsRegressor(n_neighbors=27)\n",
    "knn_model.fit(train_x, train_y)\n",
    "\n",
    "y_k_range = knn_model.predict(x_range.reshape(-1, 1))\n",
    "\n",
    "fig_model.add_trace(go.Scatter(x=x_range.reshape(1,-1)[0], y=y_k_range.reshape(1,-1)[0], name='KNN Regression Model'))\n"
   ]
  },
  {
   "cell_type": "code",
   "execution_count": 265,
   "id": "guilty-damage",
   "metadata": {},
   "outputs": [
    {
     "data": {
      "text/plain": [
       "3317104.4938168353"
      ]
     },
     "execution_count": 265,
     "metadata": {},
     "output_type": "execute_result"
    }
   ],
   "source": [
    "pred_y_knn = knn_model.predict(test_x)\n",
    "mae_knn = mean_absolute_error(pred_y_knn, test_y)\n",
    "mae_knn"
   ]
  },
  {
   "cell_type": "markdown",
   "id": "caring-chest",
   "metadata": {},
   "source": [
    "# Conclusion"
   ]
  },
  {
   "cell_type": "code",
   "execution_count": 267,
   "id": "professional-prison",
   "metadata": {},
   "outputs": [
    {
     "name": "stdout",
     "output_type": "stream",
     "text": [
      "mae_linear: 4147392.1371088163\n",
      "mae_knn: 3317104.4938168353\n"
     ]
    }
   ],
   "source": [
    "print('mae_linear: {}'.format(mae_linear))\n",
    "print('mae_knn: {}'.format(mae_knn))"
   ]
  },
  {
   "cell_type": "markdown",
   "id": "variable-watershed",
   "metadata": {},
   "source": [
    "For numeric result, it should be knn a win in anyway. Yet with the visualizaion of the model, I find that knn performs really bad when gdp is high. So I came into a conclusion that knn would be a better model with a lower GDP, and linear regression would give a more accurate result with higher GDP. "
   ]
  }
 ],
 "metadata": {
  "kernelspec": {
   "display_name": "Python 3",
   "language": "python",
   "name": "python3"
  },
  "language_info": {
   "codemirror_mode": {
    "name": "ipython",
    "version": 3
   },
   "file_extension": ".py",
   "mimetype": "text/x-python",
   "name": "python",
   "nbconvert_exporter": "python",
   "pygments_lexer": "ipython3",
   "version": "3.7.0"
  }
 },
 "nbformat": 4,
 "nbformat_minor": 5
}
